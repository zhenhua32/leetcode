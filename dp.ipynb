{
    "cells": [
        {
            "cell_type": "code",
            "execution_count": 1,
            "source": [
                "def fibonacci(n):\r\n",
                "    if n == 0:\r\n",
                "        return 0\r\n",
                "    if n == 1:\r\n",
                "        return 1\r\n",
                "    return fibonacci(n-2) + fibonacci(n-1) "
            ],
            "outputs": [],
            "metadata": {}
        },
        {
            "cell_type": "code",
            "execution_count": 5,
            "source": [
                "fibonacci(40)"
            ],
            "outputs": [
                {
                    "output_type": "execute_result",
                    "data": {
                        "text/plain": [
                            "102334155"
                        ]
                    },
                    "metadata": {},
                    "execution_count": 5
                }
            ],
            "metadata": {}
        },
        {
            "cell_type": "code",
            "execution_count": 6,
            "source": [
                "from functools import lru_cache\r\n",
                "\r\n",
                "@lru_cache\r\n",
                "def fibonacci(n):\r\n",
                "    if n == 0:\r\n",
                "        return 0\r\n",
                "    if n == 1:\r\n",
                "        return 1\r\n",
                "    return fibonacci(n-2) + fibonacci(n-1) "
            ],
            "outputs": [],
            "metadata": {}
        },
        {
            "cell_type": "code",
            "execution_count": 7,
            "source": [
                "fibonacci(40)"
            ],
            "outputs": [
                {
                    "output_type": "execute_result",
                    "data": {
                        "text/plain": [
                            "102334155"
                        ]
                    },
                    "metadata": {},
                    "execution_count": 7
                }
            ],
            "metadata": {}
        },
        {
            "cell_type": "code",
            "execution_count": 35,
            "source": [
                "def fibonacci(n):\r\n",
                "    dp_list = [0, 1]\r\n",
                "    for i in range(2, n+1):\r\n",
                "        dp_list.append(dp_list[i-2] + dp_list[i-1])\r\n",
                "    return dp_list[n]"
            ],
            "outputs": [],
            "metadata": {}
        },
        {
            "cell_type": "code",
            "execution_count": 36,
            "source": [
                "fibonacci(40)"
            ],
            "outputs": [
                {
                    "output_type": "execute_result",
                    "data": {
                        "text/plain": [
                            "102334155"
                        ]
                    },
                    "metadata": {},
                    "execution_count": 36
                }
            ],
            "metadata": {}
        }
    ],
    "metadata": {
        "orig_nbformat": 4,
        "language_info": {
            "name": "python"
        }
    },
    "nbformat": 4,
    "nbformat_minor": 2
}