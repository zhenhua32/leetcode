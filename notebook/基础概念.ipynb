{
 "cells": [
  {
   "cell_type": "markdown",
   "metadata": {},
   "source": [
    "# 基础概率\n",
    "\n",
    "罗列下一些常见的基础知识, 不然连题目都理解不了了."
   ]
  },
  {
   "cell_type": "markdown",
   "metadata": {},
   "source": [
    "## 补码\n",
    "\n",
    "正数的补码是其本身, 负数的补码是在其原码的基础上, 符号位不变, 其余各位取反, 再加一.\n",
    "\n",
    "+5 的原码是 0000 0101, 反码和补码都是和原码一样的.\n",
    "\n",
    "-5 的原码是 1000 0101, 反码是 1111 1010, 补码就是反码上加一, 就是 1111 1011."
   ]
  },
  {
   "cell_type": "markdown",
   "metadata": {},
   "source": [
    "## 小端序\n",
    "\n",
    "小端序编码是一种用来表示多字节数据的二进制编码方式，它的特点是将数据的低位字节存储在内存的低地址上，将数据的高位字节存储在内存的高地址上。"
   ]
  },
  {
   "cell_type": "markdown",
   "metadata": {},
   "source": [
    "## 栈和队列\n",
    "\n",
    "栈是先进后出, 队列是先进先出.\n",
    "\n",
    "python 中栈可以用数组表示, 队列可以使用 depue 模块."
   ]
  },
  {
   "cell_type": "code",
   "execution_count": 1,
   "metadata": {},
   "outputs": [
    {
     "name": "stdout",
     "output_type": "stream",
     "text": [
      "[0, 1, 2]\n",
      "2\n",
      "1\n",
      "0\n"
     ]
    }
   ],
   "source": [
    "a = []\n",
    "for i in range(3):\n",
    "    a.append(i)\n",
    "print(a)\n",
    "print(a.pop())\n",
    "print(a.pop())\n",
    "print(a.pop())"
   ]
  },
  {
   "cell_type": "code",
   "execution_count": 2,
   "metadata": {},
   "outputs": [
    {
     "name": "stdout",
     "output_type": "stream",
     "text": [
      "[0, 1, 2]\n",
      "0\n",
      "1\n",
      "2\n"
     ]
    }
   ],
   "source": [
    "# 当前直接用数组表示队列也是可以的. 效率低, 是 O(n)\n",
    "a = []\n",
    "for i in range(3):\n",
    "    a.append(i)\n",
    "\n",
    "print(a)\n",
    "print(a.pop(0))\n",
    "print(a.pop(0))\n",
    "print(a.pop(0))"
   ]
  },
  {
   "cell_type": "code",
   "execution_count": 5,
   "metadata": {},
   "outputs": [
    {
     "name": "stdout",
     "output_type": "stream",
     "text": [
      "deque([1, 2, 3, 4, 5, 6])\n"
     ]
    },
    {
     "data": {
      "text/plain": [
       "1"
      ]
     },
     "execution_count": 5,
     "metadata": {},
     "output_type": "execute_result"
    }
   ],
   "source": [
    "# 双端队列\n",
    "from collections import deque\n",
    "\n",
    "a = deque([1, 2, 3, 4, 5])\n",
    "a.append(6)\n",
    "print(a)\n",
    "a.popleft()"
   ]
  },
  {
   "cell_type": "code",
   "execution_count": 8,
   "metadata": {},
   "outputs": [
    {
     "name": "stdout",
     "output_type": "stream",
     "text": [
      "<queue.Queue object at 0x0000021553AD7B80>\n",
      "True\n",
      "0\n"
     ]
    }
   ],
   "source": [
    "# 还有个线程安全的\n",
    "from queue import Queue\n",
    "\n",
    "q = Queue(3)\n",
    "for i in range(3):\n",
    "    q.put(i)\n",
    "print(q)\n",
    "print(q.full())\n",
    "print(q.get())"
   ]
  },
  {
   "cell_type": "markdown",
   "metadata": {},
   "source": [
    "# 树的遍历\n",
    "\n",
    "前序遍历: 先根节点, 然后左子树, 最后右子树\n",
    "中序遍历: 先左子树, 然后根节点, 最后右子树"
   ]
  }
 ],
 "metadata": {
  "kernelspec": {
   "display_name": "base",
   "language": "python",
   "name": "python3"
  },
  "language_info": {
   "codemirror_mode": {
    "name": "ipython",
    "version": 3
   },
   "file_extension": ".py",
   "mimetype": "text/x-python",
   "name": "python",
   "nbconvert_exporter": "python",
   "pygments_lexer": "ipython3",
   "version": "3.9.7"
  },
  "orig_nbformat": 4
 },
 "nbformat": 4,
 "nbformat_minor": 2
}
