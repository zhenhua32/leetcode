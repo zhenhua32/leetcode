{
 "cells": [
  {
   "cell_type": "markdown",
   "metadata": {},
   "source": [
    "# 基础概率\n",
    "\n",
    "罗列下一些常见的基础知识, 不然连题目都理解不了了."
   ]
  },
  {
   "cell_type": "markdown",
   "metadata": {},
   "source": [
    "## 补码\n",
    "\n",
    "正数的补码是其本身, 负数的补码是在其原码的基础上, 符号位不变, 其余各位取反, 再加一.\n",
    "\n",
    "+5 的原码是 0000 0101, 反码和补码都是和原码一样的.\n",
    "\n",
    "-5 的原码是 1000 0101, 反码是 1111 1010, 补码就是反码上加一, 就是 1111 1011."
   ]
  },
  {
   "cell_type": "markdown",
   "metadata": {},
   "source": [
    "## 小端序\n",
    "\n",
    "小端序编码是一种用来表示多字节数据的二进制编码方式，它的特点是将数据的低位字节存储在内存的低地址上，将数据的高位字节存储在内存的高地址上。"
   ]
  },
  {
   "cell_type": "markdown",
   "metadata": {},
   "source": []
  }
 ],
 "metadata": {
  "language_info": {
   "name": "python"
  },
  "orig_nbformat": 4
 },
 "nbformat": 4,
 "nbformat_minor": 2
}
