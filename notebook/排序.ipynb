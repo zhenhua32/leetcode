{
 "cells": [
  {
   "cell_type": "markdown",
   "metadata": {},
   "source": [
    "# 排序是避不开的\n",
    "\n",
    "https://github.com/TheAlgorithms/Python\n",
    "\n",
    "这个网站我 star 了，但是从来没看过. 今天读下里面的排序算法."
   ]
  },
  {
   "cell_type": "markdown",
   "metadata": {},
   "source": [
    "- 选泡插：选择排序、冒泡排序、插入排序\n",
    "- 快归希堆：快速排序、归并排序、希尔排序、堆排序\n",
    "- 桶计基：桶排序、计数排序、基数排序"
   ]
  },
  {
   "cell_type": "markdown",
   "metadata": {},
   "source": [
    "# 冒泡排序\n",
    "\n",
    "大致的思想是，双重遍历. 第一层的长度是数组的长度 `for i in reversed(range(length))`, 第二层的长度是 `for j in range(i)`.\n",
    "\n",
    "每次比较相邻的两个元素，如果前一个比后一个大，则交换位置，这样一次遍历之后，最大的元素就在最后面了，然后再对前面的元素进行同样的操作，直到没有元素需要比较。\n",
    "\n",
    "每次第二层的遍历完, 就能将最后一个元素放到正确的位置上. 第一层的长度是一点点再缩小."
   ]
  },
  {
   "cell_type": "code",
   "execution_count": null,
   "metadata": {},
   "outputs": [],
   "source": [
    "from typing import Any\n",
    "\n",
    "\n",
    "def bubble_sort(collection: list[Any]) -> list[Any]:\n",
    "    \"\"\"Pure implementation of bubble sort algorithm in Python\n",
    "\n",
    "    :param collection: some mutable ordered collection with heterogeneous\n",
    "    comparable items inside\n",
    "    :return: the same collection ordered by ascending\n",
    "\n",
    "    Examples:\n",
    "    >>> bubble_sort([0, 5, 2, 3, 2])\n",
    "    [0, 2, 2, 3, 5]\n",
    "    >>> bubble_sort([0, 5, 2, 3, 2]) == sorted([0, 5, 2, 3, 2])\n",
    "    True\n",
    "    >>> bubble_sort([]) == sorted([])\n",
    "    True\n",
    "    >>> bubble_sort([-2, -45, -5]) == sorted([-2, -45, -5])\n",
    "    True\n",
    "    >>> bubble_sort([-23, 0, 6, -4, 34]) == sorted([-23, 0, 6, -4, 34])\n",
    "    True\n",
    "    >>> bubble_sort(['d', 'a', 'b', 'e', 'c']) == sorted(['d', 'a', 'b', 'e', 'c'])\n",
    "    True\n",
    "    >>> import random\n",
    "    >>> collection = random.sample(range(-50, 50), 100)\n",
    "    >>> bubble_sort(collection) == sorted(collection)\n",
    "    True\n",
    "    >>> import string\n",
    "    >>> collection = random.choices(string.ascii_letters + string.digits, k=100)\n",
    "    >>> bubble_sort(collection) == sorted(collection)\n",
    "    True\n",
    "    \"\"\"\n",
    "    length = len(collection)\n",
    "    for i in reversed(range(length)):\n",
    "        swapped = False\n",
    "        for j in range(i):\n",
    "            if collection[j] > collection[j + 1]:\n",
    "                swapped = True\n",
    "                collection[j], collection[j + 1] = collection[j + 1], collection[j]\n",
    "        if not swapped:\n",
    "            break  # Stop iteration if the collection is sorted.\n",
    "    return collection\n",
    "\n",
    "\n",
    "if __name__ == \"__main__\":\n",
    "    import doctest\n",
    "    import time\n",
    "\n",
    "    doctest.testmod()\n",
    "\n",
    "    user_input = input(\"Enter numbers separated by a comma:\").strip()\n",
    "    unsorted = [int(item) for item in user_input.split(\",\")]\n",
    "    start = time.process_time()\n",
    "    print(*bubble_sort(unsorted), sep=\",\")\n",
    "    print(f\"Processing time: {(time.process_time() - start)%1e9 + 7}\")"
   ]
  },
  {
   "cell_type": "code",
   "execution_count": null,
   "metadata": {},
   "outputs": [],
   "source": []
  }
 ],
 "metadata": {
  "language_info": {
   "name": "python"
  },
  "orig_nbformat": 4
 },
 "nbformat": 4,
 "nbformat_minor": 2
}
