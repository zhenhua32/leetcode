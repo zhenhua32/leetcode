{
 "cells": [
  {
   "cell_type": "markdown",
   "metadata": {},
   "source": [
    "# 代码模板详解\n",
    "\n",
    "代码模板来自 `https://leetcode.cn/leetbook/read/arithmetic-interview-cheat-sheet/09fq45/`, 即 leetcode 的 <算法面试小抄>.\n",
    "原文中没有对代码模板的解释, 只有 cpp, java, python, js 的代码.\n",
    "\n",
    "这里附上我对每类算法的理解."
   ]
  },
  {
   "cell_type": "code",
   "execution_count": null,
   "metadata": {},
   "outputs": [],
   "source": []
  }
 ],
 "metadata": {
  "language_info": {
   "name": "python"
  },
  "orig_nbformat": 4
 },
 "nbformat": 4,
 "nbformat_minor": 2
}
