{
 "cells": [
  {
   "cell_type": "markdown",
   "metadata": {},
   "source": [
    "N 是钱数, M 是最大物品数\n",
    "\n",
    "接下来每行分别是 价格, 重要程度, 主附件\n",
    "\n",
    "# 输入描述\n",
    "\n",
    "输入的第 1 行，为两个正整数N，m，用一个空格隔开：\n",
    "\n",
    "（其中 N （ N<32000 ）表示总钱数， m （m <60 ）为可购买的物品的个数。）\n",
    "\n",
    "\n",
    "从第 2 行到第 m+1 行，第 j 行给出了编号为 j-1 的物品的基本数据，每行有 3 个非负整数 v p q\n",
    "\n",
    "\n",
    "（其中 v 表示该物品的价格（ v<10000 ）， p 表示该物品的重要度（ 1 ~ 5 ）， q 表示该物品是主件还是附件。如果 q=0 ，表示该物品为主件，如果 q>0 ，表示该物品为附件， q 是所属主件的编号）\n",
    "\n",
    "# 输出描述\n",
    "\n",
    "输出一个正整数，为张强可以获得的最大的满意度。"
   ]
  },
  {
   "cell_type": "markdown",
   "metadata": {},
   "source": [
    "# 注意, 用的是 ACM 模式, 所以不能随便使用 print\n",
    "\n",
    "读取数据要从 sys.stdin 中读取, 输出结果用 print 输出."
   ]
  },
  {
   "cell_type": "code",
   "execution_count": 8,
   "metadata": {},
   "outputs": [],
   "source": [
    "# 先解析数据\n",
    "\n",
    "import sys\n",
    "\n",
    "def get_inputs():\n",
    "    # N 总钱数\n",
    "    # m 购买的商品数量\n",
    "    # 商品表格\n",
    "    \n",
    "    N = 0\n",
    "    m = 0\n",
    "    goods = []\n",
    "\n",
    "    i = 0\n",
    "    for line in sys.stdin:\n",
    "        a = line.split()\n",
    "        if i == 0:\n",
    "            N = int(a[0])\n",
    "            m = int(a[1])\n",
    "        else:\n",
    "            goods.append([int(a[0]), int(a[1]), int(a[2])])\n",
    "        \n",
    "        i += 1\n",
    "    \n",
    "    return N, m, goods"
   ]
  },
  {
   "cell_type": "code",
   "execution_count": 10,
   "metadata": {},
   "outputs": [],
   "source": [
    "sys.stdin = \"\"\"\n",
    "1000 5\n",
    "800 2 0\n",
    "400 5 1\n",
    "300 5 1\n",
    "400 3 0\n",
    "500 2 0\n",
    "\"\"\".strip().split(\"\\n\")\n",
    "# for line in sys.stdin:\n",
    "#     print(line)\n",
    "N, m, goods = get_inputs()"
   ]
  },
  {
   "cell_type": "code",
   "execution_count": 11,
   "metadata": {},
   "outputs": [],
   "source": [
    "def solution(N, m, goods):\n",
    "    # dp = [[0 for _ in range(N + 1)] for _ in range(m + 1)]\n",
    "    # for i in range(1, m + 1):\n",
    "    #     for j in range(1, N + 1):\n",
    "    #         if goods[i - 1][0] <= j:\n",
    "    #             dp[i][j] = max(dp[i - 1][j], dp[i - 1][j - goods[i - 1][0]] + goods[i - 1][1])\n",
    "    #         else:\n",
    "    #             dp[i][j] = dp[i - 1][j]\n",
    "    # return dp[m][N]"
   ]
  },
  {
   "cell_type": "code",
   "execution_count": 12,
   "metadata": {},
   "outputs": [
    {
     "data": {
      "text/plain": [
       "10"
      ]
     },
     "execution_count": 12,
     "metadata": {},
     "output_type": "execute_result"
    }
   ],
   "source": [
    "solution(N, m, goods)"
   ]
  },
  {
   "cell_type": "code",
   "execution_count": null,
   "metadata": {},
   "outputs": [],
   "source": [
    "# n 是总价格数, m 是最多物品数\n",
    "n, m = map(int,input().split())\n",
    "\n",
    "# 保存主件 和 附件\n",
    "primary, annex = {}, {}\n",
    "for i in range(1,m+1):\n",
    "    # x 是价格, y 是重要程度, z 是对应的主键 id, 如果 >  0 就表示是附件\n",
    "    x, y, z = map(int, input().split())\n",
    "    if z==0:#主件\n",
    "        primary[i] = [x, y]\n",
    "    else:#附件\n",
    "        if z in annex:#第二个附件\n",
    "            annex[z].append([x, y])\n",
    "        else:#第一个附件\n",
    "            annex[z] = [[x,y]]\n",
    "m = len(primary)  #主件个数转化为物品个数\n",
    "\n",
    "# 构建二维的 dp 矩阵, (m+1, n+1)\n",
    "dp = [[0]*(n+1) for _ in range(m+1)]\n",
    "w, v= [[]], [[]]\n",
    "\n",
    "# 遍历所有的主件\n",
    "for key in primary:\n",
    "    # w 是价格, v 是满意程度\n",
    "    w_temp, v_temp = [], []\n",
    "    w_temp.append(primary[key][0])#1、主件\n",
    "    v_temp.append(primary[key][0]*primary[key][1])\n",
    "\n",
    "    if key in annex:#存在附件\n",
    "        w_temp.append(w_temp[0]+annex[key][0][0])#2、主件+附件1\n",
    "        v_temp.append(v_temp[0]+annex[key][0][0]*annex[key][0][1])\n",
    "        if len(annex[key])>1:#存在两附件\n",
    "            w_temp.append(w_temp[0]+annex[key][1][0])#3、主件+附件2\n",
    "            v_temp.append(v_temp[0]+annex[key][1][0]*annex[key][1][1])\n",
    "            w_temp.append(w_temp[0]+annex[key][0][0]+annex[key][1][0])#3、主件+附件1+附件2\n",
    "            v_temp.append(v_temp[0]+annex[key][0][0]*annex[key][0][1]+annex[key][1][0]*annex[key][1][1])\n",
    "    w.append(w_temp)\n",
    "    v.append(v_temp)\n",
    "\n",
    "# 从 1 个数量, 到 m 个数量为止. 求状态转移方程 dp[i][j] = max(dp[i-1][j],dp[i-1][j-w[i][k]]+v[i][k])\n",
    "for i in range(1,m+1):\n",
    "    for j in range(10,n+1,10):#物品的价格是10的整数倍\n",
    "        # 前一个结果, i-1 件物品, j 是价格的最大值\n",
    "        max_i = dp[i-1][j]\n",
    "        # 遍历至多四种主附件情况\n",
    "        for k in range(len(w[i])):\n",
    "            # j-w[i][k] 是可用的价格, 在这个价格下的最大满意程度\n",
    "            if j-w[i][k]>=0:\n",
    "                max_i = max(max_i, dp[i-1][j-w[i][k]]+v[i][k])\n",
    "        dp[i][j] = max_i\n",
    "print(dp[m][n])"
   ]
  }
 ],
 "metadata": {
  "kernelspec": {
   "display_name": "base",
   "language": "python",
   "name": "python3"
  },
  "language_info": {
   "codemirror_mode": {
    "name": "ipython",
    "version": 3
   },
   "file_extension": ".py",
   "mimetype": "text/x-python",
   "name": "python",
   "nbconvert_exporter": "python",
   "pygments_lexer": "ipython3",
   "version": "3.9.7"
  },
  "orig_nbformat": 4
 },
 "nbformat": 4,
 "nbformat_minor": 2
}
