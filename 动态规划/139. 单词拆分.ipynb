{
 "cells": [
  {
   "cell_type": "code",
   "execution_count": null,
   "metadata": {},
   "outputs": [],
   "source": [
    "from typing import List\n",
    "\n",
    "class Solution:\n",
    "    def wordBreak(self, s: str, wordDict: List[str]) -> bool:\n",
    "        wordSet = set(wordDict)\n",
    "        dp = [False] * (len(s) + 1)\n",
    "        dp[0] = True\n",
    "\n",
    "        # 遍历文本的长度\n",
    "        for i in range(1, len(s) + 1):\n",
    "            for j in range(i):\n",
    "                # 如果前面部分可以, 并且 s[j:i] 在 wordSet 中\n",
    "                if dp[j] and s[j:i] in wordSet:\n",
    "                    dp[i] = True\n",
    "                    break\n",
    "        return dp[len(s)]"
   ]
  },
  {
   "cell_type": "code",
   "execution_count": null,
   "metadata": {},
   "outputs": [],
   "source": []
  }
 ],
 "metadata": {
  "language_info": {
   "name": "python"
  }
 },
 "nbformat": 4,
 "nbformat_minor": 2
}
