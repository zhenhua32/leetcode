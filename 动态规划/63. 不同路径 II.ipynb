{
 "cells": [
  {
   "cell_type": "code",
   "execution_count": 1,
   "metadata": {},
   "outputs": [],
   "source": [
    "from typing import List\n",
    "\n",
    "class Solution:\n",
    "    def uniquePathsWithObstacles(self, obstacleGrid: List[List[int]]) -> int:\n",
    "        if not obstacleGrid:\n",
    "            return 0\n",
    "        m, n = len(obstacleGrid), len(obstacleGrid[0])\n",
    "\n",
    "        # 初始设置为 0\n",
    "        dp = [[0] * n for _ in range(m)]\n",
    "        # 更新并跳过有障碍的位置\n",
    "        for i in range(m):\n",
    "            if obstacleGrid[i][0] == 1:\n",
    "                break\n",
    "            dp[i][0] = 1\n",
    "        for j in range(n):\n",
    "            if obstacleGrid[0][j] == 1:\n",
    "                break\n",
    "            dp[0][j] = 1\n",
    "        \n",
    "        # 更新 dp\n",
    "        for i in range(1, m):\n",
    "            for j in range(1, n):\n",
    "                # 有障碍物, 就相当于不能前进了\n",
    "                if obstacleGrid[i][j] == 1:\n",
    "                    continue\n",
    "                dp[i][j] = dp[i-1][j] + dp[i][j-1]\n",
    "        return dp[-1][-1]"
   ]
  }
 ],
 "metadata": {
  "kernelspec": {
   "display_name": "base",
   "language": "python",
   "name": "python3"
  },
  "language_info": {
   "codemirror_mode": {
    "name": "ipython",
    "version": 3
   },
   "file_extension": ".py",
   "mimetype": "text/x-python",
   "name": "python",
   "nbconvert_exporter": "python",
   "pygments_lexer": "ipython3",
   "version": "3.9.7"
  }
 },
 "nbformat": 4,
 "nbformat_minor": 2
}
