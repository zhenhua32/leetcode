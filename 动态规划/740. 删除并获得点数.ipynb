{
 "cells": [
  {
   "cell_type": "code",
   "execution_count": 7,
   "metadata": {},
   "outputs": [],
   "source": [
    "from typing import List\n",
    "\n",
    "class Solution:\n",
    "    def deleteAndEarn(self, nums: List[int]) -> int:\n",
    "        if not nums:\n",
    "            return 0\n",
    "        maxNum = max(nums)\n",
    "\n",
    "        # 记录每个数字出现的次数\n",
    "        count = [0] * (maxNum + 1)\n",
    "        for num in nums:\n",
    "            count[num] += 1\n",
    "        \n",
    "        # dp[i] 是什么意思?\n",
    "        dp = [0] * (maxNum + 1)\n",
    "        dp[1] = count[1]\n",
    "        # 这个是升序遍历的过程, 遍历每一个数值\n",
    "        for i in range(2, maxNum + 1):\n",
    "            # 第一个选项是不选第i个数字，第二个选项是选第i个数字\n",
    "            # dp[i-1] 是跳过当前位置, 那么结果就是上一个位置的最大点数\n",
    "            # dp[i-2] + count[i] * i 是选当前位置, 那么结果就是上上个位置的最大点数加上当前位置的点数\n",
    "            # dp[i-2] 是因为选择了 i 之后, i-1 不能选择, 所以只能选择 i-2\n",
    "            # 使用 count[i] * i 是因为如果选择了当前位置, 那么所有相同的数字都能被选择\n",
    "            dp[i] = max(dp[i - 1], dp[i - 2] + count[i] * i)\n",
    "        # print(dp)\n",
    "        return dp[maxNum]"
   ]
  },
  {
   "cell_type": "code",
   "execution_count": 9,
   "metadata": {},
   "outputs": [
    {
     "name": "stdout",
     "output_type": "stream",
     "text": [
      "6\n",
      "9\n"
     ]
    }
   ],
   "source": [
    "nums = [3, 4, 2]\n",
    "print(Solution().deleteAndEarn(nums)) # 6\n",
    "# dp = [0, 0, 2, 3, 6]\n",
    "\n",
    "nums = [2,2,3,3,3,4]\n",
    "print(Solution().deleteAndEarn(nums)) # 9\n",
    "# dp = [0, 0, 4, 9, 9]"
   ]
  }
 ],
 "metadata": {
  "kernelspec": {
   "display_name": "base",
   "language": "python",
   "name": "python3"
  },
  "language_info": {
   "codemirror_mode": {
    "name": "ipython",
    "version": 3
   },
   "file_extension": ".py",
   "mimetype": "text/x-python",
   "name": "python",
   "nbconvert_exporter": "python",
   "pygments_lexer": "ipython3",
   "version": "3.9.7"
  }
 },
 "nbformat": 4,
 "nbformat_minor": 2
}
