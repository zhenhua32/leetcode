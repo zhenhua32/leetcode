{
 "cells": [
  {
   "cell_type": "code",
   "execution_count": 2,
   "metadata": {},
   "outputs": [],
   "source": [
    "# 子序列, 不要求连续. 给你两个字符串 s 和 t ，统计并返回在 s 的 子序列 中 t 出现的个数，结果需要对 109 + 7 取模。\n",
    "\n",
    "class Solution:\n",
    "    def numDistinct(self, s: str, t: str) -> int:\n",
    "        # 又是一个二维的 dp, dp[i][j] 表示 t 的前 i 个字符可以由 s 的前 j 个字符组成的最多个数\n",
    "        # shape 是 (len(t) + 1, len(s) + 1)\n",
    "        dp = [[0 for _ in range(len(s) + 1)] for _ in range(len(t) + 1)]\n",
    "\n",
    "        # 初始化. 空字符串是任何字符串的子序列\n",
    "        for i in range(len(s) + 1):\n",
    "            dp[0][i] = 1\n",
    "        \n",
    "        for i in range(1, len(t) + 1):\n",
    "            for j in range(1, len(s) + 1):\n",
    "                # 当相等的时候, 可以选择包含或者不包含当前的字符 s[j - 1]\n",
    "                if s[j - 1] == t[i - 1]:\n",
    "                    # 左上角 + 左边. 左上角是指\n",
    "                    dp[i][j] = dp[i - 1][j - 1] + dp[i][j - 1]\n",
    "                else:\n",
    "                    # 不相等的时候, 只能继承左边的, 即不包含 s[j - 1]\n",
    "                    dp[i][j] = dp[i][j - 1]\n",
    "        return dp[len(t)][len(s)]"
   ]
  },
  {
   "cell_type": "code",
   "execution_count": null,
   "metadata": {},
   "outputs": [],
   "source": []
  }
 ],
 "metadata": {
  "kernelspec": {
   "display_name": "base",
   "language": "python",
   "name": "python3"
  },
  "language_info": {
   "codemirror_mode": {
    "name": "ipython",
    "version": 3
   },
   "file_extension": ".py",
   "mimetype": "text/x-python",
   "name": "python",
   "nbconvert_exporter": "python",
   "pygments_lexer": "ipython3",
   "version": "3.9.7"
  }
 },
 "nbformat": 4,
 "nbformat_minor": 2
}
