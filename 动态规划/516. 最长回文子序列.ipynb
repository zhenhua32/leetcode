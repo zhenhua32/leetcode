{
 "cells": [
  {
   "cell_type": "code",
   "execution_count": null,
   "metadata": {},
   "outputs": [],
   "source": [
    "# 子序列, 不要求连续, 可以中间删除字符\n",
    "class Solution:\n",
    "    def longestPalindromeSubseq(self, s: str) -> int:\n",
    "        n = len(s)\n",
    "        # dp 里保存的是 s[i:j+1] 的最长回文子序列长度\n",
    "        dp = [[0] * n for _ in range(n)]\n",
    "\n",
    "        # 从后往前遍历\n",
    "        for i in range(n-1, -1, -1):\n",
    "            # 字符串本身是个回文, 长度为 1\n",
    "            dp[i][i] = 1\n",
    "            # 从当前位置往后遍历\n",
    "            for j in range(i+1, n):\n",
    "                # 当前位置满足条件\n",
    "                if s[i] == s[j]:\n",
    "                    # 这个 dp[i+1][j-1] 是在左下角的位置\n",
    "                    dp[i][j] = dp[i+1][j-1] + 2\n",
    "                else:\n",
    "                    # 位置分别是下面和左边\n",
    "                    dp[i][j] = max(dp[i+1][j], dp[i][j-1])                                                                                                                                  \n",
    "        return dp[0][n-1]"
   ]
  }
 ],
 "metadata": {
  "language_info": {
   "name": "python"
  }
 },
 "nbformat": 4,
 "nbformat_minor": 2
}
