{
 "cells": [
  {
   "cell_type": "code",
   "execution_count": 1,
   "metadata": {},
   "outputs": [],
   "source": [
    "from typing import List\n",
    "\n",
    "class Solution:\n",
    "    def minimumTotal(self, triangle: List[List[int]]) -> int:\n",
    "        if not triangle:\n",
    "            return 0\n",
    "        \n",
    "        # i 是行数, j 是列数, 从底部开始往上遍历\n",
    "        for i in range(len(triangle)-2, -1, -1):\n",
    "            for j in range(len(triangle[i])):\n",
    "                # 有两个选择, 一个是 j 不变, 另一个是 j+1\n",
    "                triangle[i][j] += min(triangle[i+1][j], triangle[i+1][j+1])\n",
    "        return triangle[0][0]"
   ]
  }
 ],
 "metadata": {
  "kernelspec": {
   "display_name": "base",
   "language": "python",
   "name": "python3"
  },
  "language_info": {
   "codemirror_mode": {
    "name": "ipython",
    "version": 3
   },
   "file_extension": ".py",
   "mimetype": "text/x-python",
   "name": "python",
   "nbconvert_exporter": "python",
   "pygments_lexer": "ipython3",
   "version": "3.9.7"
  }
 },
 "nbformat": 4,
 "nbformat_minor": 2
}
