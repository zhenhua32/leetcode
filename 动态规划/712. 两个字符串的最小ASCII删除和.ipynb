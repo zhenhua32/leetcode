{
 "cells": [
  {
   "cell_type": "code",
   "execution_count": null,
   "metadata": {},
   "outputs": [],
   "source": [
    "class Solution:\n",
    "    def minimumDeleteSum(self, s1: str, s2: str) -> int:\n",
    "        # 分别是两个字符串的长度\n",
    "        m, n = len(s1), len(s2)\n",
    "        # dp[i][j] 表示 s1[i:] 和 s2[j:] 的最小 ASCII 删除和, m 行 n 列\n",
    "        dp = [[0] * (n + 1) for _ in range(m + 1)]\n",
    "\n",
    "        # 从后往前遍历, 先是填充 n 列\n",
    "        for i in range(m - 1, -1, -1):\n",
    "            dp[i][n] = dp[i + 1][n] + ord(s1[i])\n",
    "        # 然后是填充 m 行\n",
    "        for j in range(n - 1, -1, -1):\n",
    "            dp[m][j] = dp[m][j + 1] + ord(s2[j])\n",
    "\n",
    "        # 开始填表\n",
    "        for i in range(m - 1, -1, -1):\n",
    "            for j in range(n - 1, -1, -1):\n",
    "                # 相同的话, 直接跳过\n",
    "                if s1[i] == s2[j]:\n",
    "                    dp[i][j] = dp[i + 1][j + 1]\n",
    "                else:\n",
    "                    # 下面和右边\n",
    "                    dp[i][j] = min(dp[i + 1][j] + ord(s1[i]), dp[i][j + 1] + ord(s2[j]))\n",
    "        return dp[0][0]"
   ]
  },
  {
   "cell_type": "code",
   "execution_count": null,
   "metadata": {},
   "outputs": [],
   "source": []
  }
 ],
 "metadata": {
  "language_info": {
   "name": "python"
  }
 },
 "nbformat": 4,
 "nbformat_minor": 2
}
