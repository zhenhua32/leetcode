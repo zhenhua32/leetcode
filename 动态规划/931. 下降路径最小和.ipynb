{
 "cells": [
  {
   "cell_type": "code",
   "execution_count": 2,
   "metadata": {},
   "outputs": [],
   "source": [
    "from typing import List\n",
    "\n",
    "class Solution:\n",
    "    def minFallingPathSum(self, matrix: List[List[int]]) -> int:\n",
    "        # 行数\n",
    "        n = len(matrix)\n",
    "        # 行列是相同的\n",
    "        for i in range(1, n):\n",
    "            for j in range(n):\n",
    "                # 从上往下, 每个位置的值等于上一行的最小值加上自己的值\n",
    "                matrix[i][j] += min(matrix[i-1][max(0, j-1):min(n, j+2)])\n",
    "        return min(matrix[-1])"
   ]
  }
 ],
 "metadata": {
  "kernelspec": {
   "display_name": "base",
   "language": "python",
   "name": "python3"
  },
  "language_info": {
   "codemirror_mode": {
    "name": "ipython",
    "version": 3
   },
   "file_extension": ".py",
   "mimetype": "text/x-python",
   "name": "python",
   "nbconvert_exporter": "python",
   "pygments_lexer": "ipython3",
   "version": "3.9.7"
  }
 },
 "nbformat": 4,
 "nbformat_minor": 2
}
