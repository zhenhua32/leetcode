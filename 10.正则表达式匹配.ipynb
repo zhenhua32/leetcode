{
    "cells": [
        {
            "cell_type": "code",
            "execution_count": 11,
            "source": [
                "class Solution:\r\n",
                "    def isMatch(self, s: str, p: str) -> bool:\r\n",
                "        # 当模式为空时, 只能匹配空字符串\r\n",
                "        if p == \"\":\r\n",
                "            return s == \"\"\r\n",
                "        \r\n",
                "        # 当长度为 1 时, 仅能 s 和 p 完全一致, 或者 p 是单个通配符且 s 长度为 1\r\n",
                "        if len(p) == 1:\r\n",
                "            return s == p or (len(s) == 1 and p == \".\")\r\n",
                "        \r\n",
                "        p0 = p[0]\r\n",
                "        p = p[1:]\r\n",
                "\r\n",
                "        # 向后看一位, 看看是否有 * 号\r\n",
                "        if p and p[0] == \"*\":\r\n",
                "            p = p[1:]\r\n",
                "            is_start = True\r\n",
                "        else:\r\n",
                "            is_start = False\r\n",
                "        \r\n",
                "        if is_start:\r\n",
                "            # 当遇见 .* 时, 怎么判断\r\n",
                "            if p0 == \".\":\r\n",
                "                return any([self.isMatch(s[i:], p) for i in range(len(s)+1)])\r\n",
                "            else:\r\n",
                "                try_list = [s]\r\n",
                "                # 批量替换掉\r\n",
                "                while True:\r\n",
                "                    if s and s[0] == p0:\r\n",
                "                        s = s[1:]\r\n",
                "                        try_list.append(s)\r\n",
                "                    else:\r\n",
                "                        break\r\n",
                "                return any([self.isMatch(x, p) for x in try_list])\r\n",
                "        else:\r\n",
                "            # 没有长度了\r\n",
                "            if not s:\r\n",
                "                return False\r\n",
                "            if p0 == \".\" or p0 == s[0]:\r\n",
                "                s = s[1:]\r\n",
                "            else:\r\n",
                "                # 没有匹配上\r\n",
                "                return False\r\n",
                "\r\n",
                "        return self.isMatch(s, p)\r\n"
            ],
            "outputs": [],
            "metadata": {}
        },
        {
            "cell_type": "code",
            "execution_count": 12,
            "source": [
                "s = \"aa\"\r\n",
                "p = \"a\"\r\n",
                "Solution().isMatch(s, p)"
            ],
            "outputs": [
                {
                    "output_type": "execute_result",
                    "data": {
                        "text/plain": [
                            "False"
                        ]
                    },
                    "metadata": {},
                    "execution_count": 12
                }
            ],
            "metadata": {}
        },
        {
            "cell_type": "code",
            "execution_count": 13,
            "source": [
                "s = \"ab\"\r\n",
                "p = \".*\"\r\n",
                "Solution().isMatch(s, p)"
            ],
            "outputs": [
                {
                    "output_type": "execute_result",
                    "data": {
                        "text/plain": [
                            "True"
                        ]
                    },
                    "metadata": {},
                    "execution_count": 13
                }
            ],
            "metadata": {}
        },
        {
            "cell_type": "code",
            "execution_count": 5,
            "source": [
                "s = \"aab\"\r\n",
                "p = \"c*a*b\"\r\n",
                "Solution().isMatch(s, p)"
            ],
            "outputs": [
                {
                    "output_type": "execute_result",
                    "data": {
                        "text/plain": [
                            "True"
                        ]
                    },
                    "metadata": {},
                    "execution_count": 5
                }
            ],
            "metadata": {}
        },
        {
            "cell_type": "code",
            "execution_count": 14,
            "source": [
                "s = \"mississippi\"\r\n",
                "p = \"mis*is*p*.\"\r\n",
                "Solution().isMatch(s, p)"
            ],
            "outputs": [
                {
                    "output_type": "execute_result",
                    "data": {
                        "text/plain": [
                            "False"
                        ]
                    },
                    "metadata": {},
                    "execution_count": 14
                }
            ],
            "metadata": {}
        },
        {
            "cell_type": "code",
            "execution_count": 15,
            "source": [
                "s = \"aaa\"\r\n",
                "p = \"a*a\"\r\n",
                "Solution().isMatch(s, p)"
            ],
            "outputs": [
                {
                    "output_type": "execute_result",
                    "data": {
                        "text/plain": [
                            "False"
                        ]
                    },
                    "metadata": {},
                    "execution_count": 15
                }
            ],
            "metadata": {}
        }
    ],
    "metadata": {
        "orig_nbformat": 4,
        "language_info": {
            "name": "python"
        }
    },
    "nbformat": 4,
    "nbformat_minor": 2
}