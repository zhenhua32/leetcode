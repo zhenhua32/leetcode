{
 "cells": [
  {
   "cell_type": "code",
   "execution_count": 1,
   "metadata": {},
   "outputs": [],
   "source": [
    "from typing import List\n",
    "\n",
    "class Solution:\n",
    "    def rob(self, nums: List[int]) -> int:\n",
    "        # 定义初始条件\n",
    "        if not nums: return 0\n",
    "        if len(nums) <= 2: return max(nums)\n",
    "\n",
    "        # 初始化 dp 数组\n",
    "        dp = [0 for _ in range(len(nums))]\n",
    "        dp[0], dp[1] = nums[0], max(nums[0], nums[1])\n",
    "\n",
    "        # 状态转移, 对于 dp[i] 有两个选择, 一个是不偷取, 就是选择 dp[i-1]\n",
    "        # 另一个是偷取, 就是选择, dp[i-2] + 当前值\n",
    "        for i in range(2,len(nums)):\n",
    "            dp[i] = max(dp[i-1], dp[i-2]+nums[i])\n",
    "        return dp[-1]"
   ]
  }
 ],
 "metadata": {
  "kernelspec": {
   "display_name": "base",
   "language": "python",
   "name": "python3"
  },
  "language_info": {
   "codemirror_mode": {
    "name": "ipython",
    "version": 3
   },
   "file_extension": ".py",
   "mimetype": "text/x-python",
   "name": "python",
   "nbconvert_exporter": "python",
   "pygments_lexer": "ipython3",
   "version": "3.9.7"
  },
  "orig_nbformat": 4
 },
 "nbformat": 4,
 "nbformat_minor": 2
}
