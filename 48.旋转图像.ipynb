{
    "cells": [
        {
            "cell_type": "code",
            "execution_count": null,
            "source": [
                "from typing import List\r\n",
                "from pprint import pprint as print"
            ],
            "outputs": [],
            "metadata": {}
        },
        {
            "cell_type": "code",
            "execution_count": 60,
            "source": [
                "class Solution:\r\n",
                "    def rotate(self, matrix: List[List[int]]) -> None:\r\n",
                "        \"\"\"\r\n",
                "        Do not return anything, modify matrix in-place instead.\r\n",
                "        \"\"\"\r\n",
                "        # 原地旋转\r\n",
                "        length = len(matrix)\r\n",
                "        if length <= 1:\r\n",
                "            return\r\n",
                "\r\n",
                "        # 第一个索引的位置\r\n",
                "        m = 0\r\n",
                "        # 最后一个索引的位置\r\n",
                "        n = length - 1\r\n",
                "\r\n",
                "        while m < n:\r\n",
                "            # 从 m 运行到 n -1 位置\r\n",
                "            j = -1\r\n",
                "            for i in range(m, n):\r\n",
                "                j += 1\r\n",
                "                # 每次交换四个位置\r\n",
                "\r\n",
                "                # 0: matrix[m][i]\r\n",
                "                # 1: matrix[i][n]\r\n",
                "                # 2: matrix[n][n-j]\r\n",
                "                # 3: matrix[n-j][m]\r\n",
                "\r\n",
                "                temp = matrix[m][i]\r\n",
                "                # 0 = 3\r\n",
                "                matrix[m][i] = matrix[n-j][m]\r\n",
                "                # 3 = 2\r\n",
                "                matrix[n-j][m] = matrix[n][n-j]\r\n",
                "                # 2 = 1\r\n",
                "                matrix[n][n-j] = matrix[i][n]\r\n",
                "                # 1 = 0\r\n",
                "                matrix[i][n] = temp\r\n",
                "\r\n",
                "            # 每次缩小正方形\r\n",
                "            m += 1\r\n",
                "            n -= 1\r\n",
                "        # 外层旋转好了, 要搞内层了\r\n",
                "        # 我原本想递归的, 但数组不好传递\r\n",
                "        "
            ],
            "outputs": [],
            "metadata": {}
        },
        {
            "cell_type": "code",
            "execution_count": 61,
            "source": [
                "matrix = [[1,2,3],[4,5,6],[7,8,9]]\r\n",
                "Solution().rotate(matrix)\r\n",
                "print(matrix)"
            ],
            "outputs": [
                {
                    "output_type": "stream",
                    "name": "stdout",
                    "text": [
                        "[0, 2]\n",
                        "1\n",
                        "3\n",
                        "9\n",
                        "7\n",
                        "[[7, 2, 1], [4, 5, 6], [9, 8, 3]]\n",
                        "2\n",
                        "6\n",
                        "8\n",
                        "4\n",
                        "[[7, 4, 1], [8, 5, 2], [9, 6, 3]]\n",
                        "[[7, 4, 1], [8, 5, 2], [9, 6, 3]]\n"
                    ]
                }
            ],
            "metadata": {}
        },
        {
            "cell_type": "code",
            "execution_count": 62,
            "source": [
                "matrix = [[5,1,9,11],[2,4,8,10],[13,3,6,7],[15,14,12,16]]\r\n",
                "Solution().rotate(matrix)\r\n",
                "print(matrix)"
            ],
            "outputs": [
                {
                    "output_type": "stream",
                    "name": "stdout",
                    "text": [
                        "[0, 3]\n",
                        "5\n",
                        "11\n",
                        "16\n",
                        "15\n",
                        "[[15, 1, 9, 5], [2, 4, 8, 10], [13, 3, 6, 7], [16, 14, 12, 11]]\n",
                        "1\n",
                        "10\n",
                        "12\n",
                        "13\n",
                        "[[15, 13, 9, 5], [2, 4, 8, 1], [12, 3, 6, 7], [16, 14, 10, 11]]\n",
                        "9\n",
                        "7\n",
                        "14\n",
                        "2\n",
                        "[[15, 13, 2, 5], [14, 4, 8, 1], [12, 3, 6, 9], [16, 7, 10, 11]]\n",
                        "[1, 2]\n",
                        "4\n",
                        "8\n",
                        "6\n",
                        "3\n",
                        "[[15, 13, 2, 5], [14, 3, 4, 1], [12, 6, 8, 9], [16, 7, 10, 11]]\n",
                        "[[15, 13, 2, 5], [14, 3, 4, 1], [12, 6, 8, 9], [16, 7, 10, 11]]\n"
                    ]
                }
            ],
            "metadata": {}
        }
    ],
    "metadata": {
        "orig_nbformat": 4,
        "language_info": {
            "name": "python"
        }
    },
    "nbformat": 4,
    "nbformat_minor": 2
}