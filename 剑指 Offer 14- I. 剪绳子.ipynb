{
 "cells": [
  {
   "cell_type": "code",
   "execution_count": null,
   "metadata": {},
   "outputs": [],
   "source": [
    "\"\"\"\n",
    "居然是贪心算法, 尽量分成3, 但是要注意4的情况, 4分成2*2\n",
    "\"\"\"\n",
    "\n",
    "class Solution:\n",
    "    def cuttingRope(self, n: int) -> int:\n",
    "        if n <= 3:\n",
    "            return n - 1\n",
    "    \n",
    "        a, b = n // 3, n % 3\n",
    "        if b == 0:\n",
    "            return 3 ** a\n",
    "        elif b == 1:\n",
    "            # 余数为 1 的时候, 就要把一个 3 + 1 变成 2 + 2\n",
    "            return 3 ** (a - 1) * 4\n",
    "        else:\n",
    "            return 3 ** a * 2"
   ]
  },
  {
   "cell_type": "code",
   "execution_count": null,
   "metadata": {},
   "outputs": [],
   "source": [
    "# 动态规划也可以解决, 看出是单串\n",
    "class Solution:\n",
    "    def cuttingRope(self, n: int) -> int:\n",
    "        dp = [0] * (n+1)\n",
    "        dp[1] = 1\n",
    "        for i in range(2, n+1):\n",
    "            for j in range(1, i):\n",
    "                # 第一个 max 是和以前比较\n",
    "                # 第二个 max 的第一个是将绳子割两段, j 一段, i-j 一段\n",
    "                # 第二个 max 的第二个是将绳子割多段, j 一段, dp[i-j] 的最大值\n",
    "                dp[i] = max(dp[i], max(j * (i-j), j * dp[i-j]))\n",
    "        return dp[-1]"
   ]
  }
 ],
 "metadata": {
  "language_info": {
   "name": "python"
  },
  "orig_nbformat": 4
 },
 "nbformat": 4,
 "nbformat_minor": 2
}
