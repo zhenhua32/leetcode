{
    "cells": [
        {
            "cell_type": "code",
            "execution_count": 1,
            "source": [
                "from typing import List"
            ],
            "outputs": [],
            "metadata": {}
        },
        {
            "cell_type": "code",
            "execution_count": 15,
            "source": [
                "class Solution:\r\n",
                "    def combine(self, xstr, ystr):\r\n",
                "        # 组合两个\r\n",
                "        result = set()\r\n",
                "        for x in xstr:\r\n",
                "            for y in ystr:\r\n",
                "                result.add(x+y)\r\n",
                "        return result\r\n",
                "\r\n",
                "    def letterCombinations(self, digits: str) -> List[str]:\r\n",
                "        # 每一位都要用到\r\n",
                "        digit_map = {\r\n",
                "            \"2\": \"abc\",\r\n",
                "            \"3\": \"def\",\r\n",
                "            \"4\": \"ghi\",\r\n",
                "            \"5\": \"jkl\",\r\n",
                "            \"6\": \"mno\",\r\n",
                "            \"7\": \"pqrs\",\r\n",
                "            \"8\": \"tuv\",\r\n",
                "            \"9\": \"wxyz\",\r\n",
                "        }\r\n",
                "        if len(digits) == 0:\r\n",
                "            return []\r\n",
                "        if len(digits) == 1:\r\n",
                "            return list(digit_map[digits[0]])\r\n",
                "\r\n",
                "        result = set(digit_map[digits[0]])\r\n",
                "        for x in digits[1:]:\r\n",
                "            result = self.combine(result, digit_map[x])\r\n",
                "        \r\n",
                "        return list(result)\r\n"
            ],
            "outputs": [],
            "metadata": {}
        },
        {
            "cell_type": "code",
            "execution_count": 16,
            "source": [
                "Solution().letterCombinations(\"23\")"
            ],
            "outputs": [
                {
                    "output_type": "execute_result",
                    "data": {
                        "text/plain": [
                            "['cf', 'cd', 'bf', 'bd', 'ad', 'af', 'ce', 'ae', 'be']"
                        ]
                    },
                    "metadata": {},
                    "execution_count": 16
                }
            ],
            "metadata": {}
        },
        {
            "cell_type": "code",
            "execution_count": 17,
            "source": [
                "Solution().letterCombinations(\"\")"
            ],
            "outputs": [
                {
                    "output_type": "execute_result",
                    "data": {
                        "text/plain": [
                            "[]"
                        ]
                    },
                    "metadata": {},
                    "execution_count": 17
                }
            ],
            "metadata": {}
        },
        {
            "cell_type": "code",
            "execution_count": null,
            "source": [
                "Solution().letterCombinations(\"2\")"
            ],
            "outputs": [],
            "metadata": {}
        }
    ],
    "metadata": {
        "orig_nbformat": 4,
        "language_info": {
            "name": "python"
        }
    },
    "nbformat": 4,
    "nbformat_minor": 2
}