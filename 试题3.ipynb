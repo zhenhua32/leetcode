{
 "cells": [
  {
   "cell_type": "markdown",
   "metadata": {},
   "source": [
    "现有一个序列A和一个序列B，请将这两个进行合并并用快速排序排序成一个序列C，再在这个有序序列C中二分查找一个目标元素a并输出这个目标元素a的位置index"
   ]
  },
  {
   "cell_type": "code",
   "execution_count": 4,
   "metadata": {},
   "outputs": [],
   "source": [
    "def quick_sort(A: list, B: list):\n",
    "    \"\"\"\n",
    "    快速排序\n",
    "    \"\"\"\n",
    "    result = A + B\n",
    "    if len(result) <= 1:\n",
    "        return result\n",
    "    \n",
    "    first = result[0]\n",
    "    \n",
    "    left = [x for x in result if x < first]\n",
    "    right = [x for x in result if x > first]\n",
    "    same = [x for x in result if x == first]\n",
    "\n",
    "    return quick_sort(left, []) + same +  quick_sort(right, [])"
   ]
  },
  {
   "cell_type": "code",
   "execution_count": 5,
   "metadata": {},
   "outputs": [
    {
     "data": {
      "text/plain": [
       "[1, 1, 2, 2]"
      ]
     },
     "execution_count": 5,
     "metadata": {},
     "output_type": "execute_result"
    }
   ],
   "source": [
    "quick_sort([1, 2], [2, 1])"
   ]
  },
  {
   "cell_type": "code",
   "execution_count": 1,
   "metadata": {},
   "outputs": [],
   "source": [
    "def bin_search(C: list, a: int):\n",
    "    \"\"\"\n",
    "    C 是升序的输入序列, a 是目标值, 使用二分查找找到对应的索引 index\n",
    "    \"\"\"\n",
    "    length = len(C)\n",
    "\n",
    "    # 终止条件\n",
    "    if length == 0:\n",
    "        return -1\n",
    "    if C[0] > a:\n",
    "        return -1\n",
    "    if C[-1] < a:\n",
    "        return -1\n",
    "\n",
    "    mid = length // 2\n",
    "    val = C[mid]\n",
    "\n",
    "    if val == a:  # 相等\n",
    "        return mid  # 当前所有索引\n",
    "    elif val < a:  # 当前值小于 a, 就要去右边\n",
    "        return mid + bin_search(C[mid:], a)\n",
    "    else:  # 当前值大于 a, 就要去左边搜索\n",
    "        return bin_search(C[:mid], a)"
   ]
  }
 ],
 "metadata": {
  "kernelspec": {
   "display_name": "torch",
   "language": "python",
   "name": "python3"
  },
  "language_info": {
   "codemirror_mode": {
    "name": "ipython",
    "version": 3
   },
   "file_extension": ".py",
   "mimetype": "text/x-python",
   "name": "python",
   "nbconvert_exporter": "python",
   "pygments_lexer": "ipython3",
   "version": "3.8.5"
  }
 },
 "nbformat": 4,
 "nbformat_minor": 2
}
