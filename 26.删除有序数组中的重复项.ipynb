{
    "cells": [
        {
            "cell_type": "code",
            "execution_count": 1,
            "source": [
                "from typing import List"
            ],
            "outputs": [],
            "metadata": {}
        },
        {
            "cell_type": "code",
            "execution_count": 49,
            "source": [
                "class Solution:\r\n",
                "    def removeDuplicates(self, nums: List[int]) -> int:\r\n",
                "        cur = None\r\n",
                "        count = 0\r\n",
                "        # O(1) 的额外空间, 不使用额外的数组空间\r\n",
                "        for i in range(len(nums)):\r\n",
                "            # 这 i 就是在 nums 不断缩小后的新索引位置\r\n",
                "            i = count\r\n",
                "            if cur == nums[i]:\r\n",
                "                # 怎么做到在原地修改数组\r\n",
                "                nums.pop(i)\r\n",
                "            else:\r\n",
                "                count += 1\r\n",
                "                cur = nums[i]\r\n",
                "        return count\r\n"
            ],
            "outputs": [],
            "metadata": {}
        },
        {
            "cell_type": "code",
            "execution_count": 148,
            "source": [
                "a = [1,1,1,2,2,3]\r\n",
                "print(Solution().removeDuplicates(a))\r\n",
                "print(a)"
            ],
            "outputs": [
                {
                    "output_type": "stream",
                    "name": "stdout",
                    "text": [
                        "3\n",
                        "[1, 2, 3, 1, 2, 1]\n"
                    ]
                }
            ],
            "metadata": {}
        },
        {
            "cell_type": "code",
            "execution_count": 146,
            "source": [
                "a = [0,0,1,1,1,2,2,3,3,4]\r\n",
                "print(Solution().removeDuplicates(a))\r\n",
                "print(a)"
            ],
            "outputs": [
                {
                    "output_type": "stream",
                    "name": "stdout",
                    "text": [
                        "5\n",
                        "[0, 1, 2, 3, 4, 0, 2, 1, 3, 1]\n"
                    ]
                }
            ],
            "metadata": {}
        },
        {
            "cell_type": "code",
            "execution_count": 150,
            "source": [
                "class Solution:\r\n",
                "    def removeDuplicates(self, nums: List[int]) -> int:\r\n",
                "        len_num = len(nums)\r\n",
                "        if len_num <= 1:\r\n",
                "            return len_num\r\n",
                "\r\n",
                "        cur = nums[0]\r\n",
                "        count = 1\r\n",
                "        cur_idx = 1\r\n",
                "        find = None\r\n",
                "        # O(1) 的额外空间, 不使用额外的数组空间\r\n",
                "        while nums[cur_idx:]:\r\n",
                "            find = False\r\n",
                "            for i, x in enumerate(nums[cur_idx:]):\r\n",
                "                if x > cur:\r\n",
                "                    # 交换两个位置\r\n",
                "                    nums[count], nums[cur_idx+i] = nums[cur_idx+i], nums[count]\r\n",
                "                    cur_idx += i + 1\r\n",
                "                    count += 1\r\n",
                "                    find = True\r\n",
                "                    cur = x\r\n",
                "                    break\r\n",
                "            # 如果没有找到比它更大的了, 就表示结束了\r\n",
                "            if not find:\r\n",
                "                break\r\n",
                "                    \r\n",
                "        return count"
            ],
            "outputs": [],
            "metadata": {}
        },
        {
            "cell_type": "code",
            "execution_count": 145,
            "source": [
                "a = [1,2]\r\n",
                "print(Solution().removeDuplicates(a))\r\n",
                "print(a)"
            ],
            "outputs": [
                {
                    "output_type": "stream",
                    "name": "stdout",
                    "text": [
                        "2\n",
                        "[1, 2]\n"
                    ]
                }
            ],
            "metadata": {}
        },
        {
            "cell_type": "code",
            "execution_count": 151,
            "source": [
                "a = [1,1]\r\n",
                "print(Solution().removeDuplicates(a))\r\n",
                "print(a)"
            ],
            "outputs": [
                {
                    "output_type": "stream",
                    "name": "stdout",
                    "text": [
                        "1\n",
                        "[1, 1]\n"
                    ]
                }
            ],
            "metadata": {}
        }
    ],
    "metadata": {
        "orig_nbformat": 4,
        "language_info": {
            "name": "python"
        }
    },
    "nbformat": 4,
    "nbformat_minor": 2
}