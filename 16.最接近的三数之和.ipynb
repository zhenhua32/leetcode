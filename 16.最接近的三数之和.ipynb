{
    "cells": [
        {
            "cell_type": "code",
            "execution_count": 2,
            "source": [
                "from typing import List"
            ],
            "outputs": [],
            "metadata": {}
        },
        {
            "cell_type": "code",
            "execution_count": 13,
            "source": [
                "class Solution:\r\n",
                "    def find_cloest(self, sorted_nums, need):\r\n",
                "        if need <= sorted_nums[0]:\r\n",
                "            return sorted_nums[0]\r\n",
                "        elif need >= sorted_nums[-1]:\r\n",
                "            return sorted_nums[-1]\r\n",
                "\r\n",
                "        mid = len(sorted_nums) // 2\r\n",
                "        mid_val = sorted_nums[mid]\r\n",
                "        if mid_val == need:\r\n",
                "            return need\r\n",
                "        elif mid_val > need:\r\n",
                "            # 留下左边的\r\n",
                "            val =  self.find_cloest(sorted_nums[:mid], need)\r\n",
                "        else:\r\n",
                "            val =  self.find_cloest(sorted_nums[mid:], need)\r\n",
                "        \r\n",
                "        if abs(val - need) < abs(mid_val - need):\r\n",
                "            return val\r\n",
                "        else:\r\n",
                "            return mid_val\r\n",
                "\r\n",
                "    def threeSumClosest(self, nums: List[int], target: int) -> int:\r\n",
                "        sorted_nums = sorted(nums)\r\n",
                "\r\n",
                "        num_map = {}\r\n",
                "        for num in nums:\r\n",
                "            if num not in num_map:\r\n",
                "                num_map[num] = 1\r\n",
                "            else:\r\n",
                "                num_map[num] += 1\r\n",
                "\r\n",
                "        result = sum(nums[:3])\r\n",
                "        for i, x in enumerate(nums):\r\n",
                "            for y in nums[i+1:]:\r\n",
                "                cur = x + y\r\n",
                "                need = target - cur\r\n",
                "                sorted_nums_copy = sorted_nums.copy()\r\n",
                "                sorted_nums_copy.remove(x)\r\n",
                "                sorted_nums_copy.remove(y)\r\n",
                "                cloest_val = self.find_cloest(sorted_nums_copy, need)\r\n",
                "\r\n",
                "                if abs(cur + cloest_val - target) < abs(result - target):\r\n",
                "                    result = cur + cloest_val\r\n",
                "        \r\n",
                "        return result"
            ],
            "outputs": [],
            "metadata": {}
        },
        {
            "cell_type": "code",
            "execution_count": 14,
            "source": [
                "Solution().threeSumClosest(nums=[-1,2,1,-4], target=1)"
            ],
            "outputs": [
                {
                    "output_type": "execute_result",
                    "data": {
                        "text/plain": [
                            "2"
                        ]
                    },
                    "metadata": {},
                    "execution_count": 14
                }
            ],
            "metadata": {}
        }
    ],
    "metadata": {
        "orig_nbformat": 4,
        "language_info": {
            "name": "python"
        }
    },
    "nbformat": 4,
    "nbformat_minor": 2
}