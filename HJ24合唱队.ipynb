{
 "cells": [
  {
   "cell_type": "code",
   "execution_count": null,
   "metadata": {},
   "outputs": [],
   "source": [
    "num = int(input().strip())\n",
    "heights = list(map(int, input().strip().split()))\n",
    "\n"
   ]
  },
  {
   "cell_type": "code",
   "execution_count": null,
   "metadata": {},
   "outputs": [],
   "source": [
    "import bisect\n",
    "def inc_max(l):\n",
    "    # dp 数组里存放的是 **以当前元素为结尾** 的最长递增子序列的长度\n",
    "    dp = [1]*len(l) # 初始化dp，最小递增子序列长度为1\n",
    "    # arr 数组里存放的是 **当前长度** 的最长递增子序列的最小值\n",
    "    arr = [l[0]] # 创建数组\n",
    "    for i in range(1,len(l)): # 从原序列第二个元素开始遍历\n",
    "\n",
    "        # 如果这个值比当前的最大值要大\n",
    "        if l[i] > arr[-1]:\n",
    "            arr.append(l[i])\n",
    "            dp[i] = len(arr)\n",
    "        else:\n",
    "            # 二分法查找，arr是一个递增的数组，所以可以用二分法\n",
    "            pos = bisect.bisect_left(arr, l[i]) # 用二分法找到arr中第一个比ele_i大（或相等）的元素的位置\n",
    "            arr[pos] = l[i]\n",
    "            # 比插入位置大一个\n",
    "            dp[i] = pos+1\n",
    "    return dp \n",
    "\n",
    "while True:\n",
    "    try:\n",
    "        # 第一行输入是合唱团的人数\n",
    "        N = int(input())\n",
    "        # 第二行是每个人的身高\n",
    "        s = list(map(int, input().split()))\n",
    "        left_s = inc_max(s) # 从左至右\n",
    "        right_s = inc_max(s[::-1])[::-1] # 从右至左\n",
    "        sum_s = [left_s[i]+right_s[i]-1 for i in range(len(s))] # 相加并减去重复计算\n",
    "        # max(sum_s) 就是合唱团的长度. 还有个小技巧, 转换成 str\n",
    "        print(str(N-max(sum_s)))\n",
    "    except:\n",
    "        break\n"
   ]
  },
  {
   "cell_type": "code",
   "execution_count": 2,
   "metadata": {},
   "outputs": [
    {
     "name": "stdout",
     "output_type": "stream",
     "text": [
      "1\n"
     ]
    }
   ],
   "source": []
  }
 ],
 "metadata": {
  "kernelspec": {
   "display_name": "base",
   "language": "python",
   "name": "python3"
  },
  "language_info": {
   "codemirror_mode": {
    "name": "ipython",
    "version": 3
   },
   "file_extension": ".py",
   "mimetype": "text/x-python",
   "name": "python",
   "nbconvert_exporter": "python",
   "pygments_lexer": "ipython3",
   "version": "3.9.7"
  },
  "orig_nbformat": 4
 },
 "nbformat": 4,
 "nbformat_minor": 2
}
