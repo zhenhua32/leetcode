{
 "cells": [
  {
   "cell_type": "code",
   "execution_count": 1,
   "metadata": {},
   "outputs": [],
   "source": [
    "from typing import List\n",
    "\n",
    "class Solution:\n",
    "    def dicesProbability(self, n: int) -> List[float]:\n",
    "        # n 为 1 时的结果\n",
    "        dp = [1/6] * 6\n",
    "\n",
    "        # dp 是上一种情况的结果, tmp 是当前情况的结果\n",
    "        # 从 n = 2 开始递推\n",
    "        for i in range(2, n+1):\n",
    "            # 最多有 5*i+1 种情况, 就是从 1 * i 到 6 * i\n",
    "            tmp = [0] * (5*i+1)\n",
    "            # 对于以前的每一种结果, 都有 6 种可能\n",
    "            for j in range(len(dp)):\n",
    "                # dp[j] 是上一种情况的概率\n",
    "                # k 是当前骰子的点数\n",
    "                for k in range(6):\n",
    "                    tmp[j+k] += dp[j] / 6\n",
    "            dp = tmp\n",
    "        return dp"
   ]
  },
  {
   "cell_type": "code",
   "execution_count": 2,
   "metadata": {},
   "outputs": [
    {
     "data": {
      "text/plain": [
       "[0.027777777777777776,\n",
       " 0.05555555555555555,\n",
       " 0.08333333333333333,\n",
       " 0.1111111111111111,\n",
       " 0.1388888888888889,\n",
       " 0.16666666666666669,\n",
       " 0.1388888888888889,\n",
       " 0.1111111111111111,\n",
       " 0.08333333333333333,\n",
       " 0.05555555555555555,\n",
       " 0.027777777777777776]"
      ]
     },
     "execution_count": 2,
     "metadata": {},
     "output_type": "execute_result"
    }
   ],
   "source": [
    "Solution().dicesProbability(2)"
   ]
  }
 ],
 "metadata": {
  "kernelspec": {
   "display_name": "base",
   "language": "python",
   "name": "python3"
  },
  "language_info": {
   "codemirror_mode": {
    "name": "ipython",
    "version": 3
   },
   "file_extension": ".py",
   "mimetype": "text/x-python",
   "name": "python",
   "nbconvert_exporter": "python",
   "pygments_lexer": "ipython3",
   "version": "3.8.5"
  },
  "orig_nbformat": 4
 },
 "nbformat": 4,
 "nbformat_minor": 2
}
