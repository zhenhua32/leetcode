{
    "cells": [
        {
            "cell_type": "code",
            "execution_count": 1,
            "source": [
                "from typing import List"
            ],
            "outputs": [],
            "metadata": {}
        },
        {
            "cell_type": "code",
            "execution_count": 5,
            "source": [
                "class Solution:\r\n",
                "    def permute(self, nums: List[int]) -> List[List[int]]:\r\n",
                "        result = []\r\n",
                "\r\n",
                "        len_nums = len(nums)\r\n",
                "        if len_nums == 0:\r\n",
                "            return []\r\n",
                "        if len_nums == 1:\r\n",
                "            return [nums]\r\n",
                "        \r\n",
                "        val = nums[-1]\r\n",
                "        last_result = self.permute(nums[:-1])\r\n",
                "        for one in last_result:\r\n",
                "            # 可以将 val 放在任何索引上\r\n",
                "            for i in range(len(one)+1):\r\n",
                "                result.append(one[:i]+[val]+one[i:])\r\n",
                "        \r\n",
                "        return result"
            ],
            "outputs": [],
            "metadata": {}
        },
        {
            "cell_type": "code",
            "execution_count": 6,
            "source": [
                "Solution().permute([1,2,3])"
            ],
            "outputs": [
                {
                    "output_type": "execute_result",
                    "data": {
                        "text/plain": [
                            "[[3, 2, 1], [2, 3, 1], [2, 1, 3], [3, 1, 2], [1, 3, 2], [1, 2, 3]]"
                        ]
                    },
                    "metadata": {},
                    "execution_count": 6
                }
            ],
            "metadata": {}
        },
        {
            "cell_type": "code",
            "execution_count": 7,
            "source": [
                "Solution().permute([0,1])"
            ],
            "outputs": [
                {
                    "output_type": "execute_result",
                    "data": {
                        "text/plain": [
                            "[[1, 0], [0, 1]]"
                        ]
                    },
                    "metadata": {},
                    "execution_count": 7
                }
            ],
            "metadata": {}
        },
        {
            "cell_type": "code",
            "execution_count": 8,
            "source": [
                "Solution().permute([1])"
            ],
            "outputs": [
                {
                    "output_type": "execute_result",
                    "data": {
                        "text/plain": [
                            "[[1]]"
                        ]
                    },
                    "metadata": {},
                    "execution_count": 8
                }
            ],
            "metadata": {}
        }
    ],
    "metadata": {
        "orig_nbformat": 4,
        "language_info": {
            "name": "python"
        }
    },
    "nbformat": 4,
    "nbformat_minor": 2
}