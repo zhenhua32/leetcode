{
    "cells": [
        {
            "cell_type": "code",
            "execution_count": 1,
            "source": [
                "from typing import List"
            ],
            "outputs": [],
            "metadata": {}
        },
        {
            "cell_type": "code",
            "execution_count": 3,
            "source": [
                "class Solution:\r\n",
                "    def searchRange(self, nums: List[int], target: int) -> List[int]:\r\n",
                "        result = [-1, -1]\r\n",
                "        for i, x in enumerate(nums):\r\n",
                "            if x == target:\r\n",
                "                result[-1] = i\r\n",
                "                if result[0] == -1:\r\n",
                "                    result[0] = i\r\n",
                "            else:\r\n",
                "                if result[-1] != -1:\r\n",
                "                    break\r\n",
                "        return result"
            ],
            "outputs": [],
            "metadata": {}
        },
        {
            "cell_type": "code",
            "execution_count": 4,
            "source": [
                "nums = [5,7,7,8,8,10]\r\n",
                "target = 8\r\n",
                "Solution().searchRange(nums, target)"
            ],
            "outputs": [
                {
                    "output_type": "execute_result",
                    "data": {
                        "text/plain": [
                            "[3, 4]"
                        ]
                    },
                    "metadata": {},
                    "execution_count": 4
                }
            ],
            "metadata": {}
        },
        {
            "cell_type": "code",
            "execution_count": null,
            "source": [],
            "outputs": [],
            "metadata": {}
        }
    ],
    "metadata": {
        "orig_nbformat": 4,
        "language_info": {
            "name": "python"
        }
    },
    "nbformat": 4,
    "nbformat_minor": 2
}