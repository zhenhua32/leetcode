{
 "cells": [
  {
   "cell_type": "code",
   "execution_count": 1,
   "metadata": {},
   "outputs": [],
   "source": [
    "# 以前写的答案\n",
    "class Solution:\n",
    "    def longestPalindrome(self, s: str) -> str:\n",
    "        length = len(s)\n",
    "\n",
    "        # i 是从最大的长度开始遍历\n",
    "        for i in range(length, 0, -1):\n",
    "            # j 是从第一个字符开始遍历\n",
    "            for j in range(0, length):\n",
    "                # 当前字符的长度\n",
    "                cur = s[j:j + i]\n",
    "                if len(cur) != i:\n",
    "                    break\n",
    "                if cur == cur[::-1]:\n",
    "                    return \"\".join(cur)"
   ]
  },
  {
   "cell_type": "code",
   "execution_count": 2,
   "metadata": {},
   "outputs": [],
   "source": [
    "class Solution:\n",
    "    def longestPalindrome(self, s: str) -> str:\n",
    "        m = len(s)\n",
    "\n",
    "        if m < 2:\n",
    "            return s\n",
    "        \n",
    "        # 定义 dp 矩阵, (i, j) 表示 s[i:j+1] 是否为回文串\n",
    "        dp = [[False] * m for _ in range(m)]\n",
    "\n",
    "        # 初始化 dp 矩阵\n",
    "        for i in range(m):\n",
    "            dp[i][i] = True\n",
    "        \n",
    "        # 记录最长回文子串的长度和起始位置\n",
    "        max_len = 1\n",
    "        start = 0\n",
    "\n",
    "        # 递推开始\n",
    "        for j in range(1, m):\n",
    "            for i in range(j):\n",
    "                # 最左边和最右边的字符相等\n",
    "                if s[i] == s[j]:\n",
    "                    # 边界条件\n",
    "                    if j - i < 3:\n",
    "                        dp[i][j] = True\n",
    "                    else:\n",
    "                        # 状态转移, 减小范围, 去掉最左边和最右边的字符\n",
    "                        dp[i][j] = dp[i+1][j-1]\n",
    "                else:\n",
    "                    dp[i][j] = False\n",
    "                \n",
    "                # 更新最长回文子串的长度和起始位置\n",
    "                if dp[i][j] and j - i + 1 > max_len:\n",
    "                    max_len = j - i + 1\n",
    "                    start = i\n",
    "        \n",
    "        return s[start:start+max_len]"
   ]
  },
  {
   "cell_type": "code",
   "execution_count": 4,
   "metadata": {},
   "outputs": [
    {
     "data": {
      "text/plain": [
       "'b'"
      ]
     },
     "execution_count": 4,
     "metadata": {},
     "output_type": "execute_result"
    }
   ],
   "source": [
    "Solution().longestPalindrome(\"ba\")"
   ]
  }
 ],
 "metadata": {
  "kernelspec": {
   "display_name": "base",
   "language": "python",
   "name": "python3"
  },
  "language_info": {
   "codemirror_mode": {
    "name": "ipython",
    "version": 3
   },
   "file_extension": ".py",
   "mimetype": "text/x-python",
   "name": "python",
   "nbconvert_exporter": "python",
   "pygments_lexer": "ipython3",
   "version": "3.9.7"
  },
  "orig_nbformat": 4
 },
 "nbformat": 4,
 "nbformat_minor": 2
}
