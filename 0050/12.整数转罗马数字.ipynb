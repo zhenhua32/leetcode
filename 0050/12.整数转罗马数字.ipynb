{
    "cells": [
        {
            "cell_type": "code",
            "execution_count": 4,
            "source": [
                "class Solution:\r\n",
                "    def intToRoman(self, num: int) -> str:\r\n",
                "        num1 = \"IXCM\"\r\n",
                "        num5 = \"VLD\"\r\n",
                "        result = []\r\n",
                "        str_num = str(num)\r\n",
                "        \r\n",
                "        for i, n in enumerate(str_num[::-1]):\r\n",
                "            if n == \"4\":\r\n",
                "                result.append(num1[i]+num5[i])\r\n",
                "            elif n == \"9\":\r\n",
                "                result.append(num1[i]+num1[i+1])\r\n",
                "            elif n == \"5\":\r\n",
                "                result.append(num5[i])\r\n",
                "            elif 0 < int(n) < 5:\r\n",
                "                result.append(num1[i] * int(n))\r\n",
                "            elif int(n) > 5:\r\n",
                "                result.append(num5[i] + num1[i] * (int(n)-5))\r\n",
                "        \r\n",
                "        return \"\".join(result[::-1])\r\n"
            ],
            "outputs": [],
            "metadata": {}
        },
        {
            "cell_type": "code",
            "execution_count": 5,
            "source": [
                "Solution().intToRoman(3)"
            ],
            "outputs": [
                {
                    "output_type": "execute_result",
                    "data": {
                        "text/plain": [
                            "'III'"
                        ]
                    },
                    "metadata": {},
                    "execution_count": 5
                }
            ],
            "metadata": {}
        },
        {
            "cell_type": "code",
            "execution_count": 6,
            "source": [
                "Solution().intToRoman(4)"
            ],
            "outputs": [
                {
                    "output_type": "execute_result",
                    "data": {
                        "text/plain": [
                            "'IV'"
                        ]
                    },
                    "metadata": {},
                    "execution_count": 6
                }
            ],
            "metadata": {}
        },
        {
            "cell_type": "code",
            "execution_count": 7,
            "source": [
                "Solution().intToRoman(9)"
            ],
            "outputs": [
                {
                    "output_type": "execute_result",
                    "data": {
                        "text/plain": [
                            "'IX'"
                        ]
                    },
                    "metadata": {},
                    "execution_count": 7
                }
            ],
            "metadata": {}
        },
        {
            "cell_type": "code",
            "execution_count": 8,
            "source": [
                "Solution().intToRoman(58)"
            ],
            "outputs": [
                {
                    "output_type": "execute_result",
                    "data": {
                        "text/plain": [
                            "'LVIII'"
                        ]
                    },
                    "metadata": {},
                    "execution_count": 8
                }
            ],
            "metadata": {}
        },
        {
            "cell_type": "code",
            "execution_count": 9,
            "source": [
                "Solution().intToRoman(1994)"
            ],
            "outputs": [
                {
                    "output_type": "execute_result",
                    "data": {
                        "text/plain": [
                            "'MCMXCIV'"
                        ]
                    },
                    "metadata": {},
                    "execution_count": 9
                }
            ],
            "metadata": {}
        }
    ],
    "metadata": {
        "orig_nbformat": 4,
        "language_info": {
            "name": "python"
        }
    },
    "nbformat": 4,
    "nbformat_minor": 2
}