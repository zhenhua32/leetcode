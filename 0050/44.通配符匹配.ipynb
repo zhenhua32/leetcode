{
    "cells": [
        {
            "cell_type": "code",
            "execution_count": null,
            "source": [
                "class Solution:\r\n",
                "    cache_result = {}\r\n",
                "\r\n",
                "    def merge_star(self, p: str):\r\n",
                "        while \"**\" in p:\r\n",
                "            p = p.replace(\"**\", \"*\")\r\n",
                "        return p\r\n",
                "\r\n",
                "    def quick_look_not_match(self, s: str, p:str):\r\n",
                "        s0 = s[0]\r\n",
                "        s1 = s[-1]\r\n",
                "        p0 = p[0]\r\n",
                "        p1 = p[-1]\r\n",
                "        if p0 not in [\"*\", \"?\"]:\r\n",
                "            if p0 != s0:\r\n",
                "                return True\r\n",
                "        if p1 not in [\"*\", \"?\"]:\r\n",
                "            if p1 != s1:\r\n",
                "                return True\r\n",
                "        return False\r\n",
                "\r\n",
                "    def isMatch(self, s: str, p: str) -> bool:\r\n",
                "        p = self.merge_star(p)\r\n",
                "\r\n",
                "        if (s, p) in self.cache_result:\r\n",
                "            return self.cache_result[(s, p)]\r\n",
                "\r\n",
                "        if p == \"\":\r\n",
                "            return s == \"\"\r\n",
                "        if s == \"\":\r\n",
                "            # 仅当全是 * 组成时才能匹配, 包括 0 个\r\n",
                "            result = p.count(\"*\") == len(p)\r\n",
                "            self.cache_result[(s, p)] = result\r\n",
                "            return result\r\n",
                "\r\n",
                "        if self.quick_look_not_match(s, p):\r\n",
                "            self.cache_result[(s, p)] = False\r\n",
                "            return False\r\n",
                "\r\n",
                "        slen = len(s)\r\n",
                "        plen = len(p)\r\n",
                "\r\n",
                "        si = 0\r\n",
                "        pi = 0\r\n",
                "\r\n",
                "        while pi < plen:\r\n",
                "            pval = p[pi]\r\n",
                "            sval = s[si] if si < slen else None\r\n",
                "            if pval == \"?\":\r\n",
                "                # 跳过, 匹配任何单个字符\r\n",
                "                if sval is None:\r\n",
                "                    self.cache_result[(s, p)] = False\r\n",
                "                    return False\r\n",
                "            elif pval == \"*\":\r\n",
                "                # 星号, 可以匹配任意数量的任意字符\r\n",
                "                # 所以就把任意的可能性都去尝试一遍\r\n",
                "                # result = any(self.isMatch(s[x:], p[pi+1:]) for x in range(si, slen+1))\r\n",
                "                if pi + 1 < plen:\r\n",
                "                    next_char = p[pi+1]\r\n",
                "                    # next_char 可能是 ?\r\n",
                "                    if next_char == \"?\":\r\n",
                "                        result = any(self.isMatch(s[x:], p[pi+1:]) for x in range(si, slen+1))\r\n",
                "                    else:\r\n",
                "                        next_char_idx = [x for x in range(si, slen) if s[x] == next_char]\r\n",
                "                        result = any(self.isMatch(s[x:], p[pi+1:]) for x in next_char_idx)\r\n",
                "                else:\r\n",
                "                    # 因为是最后一个字符了, 且是 *, 所以可以匹配任何的 s\r\n",
                "                    result = True\r\n",
                "                self.cache_result[(s, p)] = result\r\n",
                "                return result\r\n",
                "            else:\r\n",
                "                if pval != sval:\r\n",
                "                    self.cache_result[(s, p)] = False\r\n",
                "                    return False\r\n",
                "            \r\n",
                "            si += 1\r\n",
                "            pi += 1\r\n",
                "        \r\n",
                "        # 只有一起到达终点, 才算是匹配成功\r\n",
                "        result = True if si == slen and pi == plen else False\r\n",
                "        self.cache_result[(s, p)] = result\r\n",
                "        return result\r\n",
                "\r\n"
            ],
            "outputs": [],
            "metadata": {}
        },
        {
            "cell_type": "code",
            "execution_count": null,
            "source": [
                "Solution().isMatch(\"aa\", \"a\") is False"
            ],
            "outputs": [],
            "metadata": {}
        },
        {
            "cell_type": "code",
            "execution_count": null,
            "source": [
                "Solution().isMatch(\"aa\", \"*\") is True"
            ],
            "outputs": [],
            "metadata": {}
        },
        {
            "cell_type": "code",
            "execution_count": null,
            "source": [
                "Solution().isMatch(\"cb\", \"*a\") is False"
            ],
            "outputs": [],
            "metadata": {}
        },
        {
            "cell_type": "code",
            "execution_count": null,
            "source": [
                "Solution().isMatch(\"adceb\", \"*a*b\") is True"
            ],
            "outputs": [],
            "metadata": {}
        },
        {
            "cell_type": "code",
            "execution_count": null,
            "source": [
                "Solution().isMatch(\"acdcb\", \"a*c?b\") is False"
            ],
            "outputs": [],
            "metadata": {}
        },
        {
            "cell_type": "code",
            "execution_count": null,
            "source": [
                "Solution().isMatch(\"\", \"******\")"
            ],
            "outputs": [],
            "metadata": {}
        },
        {
            "cell_type": "code",
            "execution_count": null,
            "source": [
                "Solution().isMatch(\"aaabbbaabaaaaababaabaaabbabbbbbbbbaabababbabbbaaaaba\", \"a*******b\")"
            ],
            "outputs": [],
            "metadata": {}
        },
        {
            "cell_type": "code",
            "execution_count": null,
            "source": [
                "Solution().isMatch(\"babbbbaabababaabbababaababaabbaabababbaaababbababaaaaaabbabaaaabababbabbababbbaaaababbbabbbbbbbbbbaabbb\", \"b**bb**a**bba*b**a*bbb**aba***babbb*aa****aabb*bbb***a\")"
            ],
            "outputs": [],
            "metadata": {}
        },
        {
            "cell_type": "code",
            "execution_count": null,
            "source": [
                "Solution().isMatch(\"abcabczzzde\", \"*abc???de*\")"
            ],
            "outputs": [],
            "metadata": {}
        },
        {
            "cell_type": "code",
            "execution_count": null,
            "source": [
                "class Solution:\r\n",
                "    cache_result = {}\r\n",
                "\r\n",
                "    def merge_star(self, p: str):\r\n",
                "        while \"**\" in p:\r\n",
                "            p = p.replace(\"**\", \"*\")\r\n",
                "        return p\r\n",
                "\r\n",
                "    def isMatch(self, s: str, p: str) -> bool:\r\n",
                "        p = self.merge_star(p)\r\n",
                "        old_s = s\r\n",
                "        old_p = p\r\n",
                "\r\n",
                "        if (s, p) in self.cache_result:\r\n",
                "            return self.cache_result[(s, p)]\r\n",
                "\r\n",
                "        if p == \"\":\r\n",
                "            return s == \"\"\r\n",
                "        if s == \"\":\r\n",
                "            # 仅当全是 * 组成时才能匹配, 包括 0 个\r\n",
                "            return p.count(\"*\") == len(p)\r\n",
                "        \r\n",
                "        # 剥离到只剩左右两侧的星号\r\n",
                "        while p and p[0] != \"*\":\r\n",
                "            pval = p[0]\r\n",
                "            p = p[1:]\r\n",
                "            if not s:\r\n",
                "                self.cache_result[(old_s, old_p)] = False\r\n",
                "                return False\r\n",
                "            sval = s[0]\r\n",
                "            s = s[1:]\r\n",
                "            if pval == \"?\":\r\n",
                "                continue\r\n",
                "            elif pval != sval:\r\n",
                "                self.cache_result[(old_s, old_p)] = False\r\n",
                "                return False\r\n",
                "        \r\n",
                "        while p and p[-1] != \"*\":\r\n",
                "            pval = p[-1]\r\n",
                "            p = p[:-1]\r\n",
                "            if not s:\r\n",
                "                self.cache_result[(old_s, old_p)] = False\r\n",
                "                return False\r\n",
                "            sval = s[-1]\r\n",
                "            s = s[:-1]\r\n",
                "            if pval == \"?\":\r\n",
                "                continue\r\n",
                "            elif pval != sval:\r\n",
                "                self.cache_result[(old_s, old_p)] = False\r\n",
                "                return False\r\n",
                "        \r\n",
                "        if p == \"\":\r\n",
                "            return s == \"\"\r\n",
                "        if s == \"\":\r\n",
                "            # 仅当全是 * 组成时才能匹配, 包括 0 个\r\n",
                "            return p.count(\"*\") == len(p)\r\n",
                "\r\n",
                "        slen = len(s)\r\n",
                "        plen = len(p)\r\n",
                "\r\n",
                "        si = 0\r\n",
                "        pi = 0\r\n",
                "\r\n",
                "        while pi < plen:\r\n",
                "            pval = p[pi]\r\n",
                "            sval = s[si] if si < slen else None\r\n",
                "            if pval == \"?\":\r\n",
                "                # 跳过, 匹配任何单个字符\r\n",
                "                if sval is None:\r\n",
                "                    self.cache_result[(old_s, old_p)] = False\r\n",
                "                    return False\r\n",
                "            elif pval == \"*\":\r\n",
                "                # 星号, 可以匹配任意数量的任意字符\r\n",
                "                # 所以就把任意的可能性都去尝试一遍\r\n",
                "                # result = any(self.isMatch(s[x:], p[pi+1:]) for x in range(si, slen+1))\r\n",
                "                if pi + 1 < plen:\r\n",
                "                    next_char = p[pi+1]\r\n",
                "                    # next_char 可能是 ?\r\n",
                "                    if next_char == \"?\":\r\n",
                "                        result = any(self.isMatch(s[x:], p[pi+1:]) for x in range(si, slen+1))\r\n",
                "                    else:\r\n",
                "                        next_char_idx = [x for x in range(si, slen) if s[x] == next_char]\r\n",
                "                        result = any(self.isMatch(s[x:], p[pi+1:]) for x in next_char_idx)\r\n",
                "                else:\r\n",
                "                    # 因为是最后一个字符了, 且是 *, 所以可以匹配任何的 s\r\n",
                "                    result = True\r\n",
                "                self.cache_result[(old_s, old_p)] = result\r\n",
                "                return result\r\n",
                "            else:\r\n",
                "                if pval != sval:\r\n",
                "                    self.cache_result[(old_s, old_p)] = False\r\n",
                "                    return False\r\n",
                "            \r\n",
                "            si += 1\r\n",
                "            pi += 1\r\n",
                "        \r\n",
                "        # 只有一起到达终点, 才算是匹配成功\r\n",
                "        result = True if si == slen and pi == plen else False\r\n",
                "        self.cache_result[(old_s, old_p)] = result\r\n",
                "        return result\r\n",
                "\r\n",
                "        "
            ],
            "outputs": [],
            "metadata": {}
        },
        {
            "cell_type": "code",
            "execution_count": null,
            "source": [
                "s = \"abbabaaabbabbaababbabbbbbabbbabbbabaaaaababababbbabababaabbababaabbbbbbaaaabababbbaabbbbaabbbbababababbaabbaababaabbbababababbbbaaabbbbbabaaaabbababbbbaababaabbababbbbbababbbabaaaaaaaabbbbbaabaaababaaaabb\"\r\n",
                "p = \"**aa*****ba*a*bb**aa*ab****a*aaaaaa***a*aaaa**bbabb*b*b**aaaaaaaaa*a********ba*bbb***a*ba*bb*bb**a*b*bb\"\r\n",
                "Solution().isMatch(s, p)"
            ],
            "outputs": [],
            "metadata": {}
        },
        {
            "cell_type": "code",
            "execution_count": null,
            "source": [
                "Solution().isMatch(\"c\", \"*?*\")"
            ],
            "outputs": [],
            "metadata": {}
        },
        {
            "cell_type": "code",
            "execution_count": null,
            "source": [
                "Solution().isMatch(\"abc\", \"*abc?*\")"
            ],
            "outputs": [],
            "metadata": {}
        }
    ],
    "metadata": {
        "orig_nbformat": 4,
        "language_info": {
            "name": "python"
        }
    },
    "nbformat": 4,
    "nbformat_minor": 2
}