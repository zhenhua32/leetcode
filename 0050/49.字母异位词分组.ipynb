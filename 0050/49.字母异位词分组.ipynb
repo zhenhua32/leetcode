{
    "cells": [
        {
            "cell_type": "code",
            "execution_count": 2,
            "source": [
                "from typing import List"
            ],
            "outputs": [],
            "metadata": {}
        },
        {
            "cell_type": "code",
            "execution_count": 3,
            "source": [
                "class Solution:\r\n",
                "    def groupAnagrams(self, strs: List[str]) -> List[List[str]]:\r\n",
                "        a = dict()\r\n",
                "        for x in strs:\r\n",
                "            m = ''.join(sorted(x))\r\n",
                "            a[m] = a.get(m, []) + [x]\r\n",
                "        \r\n",
                "        return list(a.values())"
            ],
            "outputs": [],
            "metadata": {}
        },
        {
            "cell_type": "code",
            "execution_count": 4,
            "source": [
                "Solution().groupAnagrams([\"eat\", \"tea\", \"tan\", \"ate\", \"nat\", \"bat\"])"
            ],
            "outputs": [
                {
                    "output_type": "execute_result",
                    "data": {
                        "text/plain": [
                            "[['eat', 'tea', 'ate'], ['tan', 'nat'], ['bat']]"
                        ]
                    },
                    "metadata": {},
                    "execution_count": 4
                }
            ],
            "metadata": {}
        }
    ],
    "metadata": {
        "orig_nbformat": 4,
        "language_info": {
            "name": "python"
        }
    },
    "nbformat": 4,
    "nbformat_minor": 2
}