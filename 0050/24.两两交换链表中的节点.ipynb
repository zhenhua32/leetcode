{
    "cells": [
        {
            "cell_type": "code",
            "execution_count": 1,
            "source": [
                "from typing import List\r\n",
                "# Definition for singly-linked list.\r\n",
                "class ListNode:\r\n",
                "    def __init__(self, val=0, next=None):\r\n",
                "        self.val = val\r\n",
                "        self.next = next\r\n",
                "\r\n",
                "\r\n",
                "def print_node_list(head):\r\n",
                "    val_list = []\r\n",
                "    while head:\r\n",
                "        val_list.append(head.val)\r\n",
                "        head = head.next\r\n",
                "    print(val_list)\r\n",
                "\r\n",
                "\r\n",
                "def val_list_to_head(val_list):\r\n",
                "    if not val_list:\r\n",
                "        return None\r\n",
                "    \r\n",
                "    head = ListNode(val_list.pop(0))\r\n",
                "    first = head\r\n",
                "    while val_list:\r\n",
                "        next_head = ListNode(val_list.pop(0))\r\n",
                "        head.next = next_head\r\n",
                "        head = next_head\r\n",
                "    \r\n",
                "    return first"
            ],
            "outputs": [],
            "metadata": {}
        },
        {
            "cell_type": "code",
            "execution_count": 10,
            "source": [
                "class Solution:\r\n",
                "    def swapPairs(self, head: ListNode) -> ListNode:\r\n",
                "        if not head:\r\n",
                "            return None\r\n",
                "\r\n",
                "        cur = head\r\n",
                "        cur_next = cur.next\r\n",
                "\r\n",
                "        # 只有一个节点\r\n",
                "        if cur_next is None:\r\n",
                "            return cur\r\n",
                "        \r\n",
                "        # 新的起点\r\n",
                "        new_cur = cur_next.next\r\n",
                "        # 交换 cur 和 cur_next\r\n",
                "        cur_next.next = cur\r\n",
                "        cur.next = None\r\n",
                "        # 保存上次的最后一个节点\r\n",
                "        last_node = cur\r\n",
                "        # 替换成新的 cur\r\n",
                "        cur = new_cur\r\n",
                "        # 保存首个节点\r\n",
                "        first = cur_next\r\n",
                "\r\n",
                "        while cur:\r\n",
                "            cur_next = cur.next\r\n",
                "            if cur_next:\r\n",
                "                new_cur = cur_next.next\r\n",
                "                cur_next.next = cur\r\n",
                "                cur.next = None\r\n",
                "                last_node.next = cur_next\r\n",
                "                last_node = cur\r\n",
                "                cur = new_cur\r\n",
                "            else:\r\n",
                "                last_node.next = cur\r\n",
                "                break\r\n",
                "\r\n",
                "        return first\r\n",
                "\r\n"
            ],
            "outputs": [],
            "metadata": {}
        },
        {
            "cell_type": "code",
            "execution_count": 11,
            "source": [
                "head = val_list_to_head([1,2,3,4])\r\n",
                "head = Solution().swapPairs(head)\r\n",
                "print_node_list(head)"
            ],
            "outputs": [
                {
                    "output_type": "stream",
                    "name": "stdout",
                    "text": [
                        "[2, 1, 4, 3]\n"
                    ]
                }
            ],
            "metadata": {}
        },
        {
            "cell_type": "code",
            "execution_count": 12,
            "source": [
                "head = Solution().swapPairs(val_list_to_head([]))\r\n",
                "print_node_list(head)"
            ],
            "outputs": [
                {
                    "output_type": "stream",
                    "name": "stdout",
                    "text": [
                        "[]\n"
                    ]
                }
            ],
            "metadata": {}
        },
        {
            "cell_type": "code",
            "execution_count": 13,
            "source": [
                "head = Solution().swapPairs(val_list_to_head([1]))\r\n",
                "print_node_list(head)"
            ],
            "outputs": [
                {
                    "output_type": "stream",
                    "name": "stdout",
                    "text": [
                        "[1]\n"
                    ]
                }
            ],
            "metadata": {}
        },
        {
            "cell_type": "code",
            "execution_count": 14,
            "source": [
                "head = Solution().swapPairs(val_list_to_head([1,2,3]))\r\n",
                "print_node_list(head)"
            ],
            "outputs": [
                {
                    "output_type": "stream",
                    "name": "stdout",
                    "text": [
                        "[2, 1, 3]\n"
                    ]
                }
            ],
            "metadata": {}
        },
        {
            "cell_type": "code",
            "execution_count": 15,
            "source": [
                "head = Solution().swapPairs(val_list_to_head([1,2,3,4,5]))\r\n",
                "print_node_list(head)"
            ],
            "outputs": [
                {
                    "output_type": "stream",
                    "name": "stdout",
                    "text": [
                        "[2, 1, 5]\n"
                    ]
                }
            ],
            "metadata": {}
        }
    ],
    "metadata": {
        "orig_nbformat": 4,
        "language_info": {
            "name": "python"
        }
    },
    "nbformat": 4,
    "nbformat_minor": 2
}