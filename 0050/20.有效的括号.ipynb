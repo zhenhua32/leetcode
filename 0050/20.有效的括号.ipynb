{
    "cells": [
        {
            "cell_type": "code",
            "execution_count": 7,
            "source": [
                "class Solution:\r\n",
                "    def isValid(self, s: str) -> bool:\r\n",
                "        # 用栈\r\n",
                "        stack = []\r\n",
                "        left = \"({[\"\r\n",
                "        right = \")}]\"\r\n",
                "        for char in s:\r\n",
                "            if char in left:\r\n",
                "                stack.append(char)\r\n",
                "            elif char in right:\r\n",
                "                if stack and stack[-1] == left[right.index(char)]:\r\n",
                "                    stack.pop(-1)\r\n",
                "                else:\r\n",
                "                    return False\r\n",
                "        \r\n",
                "        return False if stack else True\r\n"
            ],
            "outputs": [],
            "metadata": {}
        },
        {
            "cell_type": "code",
            "execution_count": 9,
            "source": [
                "Solution().isValid(\"()\")"
            ],
            "outputs": [
                {
                    "output_type": "execute_result",
                    "data": {
                        "text/plain": [
                            "True"
                        ]
                    },
                    "metadata": {},
                    "execution_count": 9
                }
            ],
            "metadata": {}
        },
        {
            "cell_type": "code",
            "execution_count": 10,
            "source": [
                "Solution().isValid(\"()[]{}\")"
            ],
            "outputs": [
                {
                    "output_type": "execute_result",
                    "data": {
                        "text/plain": [
                            "True"
                        ]
                    },
                    "metadata": {},
                    "execution_count": 10
                }
            ],
            "metadata": {}
        },
        {
            "cell_type": "code",
            "execution_count": 11,
            "source": [
                "Solution().isValid(\"(]\")"
            ],
            "outputs": [
                {
                    "output_type": "execute_result",
                    "data": {
                        "text/plain": [
                            "False"
                        ]
                    },
                    "metadata": {},
                    "execution_count": 11
                }
            ],
            "metadata": {}
        },
        {
            "cell_type": "code",
            "execution_count": 12,
            "source": [
                "Solution().isValid(\"([)]\")"
            ],
            "outputs": [
                {
                    "output_type": "execute_result",
                    "data": {
                        "text/plain": [
                            "False"
                        ]
                    },
                    "metadata": {},
                    "execution_count": 12
                }
            ],
            "metadata": {}
        },
        {
            "cell_type": "code",
            "execution_count": 13,
            "source": [
                "Solution().isValid(\"{[]}\")"
            ],
            "outputs": [
                {
                    "output_type": "execute_result",
                    "data": {
                        "text/plain": [
                            "True"
                        ]
                    },
                    "metadata": {},
                    "execution_count": 13
                }
            ],
            "metadata": {}
        }
    ],
    "metadata": {
        "orig_nbformat": 4,
        "language_info": {
            "name": "python"
        }
    },
    "nbformat": 4,
    "nbformat_minor": 2
}