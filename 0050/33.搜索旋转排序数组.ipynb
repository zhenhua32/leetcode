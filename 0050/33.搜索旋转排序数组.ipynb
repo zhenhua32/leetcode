{
    "cells": [
        {
            "cell_type": "code",
            "execution_count": 1,
            "source": [
                "from typing import List"
            ],
            "outputs": [],
            "metadata": {}
        },
        {
            "cell_type": "code",
            "execution_count": 2,
            "source": [
                "class Solution:\r\n",
                "    def search(self, nums: List[int], target: int) -> int:\r\n",
                "        # 中间旋转的数组\r\n",
                "        for i, x in enumerate(nums):\r\n",
                "            if x == target:\r\n",
                "                return i\r\n",
                "        return -1\r\n"
            ],
            "outputs": [],
            "metadata": {}
        },
        {
            "cell_type": "code",
            "execution_count": 60,
            "source": [
                "nums = [4,5,6,7,0,1,2]\r\n",
                "target = 7\r\n",
                "Solution().search(nums, target)"
            ],
            "outputs": [
                {
                    "output_type": "stream",
                    "name": "stdout",
                    "text": [
                        "[4, 5, 6, 7, 0, 1, 2]\n"
                    ]
                },
                {
                    "output_type": "execute_result",
                    "data": {
                        "text/plain": [
                            "3"
                        ]
                    },
                    "metadata": {},
                    "execution_count": 60
                }
            ],
            "metadata": {}
        },
        {
            "cell_type": "code",
            "execution_count": 56,
            "source": [
                "nums = [4,5,6,7,0,1,2]\r\n",
                "target = 3\r\n",
                "Solution().search(nums, target)"
            ],
            "outputs": [
                {
                    "output_type": "stream",
                    "name": "stdout",
                    "text": [
                        "[4, 5, 6, 7, 0, 1, 2]\n"
                    ]
                },
                {
                    "output_type": "execute_result",
                    "data": {
                        "text/plain": [
                            "-1"
                        ]
                    },
                    "metadata": {},
                    "execution_count": 56
                }
            ],
            "metadata": {}
        },
        {
            "cell_type": "code",
            "execution_count": 57,
            "source": [
                "nums = [1]\r\n",
                "target = 0\r\n",
                "Solution().search(nums, target)"
            ],
            "outputs": [
                {
                    "output_type": "stream",
                    "name": "stdout",
                    "text": [
                        "[1]\n"
                    ]
                },
                {
                    "output_type": "execute_result",
                    "data": {
                        "text/plain": [
                            "-1"
                        ]
                    },
                    "metadata": {},
                    "execution_count": 57
                }
            ],
            "metadata": {}
        },
        {
            "cell_type": "code",
            "execution_count": 25,
            "source": [
                "class Solution:\r\n",
                "    def search(self, nums: List[int], target: int) -> int:\r\n",
                "        first = nums[0]\r\n",
                "        last = nums[-1]\r\n",
                "\r\n",
                "        if target >= first:\r\n",
                "            prev = first - 1\r\n",
                "            # 从左往右搜索\r\n",
                "            for i, x in enumerate(nums):\r\n",
                "                if x < prev:\r\n",
                "                    break\r\n",
                "                prev = x\r\n",
                "                if x == target:\r\n",
                "                    return i\r\n",
                "        elif target <= last:\r\n",
                "            prev = last + 1\r\n",
                "            # 从右往左搜索\r\n",
                "            for i in range(len(nums)-1, -1, -1):\r\n",
                "                x = nums[i]\r\n",
                "                if x > prev:\r\n",
                "                    break\r\n",
                "                prev = x\r\n",
                "                if x == target:\r\n",
                "                    return i\r\n",
                "        else:\r\n",
                "            return -1\r\n",
                "\r\n",
                "        return -1\r\n"
            ],
            "outputs": [],
            "metadata": {}
        },
        {
            "cell_type": "code",
            "execution_count": 52,
            "source": [
                "class Solution:\r\n",
                "    def search(self, nums: List[int], target: int) -> int:\r\n",
                "        print(nums)\r\n",
                "        len_nums = len(nums)\r\n",
                "        if len_nums == 0:\r\n",
                "            return -1\r\n",
                "        elif len_nums == 1:\r\n",
                "            return 0 if nums[0] == target else -1\r\n",
                "\r\n",
                "        first = nums[0]\r\n",
                "        last = nums[len_nums-1]\r\n",
                "        if first == target:\r\n",
                "            return 0\r\n",
                "        elif last == target:\r\n",
                "            return len_nums - 1\r\n",
                "        elif len_nums == 2:\r\n",
                "            return -1\r\n",
                "\r\n",
                "        mid = len_nums // 2\r\n",
                "        mid_val = nums[mid]\r\n",
                "        if mid_val == target:\r\n",
                "            return mid\r\n",
                "\r\n",
                "        if target > first:\r\n",
                "            # 在左边搜索\r\n",
                "            # mid_val < first, mid_val 不正常, 说明旋转点在左边s\r\n",
                "            if mid_val > first and target > mid_val:\r\n",
                "                # 右边\r\n",
                "                result = self.search(nums[mid+1:], target)\r\n",
                "                if result == -1:\r\n",
                "                    return -1\r\n",
                "                return mid+1+result\r\n",
                "            else:\r\n",
                "                # 左边\r\n",
                "                return self.search(nums[:mid], target)\r\n",
                "            \r\n",
                "            return self.search(nums[:mid], target)\r\n",
                "        elif target < last:\r\n",
                "            # 在右边搜索\r\n",
                "            # mid_val > last, mid_val 不正常, 说明旋转点在右边\r\n",
                "            if mid_val < last and target < mid_val:\r\n",
                "                # 左边\r\n",
                "                return self.search(nums[:mid], target)\r\n",
                "            else:\r\n",
                "                # 右边\r\n",
                "                result = self.search(nums[mid+1:], target)\r\n",
                "                if result == -1:\r\n",
                "                    return -1\r\n",
                "                return mid+1+result\r\n",
                "        else:\r\n",
                "            return -1\r\n",
                "        "
            ],
            "outputs": [],
            "metadata": {}
        },
        {
            "cell_type": "code",
            "execution_count": 54,
            "source": [
                "nums = [7,8,1,2,3,4,5,6]\r\n",
                "target = 2\r\n",
                "Solution().search(nums, target)"
            ],
            "outputs": [
                {
                    "output_type": "stream",
                    "name": "stdout",
                    "text": [
                        "[7, 8, 1, 2, 3, 4, 5, 6]\n",
                        "[7, 8, 1, 2]\n"
                    ]
                },
                {
                    "output_type": "execute_result",
                    "data": {
                        "text/plain": [
                            "3"
                        ]
                    },
                    "metadata": {},
                    "execution_count": 54
                }
            ],
            "metadata": {}
        }
    ],
    "metadata": {
        "orig_nbformat": 4,
        "language_info": {
            "name": "python"
        }
    },
    "nbformat": 4,
    "nbformat_minor": 2
}