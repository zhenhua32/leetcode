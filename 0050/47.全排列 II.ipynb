{
    "cells": [
        {
            "cell_type": "code",
            "execution_count": 1,
            "source": [
                "from typing import List"
            ],
            "outputs": [],
            "metadata": {}
        },
        {
            "cell_type": "code",
            "execution_count": 5,
            "source": [
                "class Solution:\r\n",
                "    def permuteUnique(self, nums: List[int]) -> List[List[int]]:\r\n",
                "        # nums 可以是重复的数字\r\n",
                "        result = set()\r\n",
                "\r\n",
                "        len_nums = len(nums)\r\n",
                "        if len_nums == 0:\r\n",
                "            return []\r\n",
                "        if len_nums == 1:\r\n",
                "            return [nums]\r\n",
                "        \r\n",
                "        val = nums[-1]\r\n",
                "        last_result = self.permuteUnique(nums[:-1])\r\n",
                "        for one in last_result:\r\n",
                "            # 可以将 val 放在任何索引上\r\n",
                "            for i in range(len(one)+1):\r\n",
                "                result.add(tuple(one[:i]+[val]+one[i:]))\r\n",
                "        \r\n",
                "        return [list(x) for x in result]\r\n"
            ],
            "outputs": [],
            "metadata": {}
        },
        {
            "cell_type": "code",
            "execution_count": 6,
            "source": [
                "Solution().permuteUnique([1,1,2])"
            ],
            "outputs": [
                {
                    "output_type": "execute_result",
                    "data": {
                        "text/plain": [
                            "[[2, 1, 1], [1, 2, 1], [1, 1, 2], [2, 1, 1], [1, 2, 1], [1, 1, 2]]"
                        ]
                    },
                    "metadata": {},
                    "execution_count": 6
                }
            ],
            "metadata": {}
        }
    ],
    "metadata": {
        "orig_nbformat": 4,
        "language_info": {
            "name": "python"
        }
    },
    "nbformat": 4,
    "nbformat_minor": 2
}