{
    "cells": [
        {
            "cell_type": "code",
            "execution_count": 10,
            "source": [
                "class Solution:\r\n",
                "    def countAndSay(self, n: int) -> str:\r\n",
                "        if n == 1:\r\n",
                "            return \"1\"\r\n",
                "        \r\n",
                "        last_one = self.countAndSay(n-1)\r\n",
                "        count = []\r\n",
                "        for x in last_one:\r\n",
                "            if not count or x != count[-1][0]:\r\n",
                "                # 左边是 x, 右边是计数\r\n",
                "                count.append([x, 1])\r\n",
                "            else:\r\n",
                "                count[-1][1] += 1\r\n",
                "        \r\n",
                "        result = \"\"\r\n",
                "        for k, v in count:\r\n",
                "            result += f\"{v}{k}\"\r\n",
                "        return result"
            ],
            "outputs": [],
            "metadata": {}
        },
        {
            "cell_type": "code",
            "execution_count": 12,
            "source": [
                "Solution().countAndSay(5) == \"111221\""
            ],
            "outputs": [
                {
                    "output_type": "execute_result",
                    "data": {
                        "text/plain": [
                            "True"
                        ]
                    },
                    "metadata": {},
                    "execution_count": 12
                }
            ],
            "metadata": {}
        },
        {
            "cell_type": "code",
            "execution_count": null,
            "source": [
                "for i in range(1, 6):\r\n",
                "    print(Solution().countAndSay(i))"
            ],
            "outputs": [],
            "metadata": {}
        }
    ],
    "metadata": {
        "orig_nbformat": 4,
        "language_info": {
            "name": "python"
        }
    },
    "nbformat": 4,
    "nbformat_minor": 2
}