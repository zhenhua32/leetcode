{
    "cells": [
        {
            "cell_type": "code",
            "execution_count": 2,
            "source": [
                "from typing import List"
            ],
            "outputs": [],
            "metadata": {}
        },
        {
            "cell_type": "code",
            "execution_count": 80,
            "source": [
                "class Solution:\r\n",
                "    def findSubstring(self, s: str, words: List[str]) -> List[int]:\r\n",
                "        slen = len(s)\r\n",
                "        words_len = len(\"\".join(words))\r\n",
                "        single_len = len(words[0])\r\n",
                "        words_set = set(words)\r\n",
                "\r\n",
                "        if words_len > slen:\r\n",
                "            return []\r\n",
                "        \r\n",
                "        result = []\r\n",
                "        for i in range(slen - words_len + 1):\r\n",
                "            # 都不在任意一个中了\r\n",
                "            text = s[i:i+single_len]\r\n",
                "            if text not in words_set:\r\n",
                "                continue\r\n",
                "            \r\n",
                "            words_copy = words.copy()\r\n",
                "            idx = 0\r\n",
                "            while words_copy:\r\n",
                "                part_word = s[i+single_len*idx:i+single_len*(idx+1)]\r\n",
                "                if part_word in words_copy:\r\n",
                "                    words_copy.remove(part_word)\r\n",
                "                    idx += 1\r\n",
                "                else:\r\n",
                "                    break\r\n",
                "            \r\n",
                "            if not words_copy:\r\n",
                "                result.append(i)\r\n",
                "        \r\n",
                "        return result\r\n"
            ],
            "outputs": [],
            "metadata": {}
        },
        {
            "cell_type": "code",
            "execution_count": 7,
            "source": [
                "# 没有长进, 更慢了\r\n",
                "class Solution:\r\n",
                "    def findSubstring(self, s: str, words: List[str]) -> List[int]:\r\n",
                "        slen = len(s)\r\n",
                "        words_len = len(\"\".join(words))\r\n",
                "        single_len = len(words[0])\r\n",
                "        words_set = set(words)\r\n",
                "\r\n",
                "        if words_len > slen:\r\n",
                "            return []\r\n",
                "        \r\n",
                "        result = []\r\n",
                "        idx_list = list(range(slen - words_len + 1))\r\n",
                "\r\n",
                "        drop_idxs = set()\r\n",
                "        for i in range(slen - words_len + 1):\r\n",
                "            if i in drop_idxs:\r\n",
                "                continue\r\n",
                "            # 都不在任意一个中了\r\n",
                "            text = s[i:i+single_len]\r\n",
                "            if text not in words_set:\r\n",
                "                continue\r\n",
                "        \r\n",
                "            words_copy = words.copy()\r\n",
                "            idx = 0\r\n",
                "            while words_copy:\r\n",
                "                start_idx = i+single_len*idx\r\n",
                "                part_word = s[start_idx:start_idx+single_len]\r\n",
                "                temp_drop_idxs = set()\r\n",
                "                if part_word in words_copy:\r\n",
                "                    words_copy.remove(part_word)\r\n",
                "                    idx += 1\r\n",
                "                    temp_drop_idxs.add(start_idx)\r\n",
                "                else:\r\n",
                "                    # 但凡遇到挫折, 所有前面的都可以丢弃了\r\n",
                "                    drop_idxs = drop_idxs & temp_drop_idxs\r\n",
                "                    break\r\n",
                "            \r\n",
                "            if not words_copy:\r\n",
                "                result.append(i)\r\n",
                "        \r\n",
                "        return result"
            ],
            "outputs": [],
            "metadata": {}
        },
        {
            "cell_type": "code",
            "execution_count": 8,
            "source": [
                "s = \"barfoothefoobarman\"\r\n",
                "words = [\"foo\",\"bar\"]\r\n",
                "Solution().findSubstring(s, words)"
            ],
            "outputs": [
                {
                    "output_type": "execute_result",
                    "data": {
                        "text/plain": [
                            "[0, 9]"
                        ]
                    },
                    "metadata": {},
                    "execution_count": 8
                }
            ],
            "metadata": {}
        },
        {
            "cell_type": "code",
            "execution_count": 9,
            "source": [
                "s = \"wordgoodgoodgoodbestword\"\r\n",
                "words = [\"word\",\"good\",\"best\",\"word\"]\r\n",
                "Solution().findSubstring(s, words)"
            ],
            "outputs": [
                {
                    "output_type": "execute_result",
                    "data": {
                        "text/plain": [
                            "[]"
                        ]
                    },
                    "metadata": {},
                    "execution_count": 9
                }
            ],
            "metadata": {}
        },
        {
            "cell_type": "code",
            "execution_count": 10,
            "source": [
                "s = \"barfoofoobarthefoobarman\"\r\n",
                "words = [\"bar\",\"foo\",\"the\"]\r\n",
                "Solution().findSubstring(s, words)"
            ],
            "outputs": [
                {
                    "output_type": "execute_result",
                    "data": {
                        "text/plain": [
                            "[6, 9, 12]"
                        ]
                    },
                    "metadata": {},
                    "execution_count": 10
                }
            ],
            "metadata": {}
        },
        {
            "cell_type": "code",
            "execution_count": 11,
            "source": [
                "s = \"wordgoodgoodgoodbestword\"\r\n",
                "words = [\"word\",\"good\",\"best\",\"good\"]\r\n",
                "Solution().findSubstring(s, words)"
            ],
            "outputs": [
                {
                    "output_type": "execute_result",
                    "data": {
                        "text/plain": [
                            "[8]"
                        ]
                    },
                    "metadata": {},
                    "execution_count": 11
                }
            ],
            "metadata": {}
        },
        {
            "cell_type": "code",
            "execution_count": null,
            "source": [
                "Solution().find_all_combine([\"word\",\"good\",\"best\",\"good\"])\r\n",
                "# Solution().find_all_combine([\"A\", \"B\"])"
            ],
            "outputs": [],
            "metadata": {}
        },
        {
            "cell_type": "code",
            "execution_count": 76,
            "source": [
                "class Solution:\r\n",
                "    # 不能造组合, 太慢了, 容易爆炸\r\n",
                "    def find_all_combine(self, words):\r\n",
                "        words_len = len(words)\r\n",
                "        if words_len <= 1:\r\n",
                "            return [words]\r\n",
                "        \r\n",
                "        last_word = words[-1]\r\n",
                "        last_combine = self.find_all_combine(words[:-1])\r\n",
                "        result = []\r\n",
                "        for x in last_combine:\r\n",
                "            for i in range(len(x)+1):\r\n",
                "                result.append(x[:i]+[last_word]+x[i:])\r\n",
                "        return result\r\n",
                "\r\n",
                "    def findSubstring(self, s: str, words: List[str]) -> List[int]:\r\n",
                "        slen = len(s)\r\n",
                "        words_len = len(\"\".join(words))\r\n",
                "\r\n",
                "        if words_len > slen:\r\n",
                "            return []\r\n",
                "        \r\n",
                "        all_combine = set([\"\".join(x) for x in self.find_all_combine(words)])\r\n",
                "        print(len(all_combine))\r\n",
                "\r\n",
                "        result = []\r\n",
                "        for i in range(slen - words_len + 1):\r\n",
                "            text = s[i:i+words_len]\r\n",
                "            if text in all_combine:\r\n",
                "                result.append(i)\r\n",
                "        \r\n",
                "        return result\r\n"
            ],
            "outputs": [],
            "metadata": {}
        },
        {
            "cell_type": "code",
            "execution_count": 13,
            "source": [
                "s = \"pjzkrkevzztxductzzxmxsvwjkxpvukmfjywwetvfnujhweiybwvvsrfequzkhossmootkmyxgjgfordrpapjuunmqnxxdrqrfgkrsjqbszgiqlcfnrpjlcwdrvbumtotzylshdvccdmsqoadfrpsvnwpizlwszrtyclhgilklydbmfhuywotjmktnwrfvizvnmfvvqfiokkdprznnnjycttprkxpuykhmpchiksyucbmtabiqkisgbhxngmhezrrqvayfsxauampdpxtafniiwfvdufhtwajrbkxtjzqjnfocdhekumttuqwovfjrgulhekcpjszyynadxhnttgmnxkduqmmyhzfnjhducesctufqbumxbamalqudeibljgbspeotkgvddcwgxidaiqcvgwykhbysjzlzfbupkqunuqtraxrlptivshhbihtsigtpipguhbhctcvubnhqipncyxfjebdnjyetnlnvmuxhzsdahkrscewabejifmxombiamxvauuitoltyymsarqcuuoezcbqpdaprxmsrickwpgwpsoplhugbikbkotzrtqkscekkgwjycfnvwfgdzogjzjvpcvixnsqsxacfwndzvrwrycwxrcismdhqapoojegggkocyrdtkzmiekhxoppctytvphjynrhtcvxcobxbcjjivtfjiwmduhzjokkbctweqtigwfhzorjlkpuuliaipbtfldinyetoybvugevwvhhhweejogrghllsouipabfafcxnhukcbtmxzshoyyufjhzadhrelweszbfgwpkzlwxkogyogutscvuhcllphshivnoteztpxsaoaacgxyaztuixhunrowzljqfqrahosheukhahhbiaxqzfmmwcjxountkevsvpbzjnilwpoermxrtlfroqoclexxisrdhvfsindffslyekrzwzqkpeocilatftymodgztjgybtyheqgcpwogdcjlnlesefgvimwbxcbzvaibspdjnrpqtyeilkcspknyylbwndvkffmzuriilxagyerjptbgeqgebiaqnvdubrtxibhvakcyotkfonmseszhczapxdlauexehhaireihxsplgdgmxfvaevrbadbwjbdrkfbbjjkgcztkcbwagtcnrtqryuqixtzhaakjlurnumzyovawrcjiwabuwretmdamfkxrgqgcdgbrdbnugzecbgyxxdqmisaqcyjkqrntxqmdrczxbebemcblftxplafnyoxqimkhcykwamvdsxjezkpgdpvopddptdfbprjustquhlazkjfluxrzopqdstulybnqvyknrchbphcarknnhhovweaqawdyxsqsqahkepluypwrzjegqtdoxfgzdkydeoxvrfhxusrujnmjzqrrlxglcmkiykldbiasnhrjbjekystzilrwkzhontwmehrfsrzfaqrbbxncphbzuuxeteshyrveamjsfiaharkcqxefghgceeixkdgkuboupxnwhnfigpkwnqdvzlydpidcljmflbccarbiegsmweklwngvygbqpescpeichmfidgsjmkvkofvkuehsmkkbocgejoiqcnafvuokelwuqsgkyoekaroptuvekfvmtxtqshcwsztkrzwrpabqrrhnlerxjojemcxel\"\r\n",
                "words = [\"dhvf\",\"sind\",\"ffsl\",\"yekr\",\"zwzq\",\"kpeo\",\"cila\",\"tfty\",\"modg\",\"ztjg\",\"ybty\",\"heqg\",\"cpwo\",\"gdcj\",\"lnle\",\"sefg\",\"vimw\",\"bxcb\"]\r\n",
                "Solution().findSubstring(s, words)"
            ],
            "outputs": [
                {
                    "output_type": "execute_result",
                    "data": {
                        "text/plain": [
                            "[935]"
                        ]
                    },
                    "metadata": {},
                    "execution_count": 13
                }
            ],
            "metadata": {}
        }
    ],
    "metadata": {
        "orig_nbformat": 4,
        "language_info": {
            "name": "python"
        }
    },
    "nbformat": 4,
    "nbformat_minor": 2
}