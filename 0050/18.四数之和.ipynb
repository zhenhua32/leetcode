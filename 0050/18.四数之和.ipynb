{
    "cells": [
        {
            "cell_type": "code",
            "execution_count": 1,
            "source": [
                "from typing import List"
            ],
            "outputs": [],
            "metadata": {}
        },
        {
            "cell_type": "code",
            "execution_count": 15,
            "source": [
                "class Solution:\r\n",
                "    def fourSum(self, nums: List[int], target: int) -> List[List[int]]:\r\n",
                "        if len(nums) < 4:\r\n",
                "            return []\r\n",
                "        \r\n",
                "        num_map = dict()\r\n",
                "        for num in nums:\r\n",
                "            if num not in num_map:\r\n",
                "                num_map[num] = 1\r\n",
                "            else:\r\n",
                "                num_map[num] += 1\r\n",
                "        \r\n",
                "        exists = set()\r\n",
                "        result = []\r\n",
                "        for i, a in enumerate(nums):\r\n",
                "            for j, b in enumerate(nums[i+1:]):\r\n",
                "                for k, c in enumerate(nums[i+1+j+1:]):\r\n",
                "                    cur = a + b + c\r\n",
                "                    need = target - cur\r\n",
                "                    if need in num_map:\r\n",
                "                        val_count = num_map[need]\r\n",
                "                        # a b c 中有和 need 相同的数\r\n",
                "                        same_count = len([x for x in [a, b, c] if x == need])\r\n",
                "                        if val_count > same_count:\r\n",
                "                            sorted_one = tuple(sorted([a, b, c, need]))\r\n",
                "                            if sorted_one not in exists:\r\n",
                "                                result.append([a, b, c, need])\r\n",
                "                                exists.add(sorted_one)\r\n",
                "        \r\n",
                "        return result\r\n"
            ],
            "outputs": [],
            "metadata": {}
        },
        {
            "cell_type": "code",
            "execution_count": 16,
            "source": [
                "Solution().fourSum(nums = [1,0,-1,0,-2,2], target = 0)"
            ],
            "outputs": [
                {
                    "output_type": "execute_result",
                    "data": {
                        "text/plain": [
                            "[[1, 0, -1, 0], [1, -1, -2, 2], [0, 0, -2, 2]]"
                        ]
                    },
                    "metadata": {},
                    "execution_count": 16
                }
            ],
            "metadata": {}
        },
        {
            "cell_type": "code",
            "execution_count": null,
            "source": [
                "Solution().fourSum(nums = [], target = 0)"
            ],
            "outputs": [],
            "metadata": {}
        }
    ],
    "metadata": {
        "orig_nbformat": 4,
        "language_info": {
            "name": "python"
        }
    },
    "nbformat": 4,
    "nbformat_minor": 2
}