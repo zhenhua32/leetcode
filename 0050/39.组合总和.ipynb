{
    "cells": [
        {
            "cell_type": "code",
            "execution_count": 2,
            "source": [
                "from typing import List"
            ],
            "outputs": [],
            "metadata": {}
        },
        {
            "cell_type": "code",
            "execution_count": 17,
            "source": [
                "class Solution:\r\n",
                "    # 已经解答过一遍了\r\n",
                "    have_solution = {}\r\n",
                "\r\n",
                "    def combinationSum(self, candidates: List[int], target: int) -> List[List[int]]:\r\n",
                "        len_candidates = len(candidates)\r\n",
                "        if len_candidates == 0:\r\n",
                "            return []\r\n",
                "\r\n",
                "        # candidates 中每个值都是正数\r\n",
                "        candidates = sorted(candidates)\r\n",
                "\r\n",
                "        result = set()\r\n",
                "        for i, x in enumerate(candidates):\r\n",
                "            if x == target:\r\n",
                "                result.add((x,))\r\n",
                "            # 都是正数, 且升序排列, 可以跳出\r\n",
                "            elif x > target:\r\n",
                "                break\r\n",
                "            else:\r\n",
                "                # 可以确保已经求解了 x 开头的所有可能性\r\n",
                "                # 小于就有可能性\r\n",
                "                j = 1\r\n",
                "                while j * x <= target:\r\n",
                "                    need = target - j * x\r\n",
                "                    if need == 0:\r\n",
                "                        result.add(tuple([x]*j))\r\n",
                "                    # 需要的比 x 的还小, 当然是没可能了\r\n",
                "                    elif need < x:\r\n",
                "                        break\r\n",
                "                    else:\r\n",
                "                        # 只要 i 后面的就行了, 前面的已经重复了\r\n",
                "                        key = candidates[i+1:]\r\n",
                "                        tuple_key = tuple(key + [\"\", need])\r\n",
                "                        if tuple_key in self.have_solution:\r\n",
                "                            part_result = self.have_solution[tuple_key]\r\n",
                "                        else:\r\n",
                "                            part_result = self.combinationSum(key, need)\r\n",
                "                            self.have_solution[tuple_key] = part_result\r\n",
                "                        for y in part_result:\r\n",
                "                            result.add(tuple(sorted(y+[x]*j)))\r\n",
                "                    j += 1\r\n",
                "\r\n",
                "        return [list(x) for x in result]\r\n"
            ],
            "outputs": [],
            "metadata": {}
        },
        {
            "cell_type": "code",
            "execution_count": 14,
            "source": [
                "candidates = [2,3,6,7]\r\n",
                "target = 7\r\n",
                "Solution().combinationSum(candidates, target)"
            ],
            "outputs": [
                {
                    "output_type": "execute_result",
                    "data": {
                        "text/plain": [
                            "[[2, 2, 3], [7]]"
                        ]
                    },
                    "metadata": {},
                    "execution_count": 14
                }
            ],
            "metadata": {}
        },
        {
            "cell_type": "code",
            "execution_count": 15,
            "source": [
                "candidates = [2,3,5]\r\n",
                "target = 8\r\n",
                "Solution().combinationSum(candidates, target)"
            ],
            "outputs": [
                {
                    "output_type": "execute_result",
                    "data": {
                        "text/plain": [
                            "[[2, 2, 2, 2], [2, 3, 3], [3, 5]]"
                        ]
                    },
                    "metadata": {},
                    "execution_count": 15
                }
            ],
            "metadata": {}
        },
        {
            "cell_type": "code",
            "execution_count": 6,
            "source": [
                "candidates = [1]\r\n",
                "target = 1\r\n",
                "Solution().combinationSum(candidates, target)"
            ],
            "outputs": [
                {
                    "output_type": "execute_result",
                    "data": {
                        "text/plain": [
                            "[[1]]"
                        ]
                    },
                    "metadata": {},
                    "execution_count": 6
                }
            ],
            "metadata": {}
        },
        {
            "cell_type": "code",
            "execution_count": 7,
            "source": [
                "candidates = [1]\r\n",
                "target = 2\r\n",
                "Solution().combinationSum(candidates, target)"
            ],
            "outputs": [
                {
                    "output_type": "execute_result",
                    "data": {
                        "text/plain": [
                            "[[1, 1]]"
                        ]
                    },
                    "metadata": {},
                    "execution_count": 7
                }
            ],
            "metadata": {}
        }
    ],
    "metadata": {
        "orig_nbformat": 4,
        "language_info": {
            "name": "python"
        }
    },
    "nbformat": 4,
    "nbformat_minor": 2
}