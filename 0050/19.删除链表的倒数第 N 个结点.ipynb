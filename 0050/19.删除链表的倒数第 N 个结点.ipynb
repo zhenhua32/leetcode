{
    "cells": [
        {
            "cell_type": "code",
            "execution_count": 9,
            "source": [
                "# Definition for singly-linked list.\r\n",
                "class ListNode:\r\n",
                "    def __init__(self, val=0, next=None):\r\n",
                "        self.val = val\r\n",
                "        self.next = next\r\n",
                "\r\n",
                "\r\n",
                "def print_node_list(head):\r\n",
                "    val_list = []\r\n",
                "    while head:\r\n",
                "        val_list.append(head.val)\r\n",
                "        head = head.next\r\n",
                "    print(val_list)\r\n",
                "\r\n",
                "\r\n",
                "def val_list_to_head(val_list):\r\n",
                "    if not val_list:\r\n",
                "        return None\r\n",
                "    \r\n",
                "    head = ListNode(val_list.pop(0))\r\n",
                "    first = head\r\n",
                "    while val_list:\r\n",
                "        next_head = ListNode(val_list.pop(0))\r\n",
                "        head.next = next_head\r\n",
                "        head = next_head\r\n",
                "    \r\n",
                "    return first\r\n"
            ],
            "outputs": [],
            "metadata": {}
        },
        {
            "cell_type": "code",
            "execution_count": 29,
            "source": [
                "class Solution:\r\n",
                "    def removeNthFromEnd(self, head: ListNode, n: int) -> ListNode:\r\n",
                "        node_list = [head]\r\n",
                "\r\n",
                "        while True:\r\n",
                "            next_head = head.next\r\n",
                "            if next_head is None:\r\n",
                "                break\r\n",
                "            else:\r\n",
                "                node_list.append(next_head)\r\n",
                "                head = next_head\r\n",
                "        \r\n",
                "        len_node = len(node_list)\r\n",
                "        if len_node == 1:\r\n",
                "            return None\r\n",
                "        \r\n",
                "        # 如果是头部\r\n",
                "        if len_node == n:\r\n",
                "            node_list.pop(0)\r\n",
                "        elif n == 1:\r\n",
                "            # 如果是尾部\r\n",
                "            node_list[-2].next = None\r\n",
                "        else:\r\n",
                "            # 在中间\r\n",
                "            node_list[-n-1].next = node_list[-n+1]\r\n",
                "\r\n",
                "        return node_list[0]\r\n"
            ],
            "outputs": [],
            "metadata": {}
        },
        {
            "cell_type": "code",
            "execution_count": 25,
            "source": [
                "head = val_list_to_head([1,2,3,4,5])\r\n",
                "print_node_list(head)\r\n",
                "head = Solution().removeNthFromEnd(head, 2)\r\n",
                "print_node_list(head)"
            ],
            "outputs": [
                {
                    "output_type": "stream",
                    "name": "stdout",
                    "text": [
                        "[1, 2, 3, 4, 5]\n",
                        "[1, 2, 3, 5]\n"
                    ]
                }
            ],
            "metadata": {}
        },
        {
            "cell_type": "code",
            "execution_count": 26,
            "source": [
                "head = val_list_to_head([1])\r\n",
                "print_node_list(head)\r\n",
                "head = Solution().removeNthFromEnd(head, 1)\r\n",
                "print_node_list(head)"
            ],
            "outputs": [
                {
                    "output_type": "stream",
                    "name": "stdout",
                    "text": [
                        "[1]\n",
                        "[]\n"
                    ]
                }
            ],
            "metadata": {}
        },
        {
            "cell_type": "code",
            "execution_count": 27,
            "source": [
                "head = val_list_to_head([1,2])\r\n",
                "print_node_list(head)\r\n",
                "head = Solution().removeNthFromEnd(head, 1)\r\n",
                "print_node_list(head)"
            ],
            "outputs": [
                {
                    "output_type": "stream",
                    "name": "stdout",
                    "text": [
                        "[1, 2]\n",
                        "[1]\n"
                    ]
                }
            ],
            "metadata": {}
        },
        {
            "cell_type": "code",
            "execution_count": 31,
            "source": [
                "head = val_list_to_head([1,2])\r\n",
                "print_node_list(head)\r\n",
                "head = Solution().removeNthFromEnd(head, 2)\r\n",
                "print_node_list(head)"
            ],
            "outputs": [
                {
                    "output_type": "stream",
                    "name": "stdout",
                    "text": [
                        "[1, 2]\n",
                        "[1, 2]\n"
                    ]
                }
            ],
            "metadata": {}
        }
    ],
    "metadata": {
        "orig_nbformat": 4,
        "language_info": {
            "name": "python"
        }
    },
    "nbformat": 4,
    "nbformat_minor": 2
}