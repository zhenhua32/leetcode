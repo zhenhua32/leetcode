{
    "cells": [
        {
            "cell_type": "code",
            "execution_count": 1,
            "source": [
                "from typing import List"
            ],
            "outputs": [],
            "metadata": {}
        },
        {
            "cell_type": "code",
            "execution_count": 18,
            "source": [
                "class Solution:\r\n",
                "    def generateParenthesis(self, n: int) -> List[str]:\r\n",
                "        if n == 0:\r\n",
                "            return []\r\n",
                "        elif n == 1:\r\n",
                "            return [\"()\"]\r\n",
                "        \r\n",
                "        result = []\r\n",
                "        last_result = self.generateParenthesis(n-1)\r\n",
                "        for x in last_result:\r\n",
                "            idx_list = []\r\n",
                "            xlen = len(x)\r\n",
                "            for i, char in enumerate(x):\r\n",
                "                if char == \"(\" and i < xlen-1 and x[i+1] == \")\":\r\n",
                "                    idx_list.append(i)\r\n",
                "            # 对于每个 (), 可以替换为 ()(), 或者 (())\r\n",
                "            for idx in idx_list:\r\n",
                "                result.append(x[:idx]+ \"()()\" +x[idx+2:])\r\n",
                "                result.append(x[:idx]+ \"(())\" +x[idx+2:])\r\n",
                "        \r\n",
                "        return list(set(result))"
            ],
            "outputs": [],
            "metadata": {}
        },
        {
            "cell_type": "code",
            "execution_count": 14,
            "source": [
                "Solution().generateParenthesis(3)"
            ],
            "outputs": [
                {
                    "output_type": "execute_result",
                    "data": {
                        "text/plain": [
                            "['()(())', '((()))', '()()()', '(()())', '(())()']"
                        ]
                    },
                    "metadata": {},
                    "execution_count": 14
                }
            ],
            "metadata": {}
        },
        {
            "cell_type": "code",
            "execution_count": 15,
            "source": [
                "Solution().generateParenthesis(1)"
            ],
            "outputs": [
                {
                    "output_type": "execute_result",
                    "data": {
                        "text/plain": [
                            "['()']"
                        ]
                    },
                    "metadata": {},
                    "execution_count": 15
                }
            ],
            "metadata": {}
        },
        {
            "cell_type": "code",
            "execution_count": 20,
            "source": [
                "result = Solution().generateParenthesis(4)\r\n",
                "set([\"(((())))\",\"((()()))\",\"((())())\",\"((()))()\",\"(()(()))\",\"(()()())\",\"(()())()\",\"(())(())\",\"(())()()\",\"()((()))\",\"()(()())\",\"()(())()\",\"()()(())\",\"()()()()\"]) - set(result)"
            ],
            "outputs": [
                {
                    "output_type": "execute_result",
                    "data": {
                        "text/plain": [
                            "{'(())(())'}"
                        ]
                    },
                    "metadata": {},
                    "execution_count": 20
                }
            ],
            "metadata": {}
        }
    ],
    "metadata": {
        "orig_nbformat": 4,
        "language_info": {
            "name": "python"
        }
    },
    "nbformat": 4,
    "nbformat_minor": 2
}