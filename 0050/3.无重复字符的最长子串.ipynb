{
 "cells": [
  {
   "cell_type": "code",
   "execution_count": null,
   "metadata": {},
   "outputs": [],
   "source": [
    "# 以前的答案\n",
    "class Solution:\n",
    "  def lengthOfLongestSubstring(self, s):\n",
    "    \"\"\"\n",
    "    :type s: str\n",
    "    :rtype: int\n",
    "    \"\"\"\n",
    "    max_long = 0\n",
    "    long = ''\n",
    "    for x in s:\n",
    "      if x not in long:\n",
    "        long += x\n",
    "      else:\n",
    "        # 遇到重复的字符，就把重复字符之前的字符都删掉\n",
    "        if len(long) > max_long:\n",
    "          max_long = len(long)\n",
    "        index = long.index(x)\n",
    "        long = long[index+1:] + x\n",
    "    \n",
    "    if len(long) > max_long:\n",
    "      max_long = len(long)\n",
    "    return max_long"
   ]
  }
 ],
 "metadata": {
  "language_info": {
   "name": "python"
  },
  "orig_nbformat": 4
 },
 "nbformat": 4,
 "nbformat_minor": 2
}
