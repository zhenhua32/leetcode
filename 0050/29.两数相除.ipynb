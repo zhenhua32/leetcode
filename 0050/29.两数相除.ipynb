{
    "cells": [
        {
            "cell_type": "code",
            "execution_count": 32,
            "source": [
                "class Solution:\r\n",
                "    def divide(self, dividend: int, divisor: int) -> int:\r\n",
                "        # 不用除法, 不用乘法, 不用 mod\r\n",
                "        is_positive_dividend = dividend > 0\r\n",
                "        is_positive_divisor = divisor > 0\r\n",
                "\r\n",
                "        is_positive = is_positive_dividend == is_positive_divisor\r\n",
                "\r\n",
                "        dividend = abs(dividend)\r\n",
                "        divisor = abs(divisor)\r\n",
                "\r\n",
                "        if divisor > dividend:\r\n",
                "            return 0\r\n",
                "\r\n",
                "        i = 0\r\n",
                "        count = 0\r\n",
                "        while count < dividend:\r\n",
                "            if count + count + divisor <= dividend:\r\n",
                "                i = i + i + 1\r\n",
                "                count = count + count + divisor\r\n",
                "            else:\r\n",
                "                i += abs(self.divide(dividend - count, divisor))\r\n",
                "                break\r\n",
                "\r\n",
                "        result =  i if is_positive else -i\r\n",
                "\r\n",
                "        if result < (-2) ** 31:\r\n",
                "            return (-2) ** 31\r\n",
                "        elif result > 2 ** 31 - 1:\r\n",
                "            return 2 ** 31 -1\r\n",
                "        else:\r\n",
                "            return result"
            ],
            "outputs": [],
            "metadata": {}
        },
        {
            "cell_type": "code",
            "execution_count": 35,
            "source": [
                "dividend = 10\r\n",
                "divisor = 2\r\n",
                "Solution().divide(dividend, divisor)"
            ],
            "outputs": [
                {
                    "output_type": "execute_result",
                    "data": {
                        "text/plain": [
                            "5"
                        ]
                    },
                    "metadata": {},
                    "execution_count": 35
                }
            ],
            "metadata": {}
        },
        {
            "cell_type": "code",
            "execution_count": 34,
            "source": [
                "dividend = 7\r\n",
                "divisor = -3\r\n",
                "Solution().divide(dividend, divisor)"
            ],
            "outputs": [
                {
                    "output_type": "execute_result",
                    "data": {
                        "text/plain": [
                            "-2"
                        ]
                    },
                    "metadata": {},
                    "execution_count": 34
                }
            ],
            "metadata": {}
        },
        {
            "cell_type": "code",
            "execution_count": 38,
            "source": [
                "dividend = -2147483648\r\n",
                "divisor = -1\r\n",
                "Solution().divide(dividend, divisor)"
            ],
            "outputs": [
                {
                    "output_type": "execute_result",
                    "data": {
                        "text/plain": [
                            "2147483647"
                        ]
                    },
                    "metadata": {},
                    "execution_count": 38
                }
            ],
            "metadata": {}
        },
        {
            "cell_type": "code",
            "execution_count": 36,
            "source": [
                "dividend = -2147483648\r\n",
                "divisor = 1\r\n",
                "Solution().divide(dividend, divisor)"
            ],
            "outputs": [
                {
                    "output_type": "execute_result",
                    "data": {
                        "text/plain": [
                            "-62"
                        ]
                    },
                    "metadata": {},
                    "execution_count": 36
                }
            ],
            "metadata": {}
        }
    ],
    "metadata": {
        "orig_nbformat": 4,
        "language_info": {
            "name": "python"
        }
    },
    "nbformat": 4,
    "nbformat_minor": 2
}