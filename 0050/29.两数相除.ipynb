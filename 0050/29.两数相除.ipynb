{
    "cells": [
        {
            "cell_type": "code",
            "execution_count": 5,
            "metadata": {},
            "outputs": [],
            "source": [
                "class Solution:\n",
                "    def divide(self, dividend: int, divisor: int) -> int:\n",
                "        # 不用除法, 不用乘法, 不用 mod\n",
                "        is_positive_dividend = dividend > 0\n",
                "        is_positive_divisor = divisor > 0\n",
                "\n",
                "        # 判断结果是否是正数\n",
                "        is_positive = is_positive_dividend == is_positive_divisor\n",
                "\n",
                "        dividend = abs(dividend)\n",
                "        divisor = abs(divisor)\n",
                "\n",
                "        # 被除数大于除数就是 0, 递归的终止条件\n",
                "        if divisor > dividend:\n",
                "            return 0\n",
                "\n",
                "        i = 0\n",
                "        count = 0\n",
                "        while count < dividend:\n",
                "            # 这个双 count 是为了什么?\n",
                "            if count + count + divisor <= dividend:\n",
                "                i = i + i + 1\n",
                "                # 不断增加除数的倍数\n",
                "                count = count + count + divisor\n",
                "            else:\n",
                "                # 进入递归了, 递归减小问题规模\n",
                "                i += abs(self.divide(dividend - count, divisor))\n",
                "                break\n",
                "\n",
                "        # 结果的正负性\n",
                "        result =  i if is_positive else -i\n",
                "\n",
                "        # 溢出约束\n",
                "        if result < (-2) ** 31:\n",
                "            return (-2) ** 31\n",
                "        elif result > 2 ** 31 - 1:\n",
                "            return 2 ** 31 -1\n",
                "        else:\n",
                "            return result"
            ]
        },
        {
            "cell_type": "code",
            "execution_count": 6,
            "metadata": {},
            "outputs": [
                {
                    "data": {
                        "text/plain": [
                            "2"
                        ]
                    },
                    "execution_count": 6,
                    "metadata": {},
                    "output_type": "execute_result"
                }
            ],
            "source": [
                "dividend = 11\n",
                "divisor = 5\n",
                "Solution().divide(dividend, divisor)"
            ]
        },
        {
            "cell_type": "code",
            "execution_count": 34,
            "metadata": {},
            "outputs": [
                {
                    "data": {
                        "text/plain": [
                            "-2"
                        ]
                    },
                    "execution_count": 34,
                    "metadata": {},
                    "output_type": "execute_result"
                }
            ],
            "source": [
                "dividend = 7\n",
                "divisor = -3\n",
                "Solution().divide(dividend, divisor)"
            ]
        },
        {
            "cell_type": "code",
            "execution_count": 38,
            "metadata": {},
            "outputs": [
                {
                    "data": {
                        "text/plain": [
                            "2147483647"
                        ]
                    },
                    "execution_count": 38,
                    "metadata": {},
                    "output_type": "execute_result"
                }
            ],
            "source": [
                "dividend = -2147483648\n",
                "divisor = -1\n",
                "Solution().divide(dividend, divisor)"
            ]
        },
        {
            "cell_type": "code",
            "execution_count": 36,
            "metadata": {},
            "outputs": [
                {
                    "data": {
                        "text/plain": [
                            "-62"
                        ]
                    },
                    "execution_count": 36,
                    "metadata": {},
                    "output_type": "execute_result"
                }
            ],
            "source": [
                "dividend = -2147483648\n",
                "divisor = 1\n",
                "Solution().divide(dividend, divisor)"
            ]
        }
    ],
    "metadata": {
        "kernelspec": {
            "display_name": "base",
            "language": "python",
            "name": "python3"
        },
        "language_info": {
            "codemirror_mode": {
                "name": "ipython",
                "version": 3
            },
            "file_extension": ".py",
            "mimetype": "text/x-python",
            "name": "python",
            "nbconvert_exporter": "python",
            "pygments_lexer": "ipython3",
            "version": "3.8.5"
        },
        "orig_nbformat": 4
    },
    "nbformat": 4,
    "nbformat_minor": 2
}
