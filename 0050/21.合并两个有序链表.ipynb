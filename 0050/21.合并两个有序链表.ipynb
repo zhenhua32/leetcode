{
    "cells": [
        {
            "cell_type": "code",
            "execution_count": 4,
            "source": [
                "from typing import List\r\n",
                "# Definition for singly-linked list.\r\n",
                "class ListNode:\r\n",
                "    def __init__(self, val=0, next=None):\r\n",
                "        self.val = val\r\n",
                "        self.next = next\r\n",
                "\r\n",
                "\r\n",
                "def print_node_list(head):\r\n",
                "    val_list = []\r\n",
                "    while head:\r\n",
                "        val_list.append(head.val)\r\n",
                "        head = head.next\r\n",
                "    print(val_list)\r\n",
                "\r\n",
                "\r\n",
                "def val_list_to_head(val_list):\r\n",
                "    if not val_list:\r\n",
                "        return None\r\n",
                "    \r\n",
                "    head = ListNode(val_list.pop(0))\r\n",
                "    first = head\r\n",
                "    while val_list:\r\n",
                "        next_head = ListNode(val_list.pop(0))\r\n",
                "        head.next = next_head\r\n",
                "        head = next_head\r\n",
                "    \r\n",
                "    return first\r\n"
            ],
            "outputs": [],
            "metadata": {}
        },
        {
            "cell_type": "code",
            "execution_count": 8,
            "source": [
                "class Solution:\r\n",
                "    def mergeTwoLists(self, l1: ListNode, l2: ListNode) -> ListNode:\r\n",
                "        if l1 is None:\r\n",
                "            return l2\r\n",
                "        if l2 is None:\r\n",
                "            return l1\r\n",
                "        \r\n",
                "        if l1.val < l2.val:\r\n",
                "            node_list = [l1]\r\n",
                "            l1 = l1.next\r\n",
                "        else:\r\n",
                "            node_list = [l2]\r\n",
                "            l2 = l2.next\r\n",
                "\r\n",
                "        while l1 and l2:\r\n",
                "            l1_val = l1.val\r\n",
                "            l2_val = l2.val\r\n",
                "            \r\n",
                "            if l1_val < l2_val:\r\n",
                "                node_list[-1].next = l1\r\n",
                "                node_list.append(l1)\r\n",
                "                l1 = l1.next\r\n",
                "            else:\r\n",
                "                node_list[-1].next = l2\r\n",
                "                node_list.append(l2)\r\n",
                "                l2 = l2.next\r\n",
                "            \r\n",
                "        # 可能剩余 l1 或 l2\r\n",
                "        if l1:\r\n",
                "            node_list[-1].next = l1\r\n",
                "        elif l2:\r\n",
                "            node_list[-1].next = l2\r\n",
                "        \r\n",
                "        return node_list[0]\r\n"
            ],
            "outputs": [],
            "metadata": {}
        },
        {
            "cell_type": "code",
            "execution_count": 9,
            "source": [
                "l1 = val_list_to_head([1, 2, 4])\r\n",
                "l2 = val_list_to_head([1, 3, 4])\r\n",
                "head = Solution().mergeTwoLists(l1, l2)\r\n",
                "print_node_list(head)"
            ],
            "outputs": [
                {
                    "output_type": "stream",
                    "name": "stdout",
                    "text": [
                        "[1, 1, 2, 3, 4, 4]\n"
                    ]
                }
            ],
            "metadata": {}
        },
        {
            "cell_type": "code",
            "execution_count": 10,
            "source": [
                "l1 = val_list_to_head([])\r\n",
                "l2 = val_list_to_head([])\r\n",
                "head = Solution().mergeTwoLists(l1, l2)\r\n",
                "print_node_list(head)"
            ],
            "outputs": [
                {
                    "output_type": "stream",
                    "name": "stdout",
                    "text": [
                        "[]\n"
                    ]
                }
            ],
            "metadata": {}
        },
        {
            "cell_type": "code",
            "execution_count": 11,
            "source": [
                "l1 = val_list_to_head([])\r\n",
                "l2 = val_list_to_head([0])\r\n",
                "head = Solution().mergeTwoLists(l1, l2)\r\n",
                "print_node_list(head)"
            ],
            "outputs": [
                {
                    "output_type": "stream",
                    "name": "stdout",
                    "text": [
                        "[0]\n"
                    ]
                }
            ],
            "metadata": {}
        }
    ],
    "metadata": {
        "orig_nbformat": 4,
        "language_info": {
            "name": "python"
        }
    },
    "nbformat": 4,
    "nbformat_minor": 2
}