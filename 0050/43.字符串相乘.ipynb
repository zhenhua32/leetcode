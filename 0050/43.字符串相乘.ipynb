{
    "cells": [
        {
            "cell_type": "code",
            "execution_count": 4,
            "source": [
                "class Solution:\r\n",
                "    def multiply(self, num1: str, num2: str) -> str:\r\n",
                "        result = []\r\n",
                "        map_10 = dict()\r\n",
                "        for i in range(max(len(num1), len(num2))):\r\n",
                "            map_10[i] = 10 ** i\r\n",
                "        for i, x in enumerate(num1[::-1]):\r\n",
                "            count = 0\r\n",
                "            for j, y in enumerate(num2[::-1]):\r\n",
                "                i10 = map_10[i]\r\n",
                "                j10 = map_10[j]\r\n",
                "                count += int(x) * int(y) * i10 * j10\r\n",
                "            result.append(count)\r\n",
                "        return str(sum(result))\r\n"
            ],
            "outputs": [],
            "metadata": {}
        },
        {
            "cell_type": "code",
            "execution_count": 7,
            "source": [
                "Solution().multiply(\"23\", \"45\")"
            ],
            "outputs": [
                {
                    "output_type": "execute_result",
                    "data": {
                        "text/plain": [
                            "'1035'"
                        ]
                    },
                    "metadata": {},
                    "execution_count": 7
                }
            ],
            "metadata": {}
        },
        {
            "cell_type": "code",
            "execution_count": 6,
            "source": [
                "Solution().multiply(\"123\", \"456\")"
            ],
            "outputs": [
                {
                    "output_type": "execute_result",
                    "data": {
                        "text/plain": [
                            "'56088'"
                        ]
                    },
                    "metadata": {},
                    "execution_count": 6
                }
            ],
            "metadata": {}
        }
    ],
    "metadata": {
        "orig_nbformat": 4,
        "language_info": {
            "name": "python"
        }
    },
    "nbformat": 4,
    "nbformat_minor": 2
}