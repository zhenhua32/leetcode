{
    "cells": [
        {
            "cell_type": "code",
            "execution_count": 1,
            "metadata": {},
            "outputs": [],
            "source": [
                "class Solution:\n",
                "    def myAtoi(self, s: str) -> int:\n",
                "        s = s.lstrip()\n",
                "        # 判断正负\n",
                "        if not s:\n",
                "            return 0\n",
                "        if s[0] in [\"-\", \"+\"]:\n",
                "            flag = -1 if s[0] == \"-\" else 1\n",
                "            s = s[1:]\n",
                "        else:\n",
                "            flag = 1\n",
                "        # 依次读取\n",
                "        result = []\n",
                "        for char in s:\n",
                "            if char in \"0123456789\":\n",
                "                result.append(char)\n",
                "            else:\n",
                "                break\n",
                "        \n",
                "        if not result:\n",
                "            return 0\n",
                "        \n",
                "        result = int(\"\".join(result)) * flag\n",
                "\n",
                "        if result < -2 ** 31:\n",
                "            result = -2 ** 31\n",
                "        if result > 2 ** 31 - 1:\n",
                "            result = 2 ** 31 - 1\n",
                "        return result\n"
            ]
        },
        {
            "cell_type": "code",
            "execution_count": 2,
            "metadata": {},
            "outputs": [
                {
                    "data": {
                        "text/plain": [
                            "-42"
                        ]
                    },
                    "execution_count": 2,
                    "metadata": {},
                    "output_type": "execute_result"
                }
            ],
            "source": [
                "Solution().myAtoi(\"   -42\")"
            ]
        },
        {
            "cell_type": "code",
            "execution_count": 3,
            "metadata": {},
            "outputs": [
                {
                    "data": {
                        "text/plain": [
                            "4193"
                        ]
                    },
                    "execution_count": 3,
                    "metadata": {},
                    "output_type": "execute_result"
                }
            ],
            "source": [
                "Solution().myAtoi(\"4193 with words\")"
            ]
        },
        {
            "cell_type": "code",
            "execution_count": 4,
            "metadata": {},
            "outputs": [
                {
                    "data": {
                        "text/plain": [
                            "0"
                        ]
                    },
                    "execution_count": 4,
                    "metadata": {},
                    "output_type": "execute_result"
                }
            ],
            "source": [
                "Solution().myAtoi(\"words and 987\")"
            ]
        },
        {
            "cell_type": "code",
            "execution_count": 7,
            "metadata": {},
            "outputs": [
                {
                    "data": {
                        "text/plain": [
                            "0"
                        ]
                    },
                    "execution_count": 7,
                    "metadata": {},
                    "output_type": "execute_result"
                }
            ],
            "source": [
                "Solution().myAtoi(\"-91283472332\")"
            ]
        }
    ],
    "metadata": {
        "kernelspec": {
            "display_name": "base",
            "language": "python",
            "name": "python3"
        },
        "language_info": {
            "codemirror_mode": {
                "name": "ipython",
                "version": 3
            },
            "file_extension": ".py",
            "mimetype": "text/x-python",
            "name": "python",
            "nbconvert_exporter": "python",
            "pygments_lexer": "ipython3",
            "version": "3.8.5"
        },
        "orig_nbformat": 4
    },
    "nbformat": 4,
    "nbformat_minor": 2
}
