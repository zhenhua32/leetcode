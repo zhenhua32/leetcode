{
    "cells": [
        {
            "cell_type": "code",
            "execution_count": 6,
            "source": [
                "class Solution:\r\n",
                "    def myAtoi(self, s: str) -> int:\r\n",
                "        s = s.lstrip()\r\n",
                "        # 判断正负\r\n",
                "        if not s:\r\n",
                "            return 0\r\n",
                "        if s[0] in [\"-\", \"+\"]:\r\n",
                "            flag = -1 if s[0] == \"-\" else 1\r\n",
                "            s = s[1:]\r\n",
                "        else:\r\n",
                "            flag = 1\r\n",
                "        # 依次读取\r\n",
                "        result = []\r\n",
                "        for char in s:\r\n",
                "            if char in \"0123456789\":\r\n",
                "                result.append(char)\r\n",
                "            else:\r\n",
                "                break\r\n",
                "        \r\n",
                "        if not result:\r\n",
                "            return 0\r\n",
                "        \r\n",
                "        result = int(\"\".join(result)) * flag\r\n",
                "\r\n",
                "        if result < -2 ** 31:\r\n",
                "            result = -2 ** 31\r\n",
                "        if result > 2 ** 31 - 1:\r\n",
                "            result = 2 ** 31 - 1\r\n",
                "        return result\r\n"
            ],
            "outputs": [
                {
                    "output_type": "error",
                    "ename": "SyntaxError",
                    "evalue": "invalid syntax (<ipython-input-6-a50acbe7fc11>, line 28)",
                    "traceback": [
                        "\u001b[1;36m  File \u001b[1;32m\"<ipython-input-6-a50acbe7fc11>\"\u001b[1;36m, line \u001b[1;32m28\u001b[0m\n\u001b[1;33m    return = 2 ** 31 - 1\u001b[0m\n\u001b[1;37m           ^\u001b[0m\n\u001b[1;31mSyntaxError\u001b[0m\u001b[1;31m:\u001b[0m invalid syntax\n"
                    ]
                }
            ],
            "metadata": {}
        },
        {
            "cell_type": "code",
            "execution_count": 2,
            "source": [
                "Solution().myAtoi(\"   -42\")"
            ],
            "outputs": [
                {
                    "output_type": "execute_result",
                    "data": {
                        "text/plain": [
                            "-42"
                        ]
                    },
                    "metadata": {},
                    "execution_count": 2
                }
            ],
            "metadata": {}
        },
        {
            "cell_type": "code",
            "execution_count": 3,
            "source": [
                "Solution().myAtoi(\"4193 with words\")"
            ],
            "outputs": [
                {
                    "output_type": "execute_result",
                    "data": {
                        "text/plain": [
                            "4193"
                        ]
                    },
                    "metadata": {},
                    "execution_count": 3
                }
            ],
            "metadata": {}
        },
        {
            "cell_type": "code",
            "execution_count": 4,
            "source": [
                "Solution().myAtoi(\"words and 987\")"
            ],
            "outputs": [
                {
                    "output_type": "execute_result",
                    "data": {
                        "text/plain": [
                            "0"
                        ]
                    },
                    "metadata": {},
                    "execution_count": 4
                }
            ],
            "metadata": {}
        },
        {
            "cell_type": "code",
            "execution_count": 7,
            "source": [
                "Solution().myAtoi(\"-91283472332\")"
            ],
            "outputs": [
                {
                    "output_type": "execute_result",
                    "data": {
                        "text/plain": [
                            "0"
                        ]
                    },
                    "metadata": {},
                    "execution_count": 7
                }
            ],
            "metadata": {}
        }
    ],
    "metadata": {
        "orig_nbformat": 4,
        "language_info": {
            "name": "python"
        }
    },
    "nbformat": 4,
    "nbformat_minor": 2
}