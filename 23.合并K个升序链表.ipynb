{
    "cells": [
        {
            "cell_type": "code",
            "execution_count": 1,
            "source": [
                "from typing import List\r\n",
                "# Definition for singly-linked list.\r\n",
                "class ListNode:\r\n",
                "    def __init__(self, val=0, next=None):\r\n",
                "        self.val = val\r\n",
                "        self.next = next\r\n",
                "\r\n",
                "\r\n",
                "def print_node_list(head):\r\n",
                "    val_list = []\r\n",
                "    while head:\r\n",
                "        val_list.append(head.val)\r\n",
                "        head = head.next\r\n",
                "    print(val_list)\r\n",
                "\r\n",
                "\r\n",
                "def val_list_to_head(val_list):\r\n",
                "    if not val_list:\r\n",
                "        return None\r\n",
                "    \r\n",
                "    head = ListNode(val_list.pop(0))\r\n",
                "    first = head\r\n",
                "    while val_list:\r\n",
                "        next_head = ListNode(val_list.pop(0))\r\n",
                "        head.next = next_head\r\n",
                "        head = next_head\r\n",
                "    \r\n",
                "    return first"
            ],
            "outputs": [],
            "metadata": {}
        },
        {
            "cell_type": "code",
            "execution_count": 6,
            "source": [
                "class Solution:\r\n",
                "    def mergeKLists(self, lists: List[ListNode]) -> ListNode:\r\n",
                "        if len(lists) == 0:\r\n",
                "            return None\r\n",
                "        if len(lists) == 1:\r\n",
                "            return lists[0]\r\n",
                "        \r\n",
                "        # 可以把所有的值都拿出来, 自己从头开始链接\r\n",
                "        node_list = []\r\n",
                "        for head in lists:\r\n",
                "            while head:\r\n",
                "                node_list.append(head)\r\n",
                "                head = head.next\r\n",
                "        \r\n",
                "        node_list.sort(key=lambda x: x.val)\r\n",
                "\r\n",
                "        len_node_list = len(node_list)\r\n",
                "        for i, node in enumerate(node_list):\r\n",
                "            if i < len_node_list - 1:\r\n",
                "                node.next = node_list[i+1]\r\n",
                "            else:\r\n",
                "                node.next = None\r\n",
                "        \r\n",
                "        return node_list[0] if len(node_list) else None\r\n",
                "        "
            ],
            "outputs": [],
            "metadata": {}
        },
        {
            "cell_type": "code",
            "execution_count": 3,
            "source": [
                "head = Solution().mergeKLists([\r\n",
                "    val_list_to_head([1,4,5]),\r\n",
                "    val_list_to_head([1,3,4]),\r\n",
                "    val_list_to_head([2,6]),\r\n",
                "])\r\n",
                "print_node_list(head)"
            ],
            "outputs": [
                {
                    "output_type": "stream",
                    "name": "stdout",
                    "text": [
                        "[1, 1, 2, 3, 4, 4, 5, 6]\n"
                    ]
                }
            ],
            "metadata": {}
        },
        {
            "cell_type": "code",
            "execution_count": 4,
            "source": [
                "head = Solution().mergeKLists([\r\n",
                "])\r\n",
                "print_node_list(head)"
            ],
            "outputs": [
                {
                    "output_type": "stream",
                    "name": "stdout",
                    "text": [
                        "[]\n"
                    ]
                }
            ],
            "metadata": {}
        },
        {
            "cell_type": "code",
            "execution_count": 7,
            "source": [
                "head = Solution().mergeKLists([\r\n",
                "    []\r\n",
                "])\r\n",
                "print_node_list(head)"
            ],
            "outputs": [
                {
                    "output_type": "stream",
                    "name": "stdout",
                    "text": [
                        "[]\n"
                    ]
                }
            ],
            "metadata": {}
        },
        {
            "cell_type": "code",
            "execution_count": 8,
            "source": [
                "head = Solution().mergeKLists([\r\n",
                "    [], []\r\n",
                "])\r\n",
                "print_node_list(head)"
            ],
            "outputs": [
                {
                    "output_type": "stream",
                    "name": "stdout",
                    "text": [
                        "[]\n"
                    ]
                }
            ],
            "metadata": {}
        }
    ],
    "metadata": {
        "orig_nbformat": 4,
        "language_info": {
            "name": "python"
        }
    },
    "nbformat": 4,
    "nbformat_minor": 2
}