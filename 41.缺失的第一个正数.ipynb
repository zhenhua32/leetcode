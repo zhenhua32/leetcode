{
    "cells": [
        {
            "cell_type": "code",
            "execution_count": null,
            "source": [
                "from typing import List"
            ],
            "outputs": [],
            "metadata": {}
        },
        {
            "cell_type": "code",
            "execution_count": 205,
            "source": [
                "class Solution:\r\n",
                "    def firstMissingPositive(self, nums: List[int]) -> int:\r\n",
                "        nums.sort()\r\n",
                "        val = 1\r\n",
                "        for x in nums:\r\n",
                "            if x > 0:\r\n",
                "                if x == val:\r\n",
                "                    val = x + 1\r\n",
                "                elif x == val - 1:\r\n",
                "                    pass\r\n",
                "                else:\r\n",
                "                    return val\r\n",
                "        return val\r\n"
            ],
            "outputs": [],
            "metadata": {}
        },
        {
            "cell_type": "code",
            "execution_count": 207,
            "source": [
                "Solution().firstMissingPositive([1,2,0]) == 3"
            ],
            "outputs": [
                {
                    "output_type": "execute_result",
                    "data": {
                        "text/plain": [
                            "True"
                        ]
                    },
                    "metadata": {},
                    "execution_count": 207
                }
            ],
            "metadata": {}
        },
        {
            "cell_type": "code",
            "execution_count": 209,
            "source": [
                "Solution().firstMissingPositive([3,4,-1,1]) == 2"
            ],
            "outputs": [
                {
                    "output_type": "execute_result",
                    "data": {
                        "text/plain": [
                            "True"
                        ]
                    },
                    "metadata": {},
                    "execution_count": 209
                }
            ],
            "metadata": {}
        },
        {
            "cell_type": "code",
            "execution_count": 218,
            "source": [
                "Solution().firstMissingPositive([7,8,9,11,12]) == 1"
            ],
            "outputs": [
                {
                    "output_type": "execute_result",
                    "data": {
                        "text/plain": [
                            "True"
                        ]
                    },
                    "metadata": {},
                    "execution_count": 218
                }
            ],
            "metadata": {}
        },
        {
            "cell_type": "code",
            "execution_count": 216,
            "source": [
                "Solution().firstMissingPositive([0,2,2,1,1]) == 3"
            ],
            "outputs": [
                {
                    "output_type": "execute_result",
                    "data": {
                        "text/plain": [
                            "True"
                        ]
                    },
                    "metadata": {},
                    "execution_count": 216
                }
            ],
            "metadata": {}
        },
        {
            "cell_type": "code",
            "execution_count": 215,
            "source": [
                "# 更慢, 还不如上面的直接排序\r\n",
                "class Solution:\r\n",
                "    def firstMissingPositive(self, nums: List[int]) -> int:\r\n",
                "        left_set = set()\r\n",
                "        right_set = set()\r\n",
                "        exist_set = set()\r\n",
                "        for x in nums:\r\n",
                "            if x <= 0:\r\n",
                "                continue\r\n",
                "            left_set.add(x-1)\r\n",
                "            right_set.add(x+1)\r\n",
                "            exist_set.add(x)\r\n",
                "        \r\n",
                "        if 0 not in left_set:\r\n",
                "            return 1\r\n",
                "        left_set.remove(0)\r\n",
                "        return min( (left_set | right_set) - exist_set )\r\n"
            ],
            "outputs": [],
            "metadata": {}
        },
        {
            "cell_type": "code",
            "execution_count": 223,
            "source": [
                "Solution().firstMissingPositive([1,2,9,3,5,4]) == 6"
            ],
            "outputs": [
                {
                    "output_type": "execute_result",
                    "data": {
                        "text/plain": [
                            "True"
                        ]
                    },
                    "metadata": {},
                    "execution_count": 223
                }
            ],
            "metadata": {}
        },
        {
            "cell_type": "code",
            "execution_count": 222,
            "source": [
                "Solution().firstMissingPositive([4,1,2,3]) == 5"
            ],
            "outputs": [
                {
                    "output_type": "execute_result",
                    "data": {
                        "text/plain": [
                            "True"
                        ]
                    },
                    "metadata": {},
                    "execution_count": 222
                }
            ],
            "metadata": {}
        },
        {
            "cell_type": "code",
            "execution_count": 221,
            "source": [
                "Solution().firstMissingPositive([4,1,3,3]) == 2"
            ],
            "outputs": [
                {
                    "output_type": "execute_result",
                    "data": {
                        "text/plain": [
                            "True"
                        ]
                    },
                    "metadata": {},
                    "execution_count": 221
                }
            ],
            "metadata": {}
        },
        {
            "cell_type": "code",
            "execution_count": 220,
            "source": [
                "Solution().firstMissingPositive([4,4,1,4,3,4,2,4,4,3]) == 5"
            ],
            "outputs": [
                {
                    "output_type": "execute_result",
                    "data": {
                        "text/plain": [
                            "True"
                        ]
                    },
                    "metadata": {},
                    "execution_count": 220
                }
            ],
            "metadata": {}
        },
        {
            "cell_type": "code",
            "execution_count": 219,
            "source": [
                "# 惊为天人\r\n",
                "class Solution:\r\n",
                "    def firstMissingPositive(self, nums: List[int]) -> int:\r\n",
                "        nums = set(nums)\r\n",
                "        for i in range(1, 2**32):\r\n",
                "            if i not in nums:\r\n",
                "                return i"
            ],
            "outputs": [],
            "metadata": {}
        }
    ],
    "metadata": {
        "orig_nbformat": 4,
        "language_info": {
            "name": "python"
        }
    },
    "nbformat": 4,
    "nbformat_minor": 2
}