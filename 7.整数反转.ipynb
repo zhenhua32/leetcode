{
    "cells": [
        {
            "cell_type": "code",
            "execution_count": 12,
            "source": [
                "class Solution:\r\n",
                "    def reverse(self, x: int) -> int:\r\n",
                "        result = 0\r\n",
                "        # TODO: 32 位限制\r\n",
                "        if x < 0:\r\n",
                "            result = -int(str(abs(x))[::-1])\r\n",
                "        else:\r\n",
                "            result = int(str(x)[::-1])\r\n",
                "        \r\n",
                "        if result < -2 ** 31 or result > 2 ** 31 - 1:\r\n",
                "            result = 0\r\n",
                "        return result"
            ],
            "outputs": [],
            "metadata": {}
        },
        {
            "cell_type": "code",
            "execution_count": 9,
            "source": [
                "Solution().reverse(-321)"
            ],
            "outputs": [
                {
                    "output_type": "execute_result",
                    "data": {
                        "text/plain": [
                            "-123"
                        ]
                    },
                    "metadata": {},
                    "execution_count": 9
                }
            ],
            "metadata": {}
        },
        {
            "cell_type": "code",
            "execution_count": 10,
            "source": [
                "Solution().reverse(1534236469)"
            ],
            "outputs": [
                {
                    "output_type": "execute_result",
                    "data": {
                        "text/plain": [
                            "0"
                        ]
                    },
                    "metadata": {},
                    "execution_count": 10
                }
            ],
            "metadata": {}
        },
        {
            "cell_type": "code",
            "execution_count": 13,
            "source": [
                "Solution().reverse(1563847412)"
            ],
            "outputs": [
                {
                    "output_type": "execute_result",
                    "data": {
                        "text/plain": [
                            "0"
                        ]
                    },
                    "metadata": {},
                    "execution_count": 13
                }
            ],
            "metadata": {}
        }
    ],
    "metadata": {
        "orig_nbformat": 4,
        "language_info": {
            "name": "python"
        }
    },
    "nbformat": 4,
    "nbformat_minor": 2
}