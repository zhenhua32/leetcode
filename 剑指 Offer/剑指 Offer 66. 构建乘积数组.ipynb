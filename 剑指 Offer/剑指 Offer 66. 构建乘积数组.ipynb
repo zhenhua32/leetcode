{
 "cells": [
  {
   "cell_type": "code",
   "execution_count": 3,
   "metadata": {},
   "outputs": [],
   "source": [
    "from typing import List\n",
    "\n",
    "class Solution:\n",
    "    def constructArr(self, a: List[int]) -> List[int]:\n",
    "        if len(a) < 2:\n",
    "            return []\n",
    "        \n",
    "        n = len(a)\n",
    "        b = [1] * n\n",
    "        # 双遍历, O(n^2) 的时间复杂度\n",
    "        for i in range(n):\n",
    "            for j in range(n):\n",
    "                if i == j:\n",
    "                    continue\n",
    "                b[i] *= a[j]\n",
    "        return b"
   ]
  },
  {
   "cell_type": "code",
   "execution_count": 4,
   "metadata": {},
   "outputs": [
    {
     "data": {
      "text/plain": [
       "[120, 60, 40, 30, 24]"
      ]
     },
     "execution_count": 4,
     "metadata": {},
     "output_type": "execute_result"
    }
   ],
   "source": [
    "Solution().constructArr([1,2,3,4,5])"
   ]
  },
  {
   "cell_type": "code",
   "execution_count": 9,
   "metadata": {},
   "outputs": [],
   "source": [
    "from typing import List\n",
    "\n",
    "class Solution:\n",
    "    def constructArr(self, a: List[int]) -> List[int]:\n",
    "        if len(a) < 2:\n",
    "            return []\n",
    "\n",
    "        n = len(a)\n",
    "        # 当 n = 2 的时候, 就是交换下位置\n",
    "        b = [a[1], a[0]]\n",
    "        cur_sum = a[0] * a[1]\n",
    "        for i in range(2, n):\n",
    "            cur_val = a[i]\n",
    "            # 当前总和\n",
    "            b = [x * cur_val for x in b] + [cur_sum]\n",
    "            cur_sum *= cur_val\n",
    "        \n",
    "        return b"
   ]
  },
  {
   "cell_type": "code",
   "execution_count": 10,
   "metadata": {},
   "outputs": [
    {
     "data": {
      "text/plain": [
       "[120, 60, 40, 30, 24]"
      ]
     },
     "execution_count": 10,
     "metadata": {},
     "output_type": "execute_result"
    }
   ],
   "source": [
    "Solution().constructArr([1,2,3,4,5])"
   ]
  },
  {
   "cell_type": "code",
   "execution_count": 11,
   "metadata": {},
   "outputs": [],
   "source": [
    "from typing import List\n",
    "\n",
    "\"\"\"\n",
    "就是要想到以中心点为主, 左边两边分别遍历, 左半部分的乘积, 右半部分的乘积. 可以少一个内嵌的循环.\n",
    "\"\"\"\n",
    "class Solution:\n",
    "    def constructArr(self, a: List[int]) -> List[int]:\n",
    "        if len(a) < 2:\n",
    "            return []\n",
    "\n",
    "        b = [1] * len(a)\n",
    "        # 这样做的目的是让b中每个元素都等于a中对应位置之前（不包括当前位置）的所有元素的乘积。\n",
    "        for i in range(1, len(a)):\n",
    "            b[i] = b[i - 1] * a[i - 1]\n",
    "\n",
    "        tmp = 1\n",
    "        # 这样做的目的是让b中每个元素都等于a中对应位置之后（不包括当前位置）的所有元素的乘积，并且和之前计算出来的前面部分相乘。\n",
    "        for i in range(len(a) - 2, -1, -1):\n",
    "            tmp *= a[i + 1]\n",
    "            b[i] *= tmp\n",
    "            \n",
    "        return b"
   ]
  },
  {
   "cell_type": "code",
   "execution_count": 12,
   "metadata": {},
   "outputs": [
    {
     "data": {
      "text/plain": [
       "[120, 60, 40, 30, 24]"
      ]
     },
     "execution_count": 12,
     "metadata": {},
     "output_type": "execute_result"
    }
   ],
   "source": [
    "Solution().constructArr([1,2,3,4,5])"
   ]
  }
 ],
 "metadata": {
  "kernelspec": {
   "display_name": "base",
   "language": "python",
   "name": "python3"
  },
  "language_info": {
   "codemirror_mode": {
    "name": "ipython",
    "version": 3
   },
   "file_extension": ".py",
   "mimetype": "text/x-python",
   "name": "python",
   "nbconvert_exporter": "python",
   "pygments_lexer": "ipython3",
   "version": "3.8.5"
  },
  "orig_nbformat": 4
 },
 "nbformat": 4,
 "nbformat_minor": 2
}
