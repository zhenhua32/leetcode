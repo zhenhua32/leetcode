{
 "cells": [
  {
   "cell_type": "markdown",
   "metadata": {},
   "source": [
    "我们可以用 `2*1` 的小矩形横着或者竖着去覆盖更大的矩形。请问用 n 个 `2*1` 的小矩形无重叠地覆盖一个 `2*n` 的大矩形，总共有多少种方法？"
   ]
  },
  {
   "cell_type": "code",
   "execution_count": 1,
   "metadata": {},
   "outputs": [],
   "source": [
    "class Solution():\n",
    "    def call(self, n: int) -> None:\n",
    "        \"\"\"\n",
    "        n 是矩形的高度\n",
    "        \"\"\"\n",
    "        if n < 0:\n",
    "            return 0\n",
    "        if n == 1:\n",
    "            return 1\n",
    "        if n == 2:\n",
    "            return 2\n",
    "        \n",
    "        dp = [0] * (n+1)\n",
    "        dp[1] = 1\n",
    "        dp[2] = 2\n",
    "        # 状态转移方程, 就是 dp[n] = dp[n-1] + dp[n-2]\n",
    "        # 对于 dp[n] 来说, 可以从 dp[n-1] 走一步, 也可以从 dp[n-2] 走两步\n",
    "        # 其中有一个重复的, 就是 dp[n-2] 的剩余两个步骤中, 如果都是横着的, 就和 dp[n-1] 的走法重复了\n",
    "        # 只有竖着的时候才是新的走法\n",
    "        # dp[n-1] * 1 + dp[n-2] * 2 - dp[n-2] * 1\n",
    "        for i in range(3, n+1):\n",
    "            dp[i] = dp[i-1] + dp[i-2]\n",
    "        return dp[n]"
   ]
  },
  {
   "cell_type": "code",
   "execution_count": 2,
   "metadata": {},
   "outputs": [
    {
     "data": {
      "text/plain": [
       "5"
      ]
     },
     "execution_count": 2,
     "metadata": {},
     "output_type": "execute_result"
    }
   ],
   "source": [
    "Solution().call(4)"
   ]
  }
 ],
 "metadata": {
  "kernelspec": {
   "display_name": "base",
   "language": "python",
   "name": "python3"
  },
  "language_info": {
   "codemirror_mode": {
    "name": "ipython",
    "version": 3
   },
   "file_extension": ".py",
   "mimetype": "text/x-python",
   "name": "python",
   "nbconvert_exporter": "python",
   "pygments_lexer": "ipython3",
   "version": "3.9.7"
  },
  "orig_nbformat": 4
 },
 "nbformat": 4,
 "nbformat_minor": 2
}
