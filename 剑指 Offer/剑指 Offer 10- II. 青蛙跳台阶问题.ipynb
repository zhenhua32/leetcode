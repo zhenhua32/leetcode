{
 "cells": [
  {
   "cell_type": "code",
   "execution_count": null,
   "metadata": {},
   "outputs": [],
   "source": [
    "class Solution:\n",
    "    def numWays(self, n: int) -> int:\n",
    "        # 一个台阶一种解法\n",
    "        if n <= 1:\n",
    "            return 1\n",
    "\n",
    "        # 两个台阶两种解法.  O(n) 的空间复杂度\n",
    "        a, b = 1, 1\n",
    "\n",
    "        # n个台阶的解法等于n-1个台阶的解法加上n-2个台阶的解法\n",
    "        for _ in range(n - 1):\n",
    "            a, b = b, a + b\n",
    "        return b % 1000000007"
   ]
  }
 ],
 "metadata": {
  "language_info": {
   "name": "python"
  },
  "orig_nbformat": 4
 },
 "nbformat": 4,
 "nbformat_minor": 2
}
