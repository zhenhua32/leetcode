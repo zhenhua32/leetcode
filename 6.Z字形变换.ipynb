{
    "cells": [
        {
            "cell_type": "code",
            "execution_count": 9,
            "source": [
                "from pprint import pprint as print"
            ],
            "outputs": [],
            "metadata": {}
        },
        {
            "cell_type": "code",
            "execution_count": 25,
            "source": [
                "class Solution:\r\n",
                "    def convert(self, s: str, numRows: int) -> str:\r\n",
                "        if numRows == 1:\r\n",
                "            return s\r\n",
                "        # 字符串长度\r\n",
                "        slen = len(s)\r\n",
                "        # 单个 Z 字所能包含的长度\r\n",
                "        zlen = numRows * 2 + (numRows - 2)\r\n",
                "        # 二维数组的长度\r\n",
                "        alen = 1 + (slen // (numRows + numRows - 2) +1) * (numRows - 1)\r\n",
                "\r\n",
                "        # 构建存储的数组\r\n",
                "        array = [[\"\"]*alen for _ in range(numRows)]\r\n",
                "        \r\n",
                "        ss = list(s)\r\n",
                "        for i in range(alen):\r\n",
                "            remainder = i % (numRows - 1)\r\n",
                "            # 整列\r\n",
                "            if remainder == 0:\r\n",
                "                for j in range(numRows):\r\n",
                "                    if not ss:\r\n",
                "                        break\r\n",
                "                    array[j][i] = ss.pop(0)\r\n",
                "            else:\r\n",
                "                if not ss:\r\n",
                "                    break\r\n",
                "                array[numRows-1-remainder][i] = ss.pop(0)\r\n",
                "\r\n",
                "        print(array)\r\n",
                "        result = \"\"\r\n",
                "        for i in range(numRows):\r\n",
                "            for j in range(alen):\r\n",
                "                result += array[i][j]\r\n",
                "        \r\n",
                "        return result\r\n"
            ],
            "outputs": [],
            "metadata": {}
        },
        {
            "cell_type": "code",
            "execution_count": 18,
            "source": [
                "assert Solution().convert(\"PAYPALISHIRING\", 3) == \"PAHNAPLSIIGYIR\""
            ],
            "outputs": [
                {
                    "output_type": "stream",
                    "name": "stdout",
                    "text": [
                        "[['P', '', 'A', '', 'H', '', 'N', ''],\n",
                        " ['A', 'P', 'L', 'S', 'I', 'I', 'G', ''],\n",
                        " ['Y', '', 'I', '', 'R', '', '', '']]\n"
                    ]
                }
            ],
            "metadata": {}
        },
        {
            "cell_type": "code",
            "execution_count": 19,
            "source": [
                "assert Solution().convert(\"PAYPALISHIRING\", 4) == \"PINALSIGYAHRPI\""
            ],
            "outputs": [
                {
                    "output_type": "stream",
                    "name": "stdout",
                    "text": [
                        "[['P', '', '', 'I', '', '', 'N', ''],\n",
                        " ['A', '', 'L', 'S', '', 'I', 'G', ''],\n",
                        " ['Y', 'A', '', 'H', 'R', '', '', ''],\n",
                        " ['P', '', '', 'I', '', '', '', '']]\n"
                    ]
                }
            ],
            "metadata": {}
        },
        {
            "cell_type": "code",
            "execution_count": 21,
            "source": [
                "assert Solution().convert(\"A\", 1) == \"A\""
            ],
            "outputs": [],
            "metadata": {}
        },
        {
            "cell_type": "code",
            "execution_count": 26,
            "source": [
                "assert Solution().convert(\"PAYPALISHIRING\", 9) == \"PAYPGANLIIRSIH\""
            ],
            "outputs": [
                {
                    "output_type": "stream",
                    "name": "stdout",
                    "text": [
                        "9\n",
                        "[['P', '', '', '', '', '', '', '', ''],\n",
                        " ['A', '', '', '', '', '', '', '', ''],\n",
                        " ['Y', '', '', '', '', '', '', '', ''],\n",
                        " ['P', '', '', '', '', 'G', '', '', ''],\n",
                        " ['A', '', '', '', 'N', '', '', '', ''],\n",
                        " ['L', '', '', 'I', '', '', '', '', ''],\n",
                        " ['I', '', 'R', '', '', '', '', '', ''],\n",
                        " ['S', 'I', '', '', '', '', '', '', ''],\n",
                        " ['H', '', '', '', '', '', '', '', '']]\n"
                    ]
                }
            ],
            "metadata": {}
        }
    ],
    "metadata": {
        "orig_nbformat": 4,
        "language_info": {
            "name": "python"
        }
    },
    "nbformat": 4,
    "nbformat_minor": 2
}