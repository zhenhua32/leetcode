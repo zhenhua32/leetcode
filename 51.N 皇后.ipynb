{
    "cells": [
        {
            "cell_type": "code",
            "execution_count": 2,
            "metadata": {},
            "outputs": [],
            "source": [
                "from typing import List"
            ]
        },
        {
            "cell_type": "code",
            "execution_count": 27,
            "metadata": {},
            "outputs": [],
            "source": [
                "class Solution:\n",
                "\n",
                "    def get_possible_set(self, n):\n",
                "        \"\"\"给定 n, 先列出所有位置\"\"\"\n",
                "        possible_set = list()\n",
                "        for i in range(n):\n",
                "            for j in range(n):\n",
                "                possible_set.append((i, j))\n",
                "        return possible_set\n",
                "\n",
                "    def decrease_possible_set(self, possible_set, point, n):\n",
                "        \"\"\"给定一个 point, 减少可能的位置\"\"\"\n",
                "        i, j = point\n",
                "        # 先移出行 和 列\n",
                "        possible_set = [x for x in possible_set if x[0] != i and x[1] != j]\n",
                "        # 移出四个方向上的斜线\n",
                "        i, j = point\n",
                "        while i >= 0 and j >= 0:\n",
                "            key = (i , j)\n",
                "            if key in possible_set:\n",
                "                possible_set.remove(key)\n",
                "            i -= 1\n",
                "            j -= 1\n",
                "        i, j = point\n",
                "        while i < n and j < n:\n",
                "            key = (i, j)\n",
                "            if key in possible_set:\n",
                "                possible_set.remove(key)\n",
                "            i += 1\n",
                "            j += 1\n",
                "        i, j = point\n",
                "        while i >= 0 and j < n:\n",
                "            key = (i, j)\n",
                "            if key in possible_set:\n",
                "                possible_set.remove(key)\n",
                "            i -= 1\n",
                "            j += 1\n",
                "        i, j = point\n",
                "        while i < n and j >= 0:\n",
                "            key = (i,j)\n",
                "            if key in possible_set:\n",
                "                possible_set.remove(key)\n",
                "            i += 1\n",
                "            j -= 1\n",
                "        return possible_set\n",
                "\n",
                "    def try_one(self, qidx: list, possible_set: list, n: int, old_n=None):\n",
                "        # print(qidx, possible_set, n, old_n)\n",
                "        if old_n is None:\n",
                "            old_n = n\n",
                "\n",
                "        result = []\n",
                "\n",
                "        if n == len(qidx):\n",
                "            return [qidx]\n",
                "\n",
                "        # 不能随便取一个, 每种结果都要试一下\n",
                "        for key in possible_set.copy():\n",
                "            pset = self.decrease_possible_set(possible_set, key, old_n)\n",
                "            sub_result = self.try_one([key], pset, n-1, old_n)\n",
                "            if sub_result:\n",
                "                result.extend([qidx + x for x in sub_result])\n",
                "\n",
                "        return result\n",
                "\n",
                "    def solveNQueens(self, n: int) -> List[List[str]]:\n",
                "        if n == 1:\n",
                "            return [[\"Q\"]]\n",
                "        if n == 2 or n == 3:\n",
                "            return []\n",
                "        result = []\n",
                "\n",
                "        for i in range(n):\n",
                "            for j in range(n):\n",
                "                qidx = [(i, j)]\n",
                "                key = (i, j)\n",
                "                possible_set = self.get_possible_set(n)\n",
                "                possible_set.remove(key)\n",
                "                possible_set = self.decrease_possible_set(possible_set, key, n)\n",
                "\n",
                "                # 太阴了, 要试的次数太多了\n",
                "                # 对于每个可能项, 一个个试过去\n",
                "                qidx = self.try_one(qidx, possible_set, n, n)\n",
                "                if qidx:\n",
                "                    result.extend(qidx)\n",
                "        \n",
                "        result = set([tuple(sorted(x)) for x in result])\n",
                "        \n",
                "        print(result)\n",
                "        # 用上面的索引位置, 构建返回\n",
                "        r = []\n",
                "        for i in result:\n",
                "            one = [\".\"*n] * n\n",
                "            for idx in i:\n",
                "                x, y = idx\n",
                "                one[x] = \".\" * y + \"Q\" + \".\" * (n - y - 1)\n",
                "            r.append(one)\n",
                "        return r\n"
            ]
        },
        {
            "cell_type": "code",
            "execution_count": 28,
            "metadata": {},
            "outputs": [
                {
                    "name": "stdout",
                    "output_type": "stream",
                    "text": [
                        "{((0, 2), (1, 0), (2, 3), (3, 1)), ((0, 1), (1, 3), (2, 0), (3, 2))}\n"
                    ]
                },
                {
                    "data": {
                        "text/plain": [
                            "[['..Q.', 'Q...', '...Q', '.Q..'], ['.Q..', '...Q', 'Q...', '..Q.']]"
                        ]
                    },
                    "execution_count": 28,
                    "metadata": {},
                    "output_type": "execute_result"
                }
            ],
            "source": [
                "Solution().solveNQueens(4)"
            ]
        },
        {
            "cell_type": "code",
            "execution_count": 29,
            "metadata": {},
            "outputs": [
                {
                    "name": "stdout",
                    "output_type": "stream",
                    "text": [
                        "{((0, 1), (1, 3), (2, 0), (3, 2), (4, 4)), ((0, 0), (1, 2), (2, 4), (3, 1), (4, 3)), ((0, 0), (1, 3), (2, 1), (3, 4), (4, 2)), ((0, 2), (1, 4), (2, 1), (3, 3), (4, 0)), ((0, 3), (1, 1), (2, 4), (3, 2), (4, 0)), ((0, 3), (1, 0), (2, 2), (3, 4), (4, 1)), ((0, 4), (1, 1), (2, 3), (3, 0), (4, 2)), ((0, 2), (1, 0), (2, 3), (3, 1), (4, 4)), ((0, 1), (1, 4), (2, 2), (3, 0), (4, 3)), ((0, 4), (1, 2), (2, 0), (3, 3), (4, 1))}\n"
                    ]
                },
                {
                    "data": {
                        "text/plain": [
                            "[['.Q...', '...Q.', 'Q....', '..Q..', '....Q'],\n",
                            " ['Q....', '..Q..', '....Q', '.Q...', '...Q.'],\n",
                            " ['Q....', '...Q.', '.Q...', '....Q', '..Q..'],\n",
                            " ['..Q..', '....Q', '.Q...', '...Q.', 'Q....'],\n",
                            " ['...Q.', '.Q...', '....Q', '..Q..', 'Q....'],\n",
                            " ['...Q.', 'Q....', '..Q..', '....Q', '.Q...'],\n",
                            " ['....Q', '.Q...', '...Q.', 'Q....', '..Q..'],\n",
                            " ['..Q..', 'Q....', '...Q.', '.Q...', '....Q'],\n",
                            " ['.Q...', '....Q', '..Q..', 'Q....', '...Q.'],\n",
                            " ['....Q', '..Q..', 'Q....', '...Q.', '.Q...']]"
                        ]
                    },
                    "execution_count": 29,
                    "metadata": {},
                    "output_type": "execute_result"
                }
            ],
            "source": [
                "Solution().solveNQueens(5)"
            ]
        },
        {
            "cell_type": "code",
            "execution_count": null,
            "metadata": {},
            "outputs": [],
            "source": [
                "[[\"Q....\",\"..Q..\",\"....Q\",\".Q...\",\"...Q.\"],[\"Q....\",\"...Q.\",\".Q...\",\"....Q\",\"..Q..\"],[\".Q...\",\"...Q.\",\"Q....\",\"..Q..\",\"....Q\"],[\".Q...\",\"....Q\",\"..Q..\",\"Q....\",\"...Q.\"],[\"..Q..\",\"Q....\",\"...Q.\",\".Q...\",\"....Q\"],[\"..Q..\",\"....Q\",\".Q...\",\"...Q.\",\"Q....\"],[\"...Q.\",\"Q....\",\"..Q..\",\"....Q\",\".Q...\"],[\"...Q.\",\".Q...\",\"....Q\",\"..Q..\",\"Q....\"],[\"....Q\",\".Q...\",\"...Q.\",\"Q....\",\"..Q..\"],[\"....Q\",\"..Q..\",\"Q....\",\"...Q.\",\".Q...\"]]"
            ]
        },
        {
            "cell_type": "code",
            "execution_count": 36,
            "metadata": {},
            "outputs": [
                {
                    "name": "stdout",
                    "output_type": "stream",
                    "text": [
                        "[[1, 3, 5, 0, 2, 4], [2, 5, 1, 4, 0, 3], [3, 0, 4, 1, 5, 2], [4, 2, 0, 5, 3, 1]]\n"
                    ]
                },
                {
                    "data": {
                        "text/plain": [
                            "[['.Q....', '...Q..', '.....Q', 'Q.....', '..Q...', '....Q.'],\n",
                            " ['..Q...', '.....Q', '.Q....', '....Q.', 'Q.....', '...Q..'],\n",
                            " ['...Q..', 'Q.....', '....Q.', '.Q....', '.....Q', '..Q...'],\n",
                            " ['....Q.', '..Q...', 'Q.....', '.....Q', '...Q..', '.Q....']]"
                        ]
                    },
                    "execution_count": 36,
                    "metadata": {},
                    "output_type": "execute_result"
                }
            ],
            "source": [
                "Solution().solveNQueens(6)"
            ]
        },
        {
            "cell_type": "markdown",
            "metadata": {},
            "source": [
                "https://leetcode.cn/leetbook/read/dfs/e3ll7v/\n",
                "\n",
                "看下这个动画片, 非常具体, 用的是回溯法.\n",
                "\n",
                "总结下来就是以下几个步骤:\n",
                "1. 从 (0,0) 开始, 如果当前位置和其他的皇后都不冲突\n",
                "2. 下一个节点就从下一行开始, 也就是 (1,0). 当有冲突时, 就移动到当前行的下一个节点, 比如 (1,1)\n",
                "3. 当这行都移动完了, 还是没有满足条件, 就要回溯了. 就是上一行的节点要移动到下一个节点, 比如 (0,1)\n",
                "4. 如果皇后都放完了, 且都没有冲突, 就保存结果. 然后让节点继续移动\n",
                "5. 直到第一行的 (0,0) 节点移动到该行的最后一个位置"
            ]
        },
        {
            "cell_type": "code",
            "execution_count": 3,
            "metadata": {},
            "outputs": [],
            "source": [
                "# 为什么他们这么强?\n",
                "# 我的眼睛告诉我学会了, 但是手 没有, 脑子也没有\n",
                "\"\"\"\n",
                "题目是将 n 个皇后, 放到 n*n 的棋盘中, 使得每个皇后都不在同一行, 同一列, 同一对角线上\n",
                "\"\"\"\n",
                "class Solution:\n",
                "    def solveNQueens(self, n: int) -> List[List[str]]:\n",
                "        \"\"\"\n",
                "        n 是皇后的数量\n",
                "        \"\"\"\n",
                "        def DFS(queens: list, xy_dif: list, xy_sum: list):\n",
                "            \"\"\"\n",
                "            一开始的输入都是空的数组\n",
                "            queens 是每一层的某个索引, 即列索引位置. 也是该层中的皇后的位置\n",
                "            xy_dif 是\n",
                "            xy_sum 是\n",
                "            \"\"\"\n",
                "            print(queens, xy_dif, xy_sum)\n",
                "            # queens 是每一层的某个索引, 即列索引位置\n",
                "\n",
                "            # p 是当前行\n",
                "            p = len(queens)\n",
                "            # 长度够了, 直接返回\n",
                "            if p==n:\n",
                "                result.append(queens)\n",
                "                return \n",
                "            # q 是当前列\n",
                "            for q in range(n):\n",
                "                print(q)\n",
                "                # q not in queens 是指不在同一个列上\n",
                "                # p-q 是指 从左上到右下的对角线. 行减去列\n",
                "                # p+q 是指 从左下到右上的对角线. 行加上列\n",
                "                if q not in queens and p-q not in xy_dif and p+q not in xy_sum:\n",
                "                    # 如果发现一个 q 满足了, 就进入到下一行中, 失败了就是跳到下一个 q 中\n",
                "                    # 这就是递归 + 回溯的力量吗?\n",
                "                    DFS(queens+[q], xy_dif+[p-q], xy_sum+[p+q])  \n",
                "        result = []\n",
                "        DFS([],[],[])\n",
                "        print(result)\n",
                "        return [ [\".\"*i + \"Q\" + \".\"*(n-i-1) for i in sol] for sol in result]"
            ]
        },
        {
            "cell_type": "code",
            "execution_count": 41,
            "metadata": {},
            "outputs": [
                {
                    "name": "stdout",
                    "output_type": "stream",
                    "text": [
                        "[] [] []\n",
                        "0\n",
                        "[0] [0] [0]\n",
                        "0\n",
                        "1\n",
                        "2\n",
                        "[0, 2] [0, -1] [0, 3]\n",
                        "0\n",
                        "1\n",
                        "2\n",
                        "3\n",
                        "3\n",
                        "[0, 3] [0, -2] [0, 4]\n",
                        "0\n",
                        "1\n",
                        "[0, 3, 1] [0, -2, 1] [0, 4, 3]\n",
                        "0\n",
                        "1\n",
                        "2\n",
                        "3\n",
                        "2\n",
                        "3\n",
                        "1\n",
                        "[1] [-1] [1]\n",
                        "0\n",
                        "1\n",
                        "2\n",
                        "3\n",
                        "[1, 3] [-1, -2] [1, 4]\n",
                        "0\n",
                        "[1, 3, 0] [-1, -2, 2] [1, 4, 2]\n",
                        "0\n",
                        "1\n",
                        "2\n",
                        "[1, 3, 0, 2] [-1, -2, 2, 1] [1, 4, 2, 5]\n",
                        "3\n",
                        "1\n",
                        "2\n",
                        "3\n",
                        "2\n",
                        "[2] [-2] [2]\n",
                        "0\n",
                        "[2, 0] [-2, 1] [2, 1]\n",
                        "0\n",
                        "1\n",
                        "2\n",
                        "3\n",
                        "[2, 0, 3] [-2, 1, -1] [2, 1, 5]\n",
                        "0\n",
                        "1\n",
                        "[2, 0, 3, 1] [-2, 1, -1, 2] [2, 1, 5, 4]\n",
                        "2\n",
                        "3\n",
                        "1\n",
                        "2\n",
                        "3\n",
                        "3\n",
                        "[3] [-3] [3]\n",
                        "0\n",
                        "[3, 0] [-3, 1] [3, 1]\n",
                        "0\n",
                        "1\n",
                        "2\n",
                        "[3, 0, 2] [-3, 1, 0] [3, 1, 4]\n",
                        "0\n",
                        "1\n",
                        "2\n",
                        "3\n",
                        "3\n",
                        "1\n",
                        "[3, 1] [-3, 0] [3, 2]\n",
                        "0\n",
                        "1\n",
                        "2\n",
                        "3\n",
                        "2\n",
                        "3\n",
                        "[[1, 3, 0, 2], [2, 0, 3, 1]]\n"
                    ]
                },
                {
                    "data": {
                        "text/plain": [
                            "[['.Q..', '...Q', 'Q...', '..Q.'], ['..Q.', 'Q...', '...Q', '.Q..']]"
                        ]
                    },
                    "execution_count": 41,
                    "metadata": {},
                    "output_type": "execute_result"
                }
            ],
            "source": [
                "Solution().solveNQueens(4)"
            ]
        }
    ],
    "metadata": {
        "kernelspec": {
            "display_name": "base",
            "language": "python",
            "name": "python3"
        },
        "language_info": {
            "codemirror_mode": {
                "name": "ipython",
                "version": 3
            },
            "file_extension": ".py",
            "mimetype": "text/x-python",
            "name": "python",
            "nbconvert_exporter": "python",
            "pygments_lexer": "ipython3",
            "version": "3.8.5"
        },
        "orig_nbformat": 4
    },
    "nbformat": 4,
    "nbformat_minor": 2
}
