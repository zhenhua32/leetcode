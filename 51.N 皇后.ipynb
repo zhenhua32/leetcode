{
    "cells": [
        {
            "cell_type": "code",
            "execution_count": null,
            "source": [
                "from typing import List"
            ],
            "outputs": [],
            "metadata": {}
        },
        {
            "cell_type": "code",
            "execution_count": 27,
            "source": [
                "class Solution:\r\n",
                "\r\n",
                "    def get_possible_set(self, n):\r\n",
                "        \"\"\"给定 n, 先列出所有位置\"\"\"\r\n",
                "        possible_set = list()\r\n",
                "        for i in range(n):\r\n",
                "            for j in range(n):\r\n",
                "                possible_set.append((i, j))\r\n",
                "        return possible_set\r\n",
                "\r\n",
                "    def decrease_possible_set(self, possible_set, point, n):\r\n",
                "        \"\"\"给定一个 point, 减少可能的位置\"\"\"\r\n",
                "        i, j = point\r\n",
                "        # 先移出行 和 列\r\n",
                "        possible_set = [x for x in possible_set if x[0] != i and x[1] != j]\r\n",
                "        # 移出四个方向上的斜线\r\n",
                "        i, j = point\r\n",
                "        while i >= 0 and j >= 0:\r\n",
                "            key = (i , j)\r\n",
                "            if key in possible_set:\r\n",
                "                possible_set.remove(key)\r\n",
                "            i -= 1\r\n",
                "            j -= 1\r\n",
                "        i, j = point\r\n",
                "        while i < n and j < n:\r\n",
                "            key = (i, j)\r\n",
                "            if key in possible_set:\r\n",
                "                possible_set.remove(key)\r\n",
                "            i += 1\r\n",
                "            j += 1\r\n",
                "        i, j = point\r\n",
                "        while i >= 0 and j < n:\r\n",
                "            key = (i, j)\r\n",
                "            if key in possible_set:\r\n",
                "                possible_set.remove(key)\r\n",
                "            i -= 1\r\n",
                "            j += 1\r\n",
                "        i, j = point\r\n",
                "        while i < n and j >= 0:\r\n",
                "            key = (i,j)\r\n",
                "            if key in possible_set:\r\n",
                "                possible_set.remove(key)\r\n",
                "            i += 1\r\n",
                "            j -= 1\r\n",
                "        return possible_set\r\n",
                "\r\n",
                "    def try_one(self, qidx: list, possible_set: list, n: int, old_n=None):\r\n",
                "        # print(qidx, possible_set, n, old_n)\r\n",
                "        if old_n is None:\r\n",
                "            old_n = n\r\n",
                "\r\n",
                "        result = []\r\n",
                "\r\n",
                "        if n == len(qidx):\r\n",
                "            return [qidx]\r\n",
                "\r\n",
                "        # 不能随便取一个, 每种结果都要试一下\r\n",
                "        for key in possible_set.copy():\r\n",
                "            pset = self.decrease_possible_set(possible_set, key, old_n)\r\n",
                "            sub_result = self.try_one([key], pset, n-1, old_n)\r\n",
                "            if sub_result:\r\n",
                "                result.extend([qidx + x for x in sub_result])\r\n",
                "\r\n",
                "        return result\r\n",
                "\r\n",
                "    def solveNQueens(self, n: int) -> List[List[str]]:\r\n",
                "        if n == 1:\r\n",
                "            return [[\"Q\"]]\r\n",
                "        if n == 2 or n == 3:\r\n",
                "            return []\r\n",
                "        result = []\r\n",
                "\r\n",
                "        for i in range(n):\r\n",
                "            for j in range(n):\r\n",
                "                qidx = [(i, j)]\r\n",
                "                key = (i, j)\r\n",
                "                possible_set = self.get_possible_set(n)\r\n",
                "                possible_set.remove(key)\r\n",
                "                possible_set = self.decrease_possible_set(possible_set, key, n)\r\n",
                "\r\n",
                "                # 太阴了, 要试的次数太多了\r\n",
                "                # 对于每个可能项, 一个个试过去\r\n",
                "                qidx = self.try_one(qidx, possible_set, n, n)\r\n",
                "                if qidx:\r\n",
                "                    result.extend(qidx)\r\n",
                "        \r\n",
                "        result = set([tuple(sorted(x)) for x in result])\r\n",
                "        \r\n",
                "        print(result)\r\n",
                "        # 用上面的索引位置, 构建返回\r\n",
                "        r = []\r\n",
                "        for i in result:\r\n",
                "            one = [\".\"*n] * n\r\n",
                "            for idx in i:\r\n",
                "                x, y = idx\r\n",
                "                one[x] = \".\" * y + \"Q\" + \".\" * (n - y - 1)\r\n",
                "            r.append(one)\r\n",
                "        return r\r\n"
            ],
            "outputs": [],
            "metadata": {}
        },
        {
            "cell_type": "code",
            "execution_count": 28,
            "source": [
                "Solution().solveNQueens(4)"
            ],
            "outputs": [
                {
                    "output_type": "stream",
                    "name": "stdout",
                    "text": [
                        "{((0, 2), (1, 0), (2, 3), (3, 1)), ((0, 1), (1, 3), (2, 0), (3, 2))}\n"
                    ]
                },
                {
                    "output_type": "execute_result",
                    "data": {
                        "text/plain": [
                            "[['..Q.', 'Q...', '...Q', '.Q..'], ['.Q..', '...Q', 'Q...', '..Q.']]"
                        ]
                    },
                    "metadata": {},
                    "execution_count": 28
                }
            ],
            "metadata": {}
        },
        {
            "cell_type": "code",
            "execution_count": 29,
            "source": [
                "Solution().solveNQueens(5)"
            ],
            "outputs": [
                {
                    "output_type": "stream",
                    "name": "stdout",
                    "text": [
                        "{((0, 1), (1, 3), (2, 0), (3, 2), (4, 4)), ((0, 0), (1, 2), (2, 4), (3, 1), (4, 3)), ((0, 0), (1, 3), (2, 1), (3, 4), (4, 2)), ((0, 2), (1, 4), (2, 1), (3, 3), (4, 0)), ((0, 3), (1, 1), (2, 4), (3, 2), (4, 0)), ((0, 3), (1, 0), (2, 2), (3, 4), (4, 1)), ((0, 4), (1, 1), (2, 3), (3, 0), (4, 2)), ((0, 2), (1, 0), (2, 3), (3, 1), (4, 4)), ((0, 1), (1, 4), (2, 2), (3, 0), (4, 3)), ((0, 4), (1, 2), (2, 0), (3, 3), (4, 1))}\n"
                    ]
                },
                {
                    "output_type": "execute_result",
                    "data": {
                        "text/plain": [
                            "[['.Q...', '...Q.', 'Q....', '..Q..', '....Q'],\n",
                            " ['Q....', '..Q..', '....Q', '.Q...', '...Q.'],\n",
                            " ['Q....', '...Q.', '.Q...', '....Q', '..Q..'],\n",
                            " ['..Q..', '....Q', '.Q...', '...Q.', 'Q....'],\n",
                            " ['...Q.', '.Q...', '....Q', '..Q..', 'Q....'],\n",
                            " ['...Q.', 'Q....', '..Q..', '....Q', '.Q...'],\n",
                            " ['....Q', '.Q...', '...Q.', 'Q....', '..Q..'],\n",
                            " ['..Q..', 'Q....', '...Q.', '.Q...', '....Q'],\n",
                            " ['.Q...', '....Q', '..Q..', 'Q....', '...Q.'],\n",
                            " ['....Q', '..Q..', 'Q....', '...Q.', '.Q...']]"
                        ]
                    },
                    "metadata": {},
                    "execution_count": 29
                }
            ],
            "metadata": {}
        },
        {
            "cell_type": "code",
            "execution_count": null,
            "source": [
                "[[\"Q....\",\"..Q..\",\"....Q\",\".Q...\",\"...Q.\"],[\"Q....\",\"...Q.\",\".Q...\",\"....Q\",\"..Q..\"],[\".Q...\",\"...Q.\",\"Q....\",\"..Q..\",\"....Q\"],[\".Q...\",\"....Q\",\"..Q..\",\"Q....\",\"...Q.\"],[\"..Q..\",\"Q....\",\"...Q.\",\".Q...\",\"....Q\"],[\"..Q..\",\"....Q\",\".Q...\",\"...Q.\",\"Q....\"],[\"...Q.\",\"Q....\",\"..Q..\",\"....Q\",\".Q...\"],[\"...Q.\",\".Q...\",\"....Q\",\"..Q..\",\"Q....\"],[\"....Q\",\".Q...\",\"...Q.\",\"Q....\",\"..Q..\"],[\"....Q\",\"..Q..\",\"Q....\",\"...Q.\",\".Q...\"]]"
            ],
            "outputs": [],
            "metadata": {}
        },
        {
            "cell_type": "code",
            "execution_count": 36,
            "source": [
                "Solution().solveNQueens(6)"
            ],
            "outputs": [
                {
                    "output_type": "stream",
                    "name": "stdout",
                    "text": [
                        "[[1, 3, 5, 0, 2, 4], [2, 5, 1, 4, 0, 3], [3, 0, 4, 1, 5, 2], [4, 2, 0, 5, 3, 1]]\n"
                    ]
                },
                {
                    "output_type": "execute_result",
                    "data": {
                        "text/plain": [
                            "[['.Q....', '...Q..', '.....Q', 'Q.....', '..Q...', '....Q.'],\n",
                            " ['..Q...', '.....Q', '.Q....', '....Q.', 'Q.....', '...Q..'],\n",
                            " ['...Q..', 'Q.....', '....Q.', '.Q....', '.....Q', '..Q...'],\n",
                            " ['....Q.', '..Q...', 'Q.....', '.....Q', '...Q..', '.Q....']]"
                        ]
                    },
                    "metadata": {},
                    "execution_count": 36
                }
            ],
            "metadata": {}
        },
        {
            "cell_type": "code",
            "execution_count": 40,
            "source": [
                "# 为什么他们这么强?\r\n",
                "# 我的眼睛告诉我学会了, 但是手 没有, 脑子也没有\r\n",
                "class Solution:\r\n",
                "    def solveNQueens(self, n: int) -> List[List[str]]:\r\n",
                "        def DFS(queens, xy_dif, xy_sum):\r\n",
                "            print(queens, xy_dif, xy_sum)\r\n",
                "            # queens 是每一层的某个索引, 即列索引位置\r\n",
                "\r\n",
                "            # p 是当前行\r\n",
                "            p = len(queens)\r\n",
                "            # 长度够了, 直接返回\r\n",
                "            if p==n:\r\n",
                "                result.append(queens)\r\n",
                "                return \r\n",
                "            # q 是当前列\r\n",
                "            for q in range(n):\r\n",
                "                print(q)\r\n",
                "                # q not in queens 是指不在同一个列上\r\n",
                "                # p-q 是指 从左上到右下的对角线\r\n",
                "                # p+q 是指 从左下到右上的对角线\r\n",
                "                if q not in queens and p-q not in xy_dif and p+q not in xy_sum:\r\n",
                "                    # 如果发现一个 q 满足了, 就进入到下一行中, 失败了就是跳到下一个 q 中\r\n",
                "                    # 这就是递归 + 回溯的力量吗?\r\n",
                "                    DFS(queens+[q], xy_dif+[p-q], xy_sum+[p+q])  \r\n",
                "        result = []\r\n",
                "        DFS([],[],[])\r\n",
                "        print(result)\r\n",
                "        return [ [\".\"*i + \"Q\" + \".\"*(n-i-1) for i in sol] for sol in result]"
            ],
            "outputs": [],
            "metadata": {}
        },
        {
            "cell_type": "code",
            "execution_count": 41,
            "source": [
                "Solution().solveNQueens(4)"
            ],
            "outputs": [
                {
                    "output_type": "stream",
                    "name": "stdout",
                    "text": [
                        "[] [] []\n",
                        "0\n",
                        "[0] [0] [0]\n",
                        "0\n",
                        "1\n",
                        "2\n",
                        "[0, 2] [0, -1] [0, 3]\n",
                        "0\n",
                        "1\n",
                        "2\n",
                        "3\n",
                        "3\n",
                        "[0, 3] [0, -2] [0, 4]\n",
                        "0\n",
                        "1\n",
                        "[0, 3, 1] [0, -2, 1] [0, 4, 3]\n",
                        "0\n",
                        "1\n",
                        "2\n",
                        "3\n",
                        "2\n",
                        "3\n",
                        "1\n",
                        "[1] [-1] [1]\n",
                        "0\n",
                        "1\n",
                        "2\n",
                        "3\n",
                        "[1, 3] [-1, -2] [1, 4]\n",
                        "0\n",
                        "[1, 3, 0] [-1, -2, 2] [1, 4, 2]\n",
                        "0\n",
                        "1\n",
                        "2\n",
                        "[1, 3, 0, 2] [-1, -2, 2, 1] [1, 4, 2, 5]\n",
                        "3\n",
                        "1\n",
                        "2\n",
                        "3\n",
                        "2\n",
                        "[2] [-2] [2]\n",
                        "0\n",
                        "[2, 0] [-2, 1] [2, 1]\n",
                        "0\n",
                        "1\n",
                        "2\n",
                        "3\n",
                        "[2, 0, 3] [-2, 1, -1] [2, 1, 5]\n",
                        "0\n",
                        "1\n",
                        "[2, 0, 3, 1] [-2, 1, -1, 2] [2, 1, 5, 4]\n",
                        "2\n",
                        "3\n",
                        "1\n",
                        "2\n",
                        "3\n",
                        "3\n",
                        "[3] [-3] [3]\n",
                        "0\n",
                        "[3, 0] [-3, 1] [3, 1]\n",
                        "0\n",
                        "1\n",
                        "2\n",
                        "[3, 0, 2] [-3, 1, 0] [3, 1, 4]\n",
                        "0\n",
                        "1\n",
                        "2\n",
                        "3\n",
                        "3\n",
                        "1\n",
                        "[3, 1] [-3, 0] [3, 2]\n",
                        "0\n",
                        "1\n",
                        "2\n",
                        "3\n",
                        "2\n",
                        "3\n",
                        "[[1, 3, 0, 2], [2, 0, 3, 1]]\n"
                    ]
                },
                {
                    "output_type": "execute_result",
                    "data": {
                        "text/plain": [
                            "[['.Q..', '...Q', 'Q...', '..Q.'], ['..Q.', 'Q...', '...Q', '.Q..']]"
                        ]
                    },
                    "metadata": {},
                    "execution_count": 41
                }
            ],
            "metadata": {}
        }
    ],
    "metadata": {
        "orig_nbformat": 4,
        "language_info": {
            "name": "python"
        }
    },
    "nbformat": 4,
    "nbformat_minor": 2
}