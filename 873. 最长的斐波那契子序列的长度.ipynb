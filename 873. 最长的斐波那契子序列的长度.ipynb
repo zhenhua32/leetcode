{
 "cells": [
  {
   "cell_type": "code",
   "execution_count": null,
   "metadata": {},
   "outputs": [],
   "source": [
    "\"\"\"\n",
    "因此只有当确定斐波那契子序列的最后两个数字时，才能确定整个斐波那契子序列。\n",
    "\n",
    "定义二维数组 dp\\textit{dp}dp 表示以每个下标对的元素作为最后两个数字的斐波那契子序列的最大长度。当 i>ji > ji>j 时，dp[j][i]\\textit{dp}[j][i]dp[j][i] 表示以 arr[j]\\textit{arr}[j]arr[j] 和 arr[i]\\textit{arr}[i]arr[i] 作为最后两个数字的斐波那契子序列的最大长度。初始时 dp\\textit{dp}dp 中的所有值都是 000。\n",
    "\n",
    "\"\"\"\n",
    "\n",
    "from typing import List\n",
    "\n",
    "class Solution:\n",
    "    def lenLongestFibSubseq(self, arr: List[int]) -> int:\n",
    "        \"\"\"\n",
    "        nums 是严格递增的\n",
    "        \"\"\"\n",
    "        \n",
    "        # 定义值的索引\n",
    "        indices = {x: i for i, x in enumerate(arr)}\n",
    "        # 当前最大长度, n 为数组长度\n",
    "        ans, n = 0, len(arr)\n",
    "        # 二维数组\n",
    "        dp = [[0] * n for _ in range(n)]\n",
    "        # 从小到大, i 为最大值的索引\n",
    "        for i, x in enumerate(arr):\n",
    "            # 从大到小, j 为最小值的索引\n",
    "            for j in range(n - 1, -1, -1):\n",
    "                # 保证最小值小于最大值的一半, 因为是严格递增的, 后面的就不用遍历了\n",
    "                # arr[j] 是必须小于 arr[i] 的, 至于为啥取一半是因为 arr[k] 必须小于 arr[j], j 是第二个位置\n",
    "                if arr[j] * 2 <= x:\n",
    "                    break\n",
    "                if x - arr[j] in indices:\n",
    "                    # 值存在, 找到索引 k\n",
    "                    k = indices[x - arr[j]]\n",
    "                    # 3 是最小的斐波那契数列长度\n",
    "                    # (k, j) 是 (j, i) 的前一个数列, i 也能构成, 就要 +1\n",
    "                    dp[j][i] = max(dp[k][j] + 1, 3)\n",
    "                    # 更新最大值\n",
    "                    ans = max(ans, dp[j][i])\n",
    "        return ans\n"
   ]
  }
 ],
 "metadata": {
  "language_info": {
   "name": "python"
  },
  "orig_nbformat": 4
 },
 "nbformat": 4,
 "nbformat_minor": 2
}
