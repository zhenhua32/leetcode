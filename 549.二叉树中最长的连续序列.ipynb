{
 "cells": [
  {
   "cell_type": "markdown",
   "metadata": {},
   "source": [
    "给定二叉树的根 root ，返回树中最长连续路径的长度。\n",
    "连续路径是路径中相邻节点的值相差 1 的路径。此路径可以是增加或减少。\n",
    "\n",
    "例如， [1,2,3,4] 和 [4,3,2,1] 都被认为有效，但路径 [1,2,4,3] 无效。\n",
    "另一方面，路径可以是子-父-子顺序，不一定是父子顺序。\n",
    "\n",
    "---\n",
    "\n",
    "上面应该是 leetcode 的原题, 是会员题目, 我没开会员.\n",
    "另一个点是, 我今晚做题的时候, 没有注意到有解释连续路径, 就是差值为1的, 不知道题目是否完全一致. 或者题目都没理解对.\n",
    "\n",
    "我刚才搜的时候又看到背包问题了, 然后还是不知道怎么解决. 简直成噩梦了. 她当时分享过链接, 当时没看懂, 现在也不会.\n",
    "\n",
    "https://www.cnblogs.com/anzhengyu/p/11408466.html"
   ]
  },
  {
   "cell_type": "code",
   "execution_count": 67,
   "metadata": {},
   "outputs": [],
   "source": [
    "# Definition for a binary tree node.\n",
    "class TreeNode:\n",
    "    def __init__(self, val=0, left=None, right=None):\n",
    "        self.val = val\n",
    "        self.left = left\n",
    "        self.right = right\n",
    "\n",
    "\n",
    "class Solution:\n",
    "    def longestConsecutive(self, root: TreeNode) -> int:\n",
    "        def dfs(root):\n",
    "            if root is None:\n",
    "                return [0, 0]\n",
    "            nonlocal ans\n",
    "            # 现在都是 1, incr 是左子树的, decr 是右子树的, 这个就是当前节点的\n",
    "            incr = decr = 1\n",
    "            # 遍历左右子树\n",
    "            i1, d1 = dfs(root.left)\n",
    "            i2, d2 = dfs(root.right)\n",
    "\n",
    "            # 左子树是可以直接加1的, 涵盖了递增和递减\n",
    "            if root.left:\n",
    "                # 递增的, 符合条件, 递增加1\n",
    "                if root.left.val + 1 == root.val:\n",
    "                    incr = i1 + 1\n",
    "                # 递减的, 符合条件, 递减加1\n",
    "                if root.left.val - 1 == root.val:\n",
    "                    decr = d1 + 1\n",
    "            \n",
    "            # 右子树\n",
    "            if root.right:\n",
    "                # 右边比 root 的值小, 应该是递减的. 总感觉这里不好理解..\n",
    "                if root.right.val + 1 == root.val:\n",
    "                    incr = max(incr, i2 + 1)\n",
    "                if root.right.val - 1 == root.val:\n",
    "                    decr = max(decr, d2 + 1)\n",
    "            \n",
    "            # incr + decr - 1 是这个节点的最长路径\n",
    "            ans = max(ans, incr + decr - 1)\n",
    "            print(root.val, incr, decr)\n",
    "            return [incr, decr]\n",
    "\n",
    "        ans = 0\n",
    "        dfs(root)\n",
    "        return ans"
   ]
  },
  {
   "cell_type": "code",
   "execution_count": 68,
   "metadata": {},
   "outputs": [
    {
     "name": "stdout",
     "output_type": "stream",
     "text": [
      "1 1 1\n",
      "3 1 1\n",
      "2 2 2\n"
     ]
    },
    {
     "data": {
      "text/plain": [
       "3"
      ]
     },
     "execution_count": 68,
     "metadata": {},
     "output_type": "execute_result"
    }
   ],
   "source": [
    "root = TreeNode(2)\n",
    "root.left = TreeNode(1)\n",
    "root.right = TreeNode(3)\n",
    "Solution().longestConsecutive(root)"
   ]
  },
  {
   "cell_type": "code",
   "execution_count": 69,
   "metadata": {},
   "outputs": [],
   "source": [
    "# github copilot 的答案, 这个代码有问题, 我改了些, 但不知道对不对, 没钱充会员\n",
    "class Solution:\n",
    "    def longestConsecutive(self, root):\n",
    "        self.max_length = 0\n",
    "        self.dfs(root, 1)\n",
    "        return self.max_length\n",
    "    \n",
    "    def dfs(self, node, length):\n",
    "        if not node:\n",
    "            return length\n",
    "\n",
    "        left_length = self.dfs(node.left, length)\n",
    "        right_length = self.dfs(node.right, length)\n",
    "\n",
    "        if node.left and node.left.val == node.val - 1:\n",
    "            left_length = length + 1\n",
    "        if node.right and node.right.val == node.val - 1:\n",
    "            right_length = length + 1\n",
    "        \n",
    "        if node.right and node.right.val == node.val + 1:\n",
    "            right_length = length + 1\n",
    "        if node.left and node.left.val == node.val + 1:\n",
    "            left_length = length + 1\n",
    "\n",
    "        self.max_length = max(self.max_length, left_length + right_length - 1)\n",
    "        \n",
    "        print(node.val, left_length, right_length)\n",
    "        return left_length + right_length - 1"
   ]
  },
  {
   "cell_type": "code",
   "execution_count": 70,
   "metadata": {},
   "outputs": [
    {
     "name": "stdout",
     "output_type": "stream",
     "text": [
      "1 1 1\n",
      "3 1 1\n",
      "2 2 2\n"
     ]
    },
    {
     "data": {
      "text/plain": [
       "3"
      ]
     },
     "execution_count": 70,
     "metadata": {},
     "output_type": "execute_result"
    }
   ],
   "source": [
    "root = TreeNode(2)\n",
    "root.left = TreeNode(1)\n",
    "root.right = TreeNode(3)\n",
    "Solution().longestConsecutive(root)"
   ]
  }
 ],
 "metadata": {
  "kernelspec": {
   "display_name": "base",
   "language": "python",
   "name": "python3"
  },
  "language_info": {
   "codemirror_mode": {
    "name": "ipython",
    "version": 3
   },
   "file_extension": ".py",
   "mimetype": "text/x-python",
   "name": "python",
   "nbconvert_exporter": "python",
   "pygments_lexer": "ipython3",
   "version": "3.8.5"
  },
  "orig_nbformat": 4
 },
 "nbformat": 4,
 "nbformat_minor": 2
}
