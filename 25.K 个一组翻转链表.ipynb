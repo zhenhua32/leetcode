{
    "cells": [
        {
            "cell_type": "code",
            "execution_count": 1,
            "source": [
                "from typing import List\r\n",
                "# Definition for singly-linked list.\r\n",
                "class ListNode:\r\n",
                "    def __init__(self, val=0, next=None):\r\n",
                "        self.val = val\r\n",
                "        self.next = next\r\n",
                "\r\n",
                "\r\n",
                "def print_node_list(head):\r\n",
                "    val_list = []\r\n",
                "    while head:\r\n",
                "        val_list.append(head.val)\r\n",
                "        head = head.next\r\n",
                "    print(val_list)\r\n",
                "\r\n",
                "\r\n",
                "def val_list_to_head(val_list):\r\n",
                "    if not val_list:\r\n",
                "        return None\r\n",
                "    \r\n",
                "    head = ListNode(val_list.pop(0))\r\n",
                "    first = head\r\n",
                "    while val_list:\r\n",
                "        next_head = ListNode(val_list.pop(0))\r\n",
                "        head.next = next_head\r\n",
                "        head = next_head\r\n",
                "    \r\n",
                "    return first"
            ],
            "outputs": [],
            "metadata": {}
        },
        {
            "cell_type": "code",
            "execution_count": 15,
            "source": [
                "class Solution:\r\n",
                "    def reverseKGroup(self, head: ListNode, k: int) -> ListNode:\r\n",
                "        if k == 1:\r\n",
                "            return head\r\n",
                "        \r\n",
                "        if head is None:\r\n",
                "            return None\r\n",
                "        \r\n",
                "        node_list = []\r\n",
                "        while head:\r\n",
                "            node_list.append(head)\r\n",
                "            head = head.next\r\n",
                "        \r\n",
                "        len_node = len(node_list)\r\n",
                "        i = 0\r\n",
                "        last_node = None\r\n",
                "        while i < len_node:\r\n",
                "            k_node_list = node_list[i:i+k]\r\n",
                "            # 剩余数量不足\r\n",
                "            if len(k_node_list) < k:\r\n",
                "                if last_node and k_node_list:\r\n",
                "                    last_node.next = k_node_list[0]\r\n",
                "                break\r\n",
                "\r\n",
                "            if i != 0:\r\n",
                "                # 上一个节点, 要连接最后一个节点\r\n",
                "                last_node.next = k_node_list[-1]\r\n",
                "\r\n",
                "            # 翻转这 k 个节点\r\n",
                "            for x in range(1, k):\r\n",
                "                k_node_list[x].next = k_node_list[x-1]\r\n",
                "            k_node_list[0].next = None\r\n",
                "\r\n",
                "            if i == 0:\r\n",
                "                first = k_node_list[-1]\r\n",
                "            # 更新 last_node 为第一个节点\r\n",
                "            last_node = k_node_list[0]\r\n",
                "            i += k\r\n",
                "        \r\n",
                "        return first\r\n"
            ],
            "outputs": [],
            "metadata": {}
        },
        {
            "cell_type": "code",
            "execution_count": 16,
            "source": [
                "head = Solution().reverseKGroup(val_list_to_head([1,2,3,4,5]), k=3)\r\n",
                "print_node_list(head)"
            ],
            "outputs": [
                {
                    "output_type": "stream",
                    "name": "stdout",
                    "text": [
                        "[3, 2, 1, 4, 5]\n"
                    ]
                }
            ],
            "metadata": {}
        },
        {
            "cell_type": "code",
            "execution_count": 17,
            "source": [
                "head = Solution().reverseKGroup(val_list_to_head([1,2,3,4,5]), k=1)\r\n",
                "print_node_list(head)"
            ],
            "outputs": [
                {
                    "output_type": "stream",
                    "name": "stdout",
                    "text": [
                        "[1, 2, 3, 4, 5]\n"
                    ]
                }
            ],
            "metadata": {}
        },
        {
            "cell_type": "code",
            "execution_count": 18,
            "source": [
                "head = Solution().reverseKGroup(val_list_to_head([1]), k=1)\r\n",
                "print_node_list(head)"
            ],
            "outputs": [
                {
                    "output_type": "stream",
                    "name": "stdout",
                    "text": [
                        "[1]\n"
                    ]
                }
            ],
            "metadata": {}
        }
    ],
    "metadata": {
        "orig_nbformat": 4,
        "language_info": {
            "name": "python"
        }
    },
    "nbformat": 4,
    "nbformat_minor": 2
}