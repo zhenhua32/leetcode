{
 "cells": [
  {
   "cell_type": "code",
   "execution_count": null,
   "metadata": {},
   "outputs": [],
   "source": [
    "from typing import List\n",
    "\n",
    "class Solution:\n",
    "    def merge(self, intervals: List[List[int]]) -> List[List[int]]:\n",
    "        # 先升序排列\n",
    "        intervals.sort()\n",
    "        merged = []\n",
    "        for interval in intervals:\n",
    "            # 第一个先进来 或者 当前区间的左边界大于上一个区间的右边界\n",
    "            if not merged or interval[0] > merged[-1][1]:\n",
    "                merged.append(interval)\n",
    "            else:\n",
    "                # 合并区间, 只要更新右边界\n",
    "                merged[-1][1] = max(interval[1], merged[-1][1])\n",
    "        return merged"
   ]
  }
 ],
 "metadata": {
  "language_info": {
   "name": "python"
  }
 },
 "nbformat": 4,
 "nbformat_minor": 2
}
