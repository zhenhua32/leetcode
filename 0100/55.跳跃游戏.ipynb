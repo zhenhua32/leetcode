{
 "cells": [
  {
   "cell_type": "code",
   "execution_count": null,
   "metadata": {},
   "outputs": [],
   "source": [
    "from typing import List\n",
    "\n",
    "# 很强, 击败了 4.99% 的用户\n",
    "class Solution:\n",
    "    def canJump(self, nums: List[int]) -> bool:\n",
    "        # 1 <= nums.length <= 104, 不用考虑空的情况\n",
    "        if len(nums) == 1:\n",
    "            return True\n",
    "\n",
    "        length = len(nums)\n",
    "        dp = [1] +  [0] * (length -1)\n",
    "\n",
    "        # 遍历每一个位置. 难道是两个for超时了..\n",
    "        for index, x in enumerate(nums):\n",
    "            # 将当前位置能跳到的地方置为 1\n",
    "            dp[index+1:index+1+x] = [1] * x\n",
    "            # 要不每一轮后直接判断下\n",
    "            # 第一种情况, 当 index 的时候, 已经满足条件了\n",
    "            if 0 in dp[:index+1]:\n",
    "                return False\n",
    "            # 第一种情况, 当 index 的时候, 已经满足条件了\n",
    "            if dp[-1] == 1:\n",
    "                return True\n",
    "            \n",
    "        # 如果所有位置都能到达, 就是 True\n",
    "        return 0 not in set(dp)"
   ]
  }
 ],
 "metadata": {
  "kernelspec": {
   "display_name": "base",
   "language": "python",
   "name": "python3"
  },
  "language_info": {
   "codemirror_mode": {
    "name": "ipython",
    "version": 3
   },
   "file_extension": ".py",
   "mimetype": "text/x-python",
   "name": "python",
   "nbconvert_exporter": "python",
   "pygments_lexer": "ipython3",
   "version": "3.8.5"
  }
 },
 "nbformat": 4,
 "nbformat_minor": 2
}
