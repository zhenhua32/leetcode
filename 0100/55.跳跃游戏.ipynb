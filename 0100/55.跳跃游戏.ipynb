{
 "cells": [
  {
   "cell_type": "code",
   "execution_count": 1,
   "metadata": {},
   "outputs": [],
   "source": [
    "from typing import List\n",
    "\n",
    "# 很强, 击败了 4.99% 的用户\n",
    "class Solution:\n",
    "    def canJump(self, nums: List[int]) -> bool:\n",
    "        # 1 <= nums.length <= 10^4, 不用考虑空的情况\n",
    "        if len(nums) == 1:\n",
    "            return True\n",
    "\n",
    "        length = len(nums)\n",
    "        dp = [1] +  [0] * (length -1)\n",
    "\n",
    "        # 遍历每一个位置. 难道是两个for超时了..\n",
    "        for index, x in enumerate(nums):\n",
    "            # 将当前位置能跳到的地方置为 1\n",
    "            dp[index+1:index+1+x] = [1] * x\n",
    "            # 要不每一轮后直接判断下\n",
    "            # 第一种情况, 当 index 的时候, 已经满足条件了\n",
    "            if 0 in dp[:index+1]:\n",
    "                return False\n",
    "            # 第一种情况, 当 index 的时候, 已经满足条件了\n",
    "            if dp[-1] == 1:\n",
    "                return True\n",
    "            \n",
    "        # 如果所有位置都能到达, 就是 True\n",
    "        return 0 not in set(dp)"
   ]
  },
  {
   "cell_type": "code",
   "execution_count": null,
   "metadata": {},
   "outputs": [],
   "source": [
    "class Solution:\n",
    "    def canJump(self, nums: List[int]) -> bool:\n",
    "        # 1 <= nums.length <= 10^4, 不用考虑空的情况\n",
    "        if len(nums) == 1:\n",
    "            return True\n",
    "\n",
    "        length = len(nums)\n",
    "        max_index = 0\n",
    "\n",
    "        # 第一个遍历必须是要有的\n",
    "        for index, x in enumerate(nums):\n",
    "            # 计算当前位置能到达的最大位置\n",
    "            max_index = max(max_index, index + x)\n",
    "\n",
    "            # 从以前抵达不了现在位置的后一位\n",
    "            if max_index <= index and index < length - 1:\n",
    "                return False\n",
    "\n",
    "        return max_index >= length - 1"
   ]
  }
 ],
 "metadata": {
  "kernelspec": {
   "display_name": "base",
   "language": "python",
   "name": "python3"
  },
  "language_info": {
   "codemirror_mode": {
    "name": "ipython",
    "version": 3
   },
   "file_extension": ".py",
   "mimetype": "text/x-python",
   "name": "python",
   "nbconvert_exporter": "python",
   "pygments_lexer": "ipython3",
   "version": "3.8.5"
  }
 },
 "nbformat": 4,
 "nbformat_minor": 2
}
