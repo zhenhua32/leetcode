{
 "cells": [
  {
   "cell_type": "code",
   "execution_count": 1,
   "metadata": {},
   "outputs": [],
   "source": [
    "from typing import List\n",
    "\n",
    "class Solution:\n",
    "    def minPathSum(self, grid: List[List[int]]) -> int:\n",
    "        m = len(grid)\n",
    "        n = len(grid[-1])\n",
    "\n",
    "        # 初始化 dp 矩阵, dp[i][j] 表示从 (0, 0) 到 (i, j) 的最小路径和\n",
    "        dp = [[0] * n for _ in range(m)]\n",
    "        dp[0][0] = grid[0][0]\n",
    "\n",
    "        # 初始化第一行和第一列. 这种就是先初始化特例\n",
    "        for i in range(1, m):\n",
    "            dp[i][0] = dp[i-1][0] + grid[i][0]\n",
    "        for i in range(1, n):\n",
    "            dp[0][i] = dp[0][i-1] + grid[0][i]\n",
    "        \n",
    "        # 从第二行第二列开始遍历\n",
    "        for i in range(1, m):\n",
    "            for j in range(1, n):\n",
    "                # 状态转移方程, 上一次选择的最小路径和 + 当前格子的值\n",
    "                dp[i][j] = min(dp[i-1][j], dp[i][j-1]) + grid[i][j]\n",
    "        \n",
    "        return dp[-1][-1]"
   ]
  },
  {
   "cell_type": "code",
   "execution_count": 2,
   "metadata": {},
   "outputs": [
    {
     "data": {
      "text/plain": [
       "7"
      ]
     },
     "execution_count": 2,
     "metadata": {},
     "output_type": "execute_result"
    }
   ],
   "source": [
    "grid = [[1,3,1],[1,5,1],[4,2,1]]\n",
    "Solution().minPathSum(grid)"
   ]
  }
 ],
 "metadata": {
  "kernelspec": {
   "display_name": "base",
   "language": "python",
   "name": "python3"
  },
  "language_info": {
   "codemirror_mode": {
    "name": "ipython",
    "version": 3
   },
   "file_extension": ".py",
   "mimetype": "text/x-python",
   "name": "python",
   "nbconvert_exporter": "python",
   "pygments_lexer": "ipython3",
   "version": "3.9.7"
  },
  "orig_nbformat": 4
 },
 "nbformat": 4,
 "nbformat_minor": 2
}
