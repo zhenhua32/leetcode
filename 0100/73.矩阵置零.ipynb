{
 "cells": [
  {
   "cell_type": "code",
   "execution_count": null,
   "metadata": {},
   "outputs": [],
   "source": [
    "from typing import List\n",
    "\n",
    "class Solution:\n",
    "    def setZeroes(self, matrix: List[List[int]]) -> None:\n",
    "        \"\"\"\n",
    "        Do not return anything, modify matrix in-place instead.\n",
    "        \"\"\"\n",
    "        m = len(matrix)\n",
    "        if m == 0:\n",
    "            return\n",
    "        n = len(matrix[0])\n",
    "        if n == 0:\n",
    "            return\n",
    "        \n",
    "        find_list = []\n",
    "        for i in range(m):\n",
    "            for j in range(n):\n",
    "                if matrix[i][j] == 0:\n",
    "                    find_list.append((i,j))\n",
    "        \n",
    "        # 批量置零\n",
    "        for i,j in find_list:\n",
    "            # 行置零, j 列所在的所有行置为 0\n",
    "            for k in range(m):\n",
    "                matrix[k][j] = 0\n",
    "            # 列置零, i 行所在的所有列置为 0\n",
    "            for k in range(n):\n",
    "                matrix[i][k] = 0\n"
   ]
  }
 ],
 "metadata": {
  "language_info": {
   "name": "python"
  }
 },
 "nbformat": 4,
 "nbformat_minor": 2
}
