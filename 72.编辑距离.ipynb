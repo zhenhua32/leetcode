{
 "cells": [
  {
   "cell_type": "code",
   "execution_count": 8,
   "metadata": {},
   "outputs": [],
   "source": [
    "class Solution:\n",
    "    def minDistance(self, word1: str, word2: str) -> int:\n",
    "        m = len(word1) + 1\n",
    "        n = len(word2) + 1\n",
    "\n",
    "        # 构建 dp 矩阵, (m, n). dp[i][j] 表示 word1[:i] 和 word2[:j] 的编辑距离\n",
    "        dp = [[0] * n for _ in range(m)]\n",
    "\n",
    "        # 初始化 dp 矩阵, 就是有个单词是空串的情况, 编辑距离就是另一个单词的长度\n",
    "        for i in range(m):\n",
    "            dp[i][0] = i\n",
    "        for j in range(n):\n",
    "            dp[0][j] = j\n",
    "        \n",
    "        # 递推公式\n",
    "        # dp[i][j] = dp[i-1][j-1] if word1[i-1] == word2[j-1]\n",
    "        # dp[i][j] = min(dp[i-1][j], dp[i][j-1], dp[i-1][j-1]) + 1 if word1[i-1] != word2[j-1]\n",
    "        for i in range(1, m):\n",
    "            for j in range(1, n):\n",
    "                # 注意这里的索引\n",
    "                if word1[i-1] == word2[j-1]:\n",
    "                    dp[i][j] = dp[i-1][j-1]\n",
    "                    continue\n",
    "                # 注意这里的索引\n",
    "                dp[i][j] = min(\n",
    "                    dp[i-1][j], # 删除模式 \n",
    "                    dp[i][j-1],   # 插入模式\n",
    "                    dp[i-1][j-1],  # 替换模式\n",
    "                ) + 1\n",
    "        \n",
    "        return dp[-1][-1]\n"
   ]
  },
  {
   "cell_type": "code",
   "execution_count": 9,
   "metadata": {},
   "outputs": [
    {
     "data": {
      "text/plain": [
       "3"
      ]
     },
     "execution_count": 9,
     "metadata": {},
     "output_type": "execute_result"
    }
   ],
   "source": [
    "Solution().minDistance(\"horse\", \"ros\")"
   ]
  }
 ],
 "metadata": {
  "kernelspec": {
   "display_name": "base",
   "language": "python",
   "name": "python3"
  },
  "language_info": {
   "codemirror_mode": {
    "name": "ipython",
    "version": 3
   },
   "file_extension": ".py",
   "mimetype": "text/x-python",
   "name": "python",
   "nbconvert_exporter": "python",
   "pygments_lexer": "ipython3",
   "version": "3.9.7"
  },
  "orig_nbformat": 4
 },
 "nbformat": 4,
 "nbformat_minor": 2
}
