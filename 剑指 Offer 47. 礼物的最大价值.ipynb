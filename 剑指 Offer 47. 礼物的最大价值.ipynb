{
 "cells": [
  {
   "cell_type": "code",
   "execution_count": null,
   "metadata": {},
   "outputs": [],
   "source": [
    "from typing import List\n",
    "\n",
    "class Solution:\n",
    "    def maxValue(self, grid: List[List[int]]) -> int:\n",
    "        if not grid:\n",
    "            return 0\n",
    "\n",
    "        row = len(grid)\n",
    "        col = len(grid[0])\n",
    "        # dp[i][j] 表示到达 i, j 位置的最大价值\n",
    "        dp = [[0 for _ in range(col)] for _ in range(row)]\n",
    "\n",
    "        # 初始化 dp, 只有一个值, 就是 grid[0][0]\n",
    "        dp[0][0] = grid[0][0]\n",
    "        # 当只有一行时, 只能一直向右走\n",
    "        for i in range(1, row):\n",
    "            dp[i][0] = dp[i-1][0] + grid[i][0]\n",
    "        # 当只有一列时, 只能一直向下走\n",
    "        for j in range(1, col):\n",
    "            dp[0][j] = dp[0][j-1] + grid[0][j]\n",
    "        \n",
    "        # 状态转移, 从左上角开始, 一直到右下角\n",
    "        for i in range(1, row):\n",
    "            for j in range(1, col):\n",
    "                # 当前的最大值, 取决于上面和左边的最大值\n",
    "                dp[i][j] = max(dp[i-1][j], dp[i][j-1]) + grid[i][j]\n",
    "        return dp[-1][-1]"
   ]
  }
 ],
 "metadata": {
  "language_info": {
   "name": "python"
  },
  "orig_nbformat": 4
 },
 "nbformat": 4,
 "nbformat_minor": 2
}
