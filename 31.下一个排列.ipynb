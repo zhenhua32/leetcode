{
    "cells": [
        {
            "cell_type": "code",
            "execution_count": 1,
            "source": [
                "from typing import List"
            ],
            "outputs": [],
            "metadata": {}
        },
        {
            "cell_type": "code",
            "execution_count": 127,
            "source": [
                "class Solution:\r\n",
                "    def nextPermutation(self, nums: List[int]) -> None:\r\n",
                "        \"\"\"\r\n",
                "        Do not return anything, modify nums in-place instead.\r\n",
                "        \"\"\"\r\n",
                "        nums_len = len(nums)\r\n",
                "        if nums_len <= 1:\r\n",
                "            return\r\n",
                "        \r\n",
                "        cur = nums[-1]\r\n",
                "        for i in range(nums_len-2, -1, -1):\r\n",
                "            val = nums[i]\r\n",
                "            if val < cur:\r\n",
                "                # 翻转 nums[i+1:] 后面的\r\n",
                "                for j in range(i+1, i+1+(nums_len - i-1) // 2):\r\n",
                "                    nums[j], nums[i-j] = nums[i-j], nums[j]\r\n",
                "                # 找到第一个比 nums[i] 大的数, 交换位置\r\n",
                "                for k in range(i, -1, -1):\r\n",
                "                    for m in range(i+1, nums_len):\r\n",
                "                        if nums[m] > nums[k]:\r\n",
                "                            nums[k], nums[m] = nums[m], nums[k]\r\n",
                "                            return\r\n",
                "            else:\r\n",
                "                cur = val\r\n",
                "\r\n",
                "        # 到这时还没有结束, 就是降序排列的数组, 需要按升序排序\r\n",
                "        for i in range(nums_len // 2):\r\n",
                "            nums[i], nums[-i-1] = nums[-i-1], nums[i]\r\n"
            ],
            "outputs": [],
            "metadata": {}
        },
        {
            "cell_type": "code",
            "execution_count": 128,
            "source": [
                "nums = [1,2,3]\r\n",
                "Solution().nextPermutation(nums)\r\n",
                "print(nums)"
            ],
            "outputs": [
                {
                    "output_type": "stream",
                    "name": "stdout",
                    "text": [
                        "[1, 3, 2]\n"
                    ]
                }
            ],
            "metadata": {}
        },
        {
            "cell_type": "code",
            "execution_count": 129,
            "source": [
                "nums = [3,2,1]\r\n",
                "Solution().nextPermutation(nums)\r\n",
                "print(nums)"
            ],
            "outputs": [
                {
                    "output_type": "stream",
                    "name": "stdout",
                    "text": [
                        "[1, 2, 3]\n"
                    ]
                }
            ],
            "metadata": {}
        },
        {
            "cell_type": "code",
            "execution_count": 130,
            "source": [
                "nums = [1,1,5]\r\n",
                "Solution().nextPermutation(nums)\r\n",
                "print(nums)"
            ],
            "outputs": [
                {
                    "output_type": "stream",
                    "name": "stdout",
                    "text": [
                        "[1, 5, 1]\n"
                    ]
                }
            ],
            "metadata": {}
        },
        {
            "cell_type": "code",
            "execution_count": 131,
            "source": [
                "nums = [1]\r\n",
                "Solution().nextPermutation(nums)\r\n",
                "print(nums)"
            ],
            "outputs": [
                {
                    "output_type": "stream",
                    "name": "stdout",
                    "text": [
                        "[1]\n"
                    ]
                }
            ],
            "metadata": {}
        },
        {
            "cell_type": "code",
            "execution_count": 132,
            "source": [
                "nums = [1,3,2]\r\n",
                "Solution().nextPermutation(nums)\r\n",
                "print(nums)"
            ],
            "outputs": [
                {
                    "output_type": "stream",
                    "name": "stdout",
                    "text": [
                        "[2, 1, 3]\n"
                    ]
                }
            ],
            "metadata": {}
        },
        {
            "cell_type": "code",
            "execution_count": 133,
            "source": [
                "nums = [5,4,7,5,3,2]\r\n",
                "Solution().nextPermutation(nums)\r\n",
                "print(nums)"
            ],
            "outputs": [
                {
                    "output_type": "stream",
                    "name": "stdout",
                    "text": [
                        "[5, 5, 2, 3, 4, 7]\n"
                    ]
                }
            ],
            "metadata": {}
        }
    ],
    "metadata": {
        "orig_nbformat": 4,
        "language_info": {
            "name": "python"
        }
    },
    "nbformat": 4,
    "nbformat_minor": 2
}