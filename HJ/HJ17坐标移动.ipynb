{
 "cells": [
  {
   "cell_type": "code",
   "execution_count": 7,
   "metadata": {},
   "outputs": [
    {
     "name": "stdout",
     "output_type": "stream",
     "text": [
      "0,0\n"
     ]
    }
   ],
   "source": [
    "lines = input().strip().split(\";\")\n",
    "\n",
    "dot = (0, 0)\n",
    "\n",
    "for x in lines:\n",
    "    if not x:\n",
    "        continue\n",
    "\n",
    "    if x[0] not in [\"A\", \"D\", \"W\", \"S\"]:\n",
    "        continue\n",
    "    try:\n",
    "        num = int(x[1:])\n",
    "    except Exception as e:\n",
    "        continue\n",
    "\n",
    "    if x[0] == \"A\":\n",
    "        dot = (dot[0] - num, dot[1])\n",
    "    elif x[0] == \"D\":\n",
    "        dot = (dot[0] + num, dot[1])\n",
    "    elif x[0] == \"W\":\n",
    "        dot = (dot[0], dot[1] + num)\n",
    "    elif x[0] == \"S\":\n",
    "        dot = (dot[0], dot[1] - num)\n",
    "\n",
    "print(\",\".join(map(str, dot)))"
   ]
  },
  {
   "cell_type": "code",
   "execution_count": null,
   "metadata": {},
   "outputs": [],
   "source": []
  }
 ],
 "metadata": {
  "kernelspec": {
   "display_name": "base",
   "language": "python",
   "name": "python3"
  },
  "language_info": {
   "codemirror_mode": {
    "name": "ipython",
    "version": 3
   },
   "file_extension": ".py",
   "mimetype": "text/x-python",
   "name": "python",
   "nbconvert_exporter": "python",
   "pygments_lexer": "ipython3",
   "version": "3.9.7"
  },
  "orig_nbformat": 4
 },
 "nbformat": 4,
 "nbformat_minor": 2
}
