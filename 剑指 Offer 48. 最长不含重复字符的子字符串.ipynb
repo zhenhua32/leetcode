{
 "cells": [
  {
   "cell_type": "code",
   "execution_count": null,
   "metadata": {},
   "outputs": [],
   "source": [
    "from typing import List\n",
    "\n",
    "\n",
    "\"\"\"\n",
    "这个应该是用了双指针的滑动窗口\n",
    "\"\"\"\n",
    "class Solution:\n",
    "    def lengthOfLongestSubstring(self, s: str) -> int:\n",
    "        if not s: return 0\n",
    "\n",
    "        # 从左到右遍历，记录当前最长子串的长度\n",
    "        left, right = 0, 0\n",
    "        res = 0\n",
    "        window = set()\n",
    "        while right < len(s):\n",
    "\n",
    "            # 如果当前字符在 window 中，就一直删除 window 中的字符，直到当前字符不在 window 中\n",
    "            # 然后让 left 指向当前字符的下一个字符\n",
    "            while s[right] in window:\n",
    "                # 每次弹出最左边的字符\n",
    "                window.remove(s[left])\n",
    "                left += 1\n",
    "            \n",
    "            # 将当前字符加入 window 中\n",
    "            window.add(s[right])\n",
    "            # 比较当前最大长度\n",
    "            res = max(res, right - left + 1)\n",
    "            right += 1\n",
    "        return res"
   ]
  },
  {
   "cell_type": "code",
   "execution_count": null,
   "metadata": {},
   "outputs": [],
   "source": []
  }
 ],
 "metadata": {
  "language_info": {
   "name": "python"
  },
  "orig_nbformat": 4
 },
 "nbformat": 4,
 "nbformat_minor": 2
}
