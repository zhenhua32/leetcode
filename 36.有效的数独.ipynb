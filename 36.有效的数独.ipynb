{
    "cells": [
        {
            "cell_type": "code",
            "execution_count": null,
            "source": [
                "from typing import List"
            ],
            "outputs": [],
            "metadata": {}
        },
        {
            "cell_type": "code",
            "execution_count": 1,
            "source": [
                "class Solution:\r\n",
                "    def isValidSudoku(self, board):\r\n",
                "        \"\"\"\r\n",
                "        :type board: List[List[str]]\r\n",
                "        :rtype: bool\r\n",
                "        \"\"\"\r\n",
                "        a = dict()\r\n",
                "        b = dict()\r\n",
                "        c = dict()\r\n",
                "        \r\n",
                "        for i in range(9):\r\n",
                "          for j in range(9):\r\n",
                "            v = board[i][j]\r\n",
                "            if v == '.':\r\n",
                "              continue\r\n",
                "            \r\n",
                "            if i in a:\r\n",
                "              if v in a[i]:\r\n",
                "                return False\r\n",
                "              a[i].append(v)\r\n",
                "            else:\r\n",
                "              a[i] = [v]\r\n",
                "\r\n",
                "            if j in b:\r\n",
                "              if v in b[j]:\r\n",
                "                return False\r\n",
                "              b[j].append(v)\r\n",
                "            else:\r\n",
                "              b[j] = [v]\r\n",
                "            \r\n",
                "            m = i // 3\r\n",
                "            n = j // 3\r\n",
                "            s = m + n*3\r\n",
                "            if s in c:\r\n",
                "              if v in c[s]:\r\n",
                "                return False\r\n",
                "              c[s].append(v)\r\n",
                "            else:\r\n",
                "              c[s] = [v]\r\n",
                "        \r\n",
                "        return True"
            ],
            "outputs": [],
            "metadata": {}
        },
        {
            "cell_type": "code",
            "execution_count": 2,
            "source": [
                "board = [[\"8\",\"3\",\".\",\".\",\"7\",\".\",\".\",\".\",\".\"]\r\n",
                ",[\"6\",\".\",\".\",\"1\",\"9\",\"5\",\".\",\".\",\".\"]\r\n",
                ",[\".\",\"9\",\"8\",\".\",\".\",\".\",\".\",\"6\",\".\"]\r\n",
                ",[\"8\",\".\",\".\",\".\",\"6\",\".\",\".\",\".\",\"3\"]\r\n",
                ",[\"4\",\".\",\".\",\"8\",\".\",\"3\",\".\",\".\",\"1\"]\r\n",
                ",[\"7\",\".\",\".\",\".\",\"2\",\".\",\".\",\".\",\"6\"]\r\n",
                ",[\".\",\"6\",\".\",\".\",\".\",\".\",\"2\",\"8\",\".\"]\r\n",
                ",[\".\",\".\",\".\",\"4\",\"1\",\"9\",\".\",\".\",\"5\"]\r\n",
                ",[\".\",\".\",\".\",\".\",\"8\",\".\",\".\",\"7\",\"9\"]]\r\n",
                "Solution().isValidSudoku(board)\r\n"
            ],
            "outputs": [
                {
                    "output_type": "execute_result",
                    "data": {
                        "text/plain": [
                            "False"
                        ]
                    },
                    "metadata": {},
                    "execution_count": 2
                }
            ],
            "metadata": {}
        }
    ],
    "metadata": {
        "orig_nbformat": 4,
        "language_info": {
            "name": "python"
        }
    },
    "nbformat": 4,
    "nbformat_minor": 2
}