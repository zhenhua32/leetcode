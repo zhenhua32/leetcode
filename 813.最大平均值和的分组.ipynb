{
 "cells": [
  {
   "cell_type": "code",
   "execution_count": 8,
   "metadata": {},
   "outputs": [],
   "source": [
    "from typing import List\n",
    "\n",
    "def accumulate(nums: List[int], initial=0):\n",
    "    \"\"\"\n",
    "    求前缀和\n",
    "    \"\"\"\n",
    "    total = initial\n",
    "    # 0 个元素的时候输出 0\n",
    "    yield total\n",
    "    for num in nums:\n",
    "        total += num\n",
    "        yield total\n",
    "\n",
    "\n",
    "class Solution:\n",
    "    def largestSumOfAverages(self, nums: List[int], k: int) -> float:\n",
    "        # 数组长度\n",
    "        n = len(nums)\n",
    "        # 前缀和列表\n",
    "        prefix = list(accumulate(nums, initial=0))\n",
    "        print(prefix)\n",
    "\n",
    "        # 又是一个二维的 dp 矩阵\n",
    "        dp = [[0.0] * (k + 1) for _ in range(n + 1)]\n",
    "\n",
    "        # k = 1 时很简单, 就是求平均值\n",
    "        for i in range(1, n + 1):\n",
    "            dp[i][1] = prefix[i] / i\n",
    "        \n",
    "        # k 从 2 开始, 就要用状态转移方程\n",
    "        for j in range(2, k + 1):\n",
    "            for i in range(j, n + 1):\n",
    "                for x in range(j - 1, i):\n",
    "                    # dp[x][j - 1] 是前 x 个元素分成 j - 1 组的最大平均值\n",
    "                    # x 是切成两半, 即 [0, x-1] 和 [x, i-1] 两个部分. 就是加上了后面这部分的平均值\n",
    "                    dp[i][j] = max(dp[i][j], dp[x][j - 1] + (prefix[i] - prefix[x]) / (i - x))\n",
    "        return dp[n][k]"
   ]
  },
  {
   "cell_type": "code",
   "execution_count": 9,
   "metadata": {},
   "outputs": [
    {
     "name": "stdout",
     "output_type": "stream",
     "text": [
      "[0, 9, 10, 12, 15, 24]\n"
     ]
    },
    {
     "data": {
      "text/plain": [
       "20.0"
      ]
     },
     "execution_count": 9,
     "metadata": {},
     "output_type": "execute_result"
    }
   ],
   "source": [
    "Solution().largestSumOfAverages([9,1,2,3,9], 3)"
   ]
  }
 ],
 "metadata": {
  "kernelspec": {
   "display_name": "base",
   "language": "python",
   "name": "python3"
  },
  "language_info": {
   "codemirror_mode": {
    "name": "ipython",
    "version": 3
   },
   "file_extension": ".py",
   "mimetype": "text/x-python",
   "name": "python",
   "nbconvert_exporter": "python",
   "pygments_lexer": "ipython3",
   "version": "3.9.7"
  },
  "orig_nbformat": 4
 },
 "nbformat": 4,
 "nbformat_minor": 2
}
