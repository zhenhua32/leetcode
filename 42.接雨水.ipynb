{
    "cells": [
        {
            "cell_type": "code",
            "execution_count": 1,
            "source": [
                "from typing import List"
            ],
            "outputs": [],
            "metadata": {}
        },
        {
            "cell_type": "code",
            "execution_count": 57,
            "source": [
                "class Solution:\r\n",
                "    def trap(self, height: List[int]) -> int:\r\n",
                "        len_height = len(height)\r\n",
                "        # 这种情况下都接不住雨水\r\n",
                "        if len_height <= 2:\r\n",
                "            return 0\r\n",
                "        \r\n",
                "        result = 0\r\n",
                "        cur = 0\r\n",
                "        stack = []\r\n",
                "        for i, x in enumerate(height):\r\n",
                "            # 一开始的情况, 如果一直高, 都是不要的. \r\n",
                "            # 也就是要找到第一个不继续升高的\r\n",
                "            if not stack:\r\n",
                "                if x >= cur:\r\n",
                "                    cur = x\r\n",
                "                else:\r\n",
                "                    # 低了才有价值\r\n",
                "                    stack.append(cur)\r\n",
                "                    stack.append(x)\r\n",
                "                    cur = x\r\n",
                "            else:\r\n",
                "                stack.append(x)\r\n",
                "                if stack[-1] >= stack[0]:\r\n",
                "                    # 可以结算了\r\n",
                "                    result += self.count_stack(stack)\r\n",
                "                    stack = []\r\n",
                "                    cur = x\r\n",
                "        \r\n",
                "        # 最后还有剩下的 stack, 剩下的部分就是 stack[-1] < stack[0] 的, 对于这种情况, 直接翻转再求一遍\r\n",
                "        result += self.trap(stack[::-1])\r\n",
                "        return result\r\n",
                "\r\n",
                "    def count_stack(self, stack):\r\n",
                "        print(stack)\r\n",
                "        max_height = min(stack[0], stack[-1])\r\n",
                "        # 高 * 宽 - 左右两个柱子\r\n",
                "        result = max_height * len(stack) - max_height * 2\r\n",
                "        # 剩余的每个项都要按高度减去\r\n",
                "        result = result - sum(stack[1:-1])\r\n",
                "        print(result)\r\n",
                "        return result"
            ],
            "outputs": [],
            "metadata": {}
        },
        {
            "cell_type": "code",
            "execution_count": 58,
            "source": [
                "Solution().trap([0,1,0,2,1,0,1,3,2,1,2,1])"
            ],
            "outputs": [
                {
                    "output_type": "stream",
                    "name": "stdout",
                    "text": [
                        "[1, 0, 2]\n",
                        "1\n",
                        "[2, 1, 0, 1, 3]\n",
                        "4\n",
                        "[2, 1, 2]\n",
                        "1\n"
                    ]
                },
                {
                    "output_type": "execute_result",
                    "data": {
                        "text/plain": [
                            "6"
                        ]
                    },
                    "metadata": {},
                    "execution_count": 58
                }
            ],
            "metadata": {}
        },
        {
            "cell_type": "code",
            "execution_count": 54,
            "source": [
                "Solution().trap([4,2,0,3,2,5])"
            ],
            "outputs": [
                {
                    "output_type": "stream",
                    "name": "stdout",
                    "text": [
                        "[4, 2, 0, 3, 2, 5]\n",
                        "9\n"
                    ]
                },
                {
                    "output_type": "execute_result",
                    "data": {
                        "text/plain": [
                            "9"
                        ]
                    },
                    "metadata": {},
                    "execution_count": 54
                }
            ],
            "metadata": {}
        },
        {
            "cell_type": "code",
            "execution_count": 48,
            "source": [
                "Solution().trap([0,2,0])"
            ],
            "outputs": [
                {
                    "output_type": "execute_result",
                    "data": {
                        "text/plain": [
                            "0"
                        ]
                    },
                    "metadata": {},
                    "execution_count": 48
                }
            ],
            "metadata": {}
        },
        {
            "cell_type": "code",
            "execution_count": 52,
            "source": [
                "Solution().trap([4,2,3])"
            ],
            "outputs": [
                {
                    "output_type": "stream",
                    "name": "stdout",
                    "text": [
                        "[3, 2, 4]\n",
                        "1\n"
                    ]
                },
                {
                    "output_type": "execute_result",
                    "data": {
                        "text/plain": [
                            "1"
                        ]
                    },
                    "metadata": {},
                    "execution_count": 52
                }
            ],
            "metadata": {}
        }
    ],
    "metadata": {
        "orig_nbformat": 4,
        "language_info": {
            "name": "python"
        }
    },
    "nbformat": 4,
    "nbformat_minor": 2
}