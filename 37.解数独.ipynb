{
    "cells": [
        {
            "cell_type": "code",
            "execution_count": 6,
            "source": [
                "from typing import List\r\n",
                "from pprint import pprint as print"
            ],
            "outputs": [],
            "metadata": {}
        },
        {
            "cell_type": "code",
            "execution_count": 42,
            "source": [
                "class Solution:\r\n",
                "    def solveSudoku(self, board: List[List[str]]) -> None:\r\n",
                "        \"\"\"\r\n",
                "        Do not return anything, modify board in-place instead.\r\n",
                "        \"\"\"\r\n",
                "        # 9 * 9 的数组, 3\r\n",
                "        # 反复遍历, 将每个位置的可能取值列出来\r\n",
                "        possible_dict = self.run_conservative(board)\r\n",
                "        if not possible_dict:\r\n",
                "            return\r\n",
                "    \r\n",
                "        # 简单方式无法成功, 只能冒险尝试了\r\n",
                "        while possible_dict:\r\n",
                "            # 找一个最小的\r\n",
                "            x = min(possible_dict.items(), key=lambda x:len(x[1]))\r\n",
                "            del possible_dict[x[0]]\r\n",
                "            i, j = x[0]\r\n",
                "            possible_vals : set = x[1]\r\n",
                "            while possible_vals:\r\n",
                "                val = possible_vals.pop()\r\n",
                "                new_board = self.copy_board(board)\r\n",
                "                new_board[i][j] = val\r\n",
                "                \r\n",
                "                new_possible_dict = self.run_conservative(new_board)\r\n",
                "                if not new_possible_dict:\r\n",
                "                    # 成功了, 用真实的运行一次\r\n",
                "                    board[i][j] = val\r\n",
                "                    self.run_conservative(board)\r\n",
                "                    return\r\n",
                "\r\n",
                "    def run_conservative(self, board):\r\n",
                "        possible_dict = self.run_one(board)\r\n",
                "\r\n",
                "        while possible_dict:\r\n",
                "            new_possible_dict = self.run_one(board)\r\n",
                "            if not new_possible_dict:\r\n",
                "                return\r\n",
                "            if new_possible_dict == possible_dict:\r\n",
                "                return possible_dict\r\n",
                "            possible_dict = new_possible_dict\r\n",
                "\r\n",
                "    def run_one(self, board):\r\n",
                "        \"\"\"遍历一遍, 用最保守的方式填写\"\"\"\r\n",
                "        possible_dict = dict()\r\n",
                "        for i in range(9):\r\n",
                "            for j in range(9):\r\n",
                "                val = board[i][j]\r\n",
                "                if val == \".\":\r\n",
                "                    possible_vals = self.find_possible_vals(board, i, j)\r\n",
                "                    # 仅当结果为 1 时填写\r\n",
                "                    if len(possible_vals) == 1:\r\n",
                "                        board[i][j] = possible_vals.pop()\r\n",
                "                    else:\r\n",
                "                        possible_dict[(i,j)] = possible_vals\r\n",
                "        return possible_dict\r\n",
                "\r\n",
                "\r\n",
                "    def find_possible_vals(self, board, i, j):\r\n",
                "        # 行\r\n",
                "        row_list = [x for x in board[i] if x != \".\"]\r\n",
                "        # 列\r\n",
                "        column_list = [board[m][j] for m in range(9) if board[m][j] != \".\"]\r\n",
                "        # 方格\r\n",
                "        small_list = []\r\n",
                "        xi = i // 3 * 3\r\n",
                "        xj = j // 3 * 3\r\n",
                "        for m in range(xi, xi+3):\r\n",
                "            for n in range(xj, xj+3):\r\n",
                "                val = board[m][n]\r\n",
                "                if val != \".\":\r\n",
                "                    small_list.append(val)\r\n",
                "        \r\n",
                "        return set(\"123456789\") - set(row_list) - set(column_list) - set(small_list)\r\n",
                "\r\n",
                "    def copy_board(self, board):\r\n",
                "        new_one = []\r\n",
                "        for x in board:\r\n",
                "            new_one.append([])\r\n",
                "            for y in x:\r\n",
                "                new_one[-1].append(y)\r\n",
                "        return new_one\r\n",
                "\r\n"
            ],
            "outputs": [],
            "metadata": {}
        },
        {
            "cell_type": "code",
            "execution_count": 43,
            "source": [
                "board = [[\"5\",\"3\",\".\",\".\",\"7\",\".\",\".\",\".\",\".\"],[\"6\",\".\",\".\",\"1\",\"9\",\"5\",\".\",\".\",\".\"],[\".\",\"9\",\"8\",\".\",\".\",\".\",\".\",\"6\",\".\"],[\"8\",\".\",\".\",\".\",\"6\",\".\",\".\",\".\",\"3\"],[\"4\",\".\",\".\",\"8\",\".\",\"3\",\".\",\".\",\"1\"],[\"7\",\".\",\".\",\".\",\"2\",\".\",\".\",\".\",\"6\"],[\".\",\"6\",\".\",\".\",\".\",\".\",\"2\",\"8\",\".\"],[\".\",\".\",\".\",\"4\",\"1\",\"9\",\".\",\".\",\"5\"],[\".\",\".\",\".\",\".\",\"8\",\".\",\".\",\"7\",\"9\"]]\r\n",
                "Solution().solveSudoku(board)"
            ],
            "outputs": [],
            "metadata": {}
        },
        {
            "cell_type": "code",
            "execution_count": 44,
            "source": [
                "board = [[\".\",\".\",\"9\",\"7\",\"4\",\"8\",\".\",\".\",\".\"],[\"7\",\".\",\".\",\".\",\".\",\".\",\".\",\".\",\".\"],[\".\",\"2\",\".\",\"1\",\".\",\"9\",\".\",\".\",\".\"],[\".\",\".\",\"7\",\".\",\".\",\".\",\"2\",\"4\",\".\"],[\".\",\"6\",\"4\",\".\",\"1\",\".\",\"5\",\"9\",\".\"],[\".\",\"9\",\"8\",\".\",\".\",\".\",\"3\",\".\",\".\"],[\".\",\".\",\".\",\"8\",\".\",\"3\",\".\",\"2\",\".\"],[\".\",\".\",\".\",\".\",\".\",\".\",\".\",\".\",\"6\"],[\".\",\".\",\".\",\"2\",\"7\",\"5\",\"9\",\".\",\".\"]]\r\n",
                "Solution().solveSudoku(board)\r\n",
                "print(board)"
            ],
            "outputs": [
                {
                    "output_type": "stream",
                    "name": "stdout",
                    "text": [
                        "[['5', '1', '9', '7', '4', '8', '6', '3', '2'],\n",
                        " ['7', '8', '3', '6', '5', '2', '4', '1', '9'],\n",
                        " ['4', '2', '6', '1', '3', '9', '8', '7', '5'],\n",
                        " ['3', '5', '7', '9', '8', '6', '2', '4', '1'],\n",
                        " ['2', '6', '4', '3', '1', '7', '5', '9', '8'],\n",
                        " ['1', '9', '8', '5', '2', '4', '3', '6', '7'],\n",
                        " ['9', '7', '5', '8', '6', '3', '1', '2', '4'],\n",
                        " ['8', '3', '2', '4', '9', '1', '7', '5', '6'],\n",
                        " ['6', '4', '1', '2', '7', '5', '9', '8', '3']]\n"
                    ]
                }
            ],
            "metadata": {}
        }
    ],
    "metadata": {
        "orig_nbformat": 4,
        "language_info": {
            "name": "python"
        }
    },
    "nbformat": 4,
    "nbformat_minor": 2
}