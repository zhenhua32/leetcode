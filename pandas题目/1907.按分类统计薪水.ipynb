{
 "cells": [
  {
   "cell_type": "code",
   "execution_count": null,
   "metadata": {},
   "outputs": [],
   "source": [
    "import pandas as pd\n",
    "\n",
    "def count_salary_categories(accounts: pd.DataFrame) -> pd.DataFrame:\n",
    "    \"\"\"\n",
    "    难受, 我属于低收入人群\n",
    "    \"\"\"\n",
    "    # 这也能超时\n",
    "    def apply_func(row: pd.Series) -> str:\n",
    "        if row['income'] < 20000:\n",
    "            return 'Low Salary'\n",
    "        elif row['income'] > 50000:\n",
    "            return 'High Salary'\n",
    "        else:\n",
    "            return 'Average Salary'\n",
    "    \n",
    "    accounts['category'] = accounts.apply(apply_func, axis=1)\n",
    "    new_df = accounts.groupby('category').count()\n",
    "    \n",
    "    data = {\n",
    "        \"Low Salary\": 0,\n",
    "        \"Average Salary\": 0,\n",
    "        \"High Salary\": 0\n",
    "    }\n",
    "    for index, row in new_df.iterrows():\n",
    "        data[index] = row['income']\n",
    "    return pd.DataFrame(data.items(), columns=['category', 'accounts_count'])"
   ]
  },
  {
   "cell_type": "code",
   "execution_count": null,
   "metadata": {},
   "outputs": [],
   "source": [
    "import pandas as pd\n",
    "\n",
    "def count_salary_categories(accounts: pd.DataFrame) -> pd.DataFrame:\n",
    "    \"\"\"\n",
    "    难受, 我属于低收入人群\n",
    "    \"\"\"\n",
    "    # 这也能超时\n",
    "    def apply_func(row: pd.Series) -> str:\n",
    "        if row['income'] < 20000:\n",
    "            return 'Low Salary'\n",
    "        elif row['income'] > 50000:\n",
    "            return 'High Salary'\n",
    "        else:\n",
    "            return 'Average Salary'\n",
    "        \n",
    "    data = {\n",
    "        \"Low Salary\": 0,\n",
    "        \"Average Salary\": 0,\n",
    "        \"High Salary\": 0\n",
    "    }\n",
    "    for _, row in accounts.iterrows():\n",
    "        data[apply_func(row)] += 1\n",
    "    return pd.DataFrame(data.items(), columns=['category', 'accounts_count'])"
   ]
  },
  {
   "cell_type": "code",
   "execution_count": 11,
   "metadata": {},
   "outputs": [],
   "source": [
    "import pandas as pd\n",
    "\n",
    "def count_salary_categories(accounts: pd.DataFrame) -> pd.DataFrame:\n",
    "    \"\"\"\n",
    "    难受, 我属于低收入人群\n",
    "    \"\"\"        \n",
    "    data = {\n",
    "        \"Low Salary\": 0,\n",
    "        \"Average Salary\": 0,\n",
    "        \"High Salary\": 0\n",
    "    }\n",
    "    # 真离谱, 有时候 engine 不用设置, 有时候需要, 为什么?\n",
    "    data[\"Low Salary\"] = accounts.query(\"income < 20000\", engine=\"python\").shape[0]\n",
    "    data[\"Average Salary\"] = accounts.query(\"income >= 20000 and income <= 50000\", engine=\"python\").shape[0]\n",
    "    data[\"High Salary\"] = accounts.query(\"income > 50000\", engine=\"python\").shape[0]\n",
    "    return pd.DataFrame(data.items(), columns=['category', 'accounts_count'])"
   ]
  },
  {
   "cell_type": "code",
   "execution_count": 15,
   "metadata": {},
   "outputs": [],
   "source": [
    "import pandas as pd\n",
    "\n",
    "def count_salary_categories(accounts: pd.DataFrame) -> pd.DataFrame:\n",
    "    \"\"\"\n",
    "    难受, 我属于低收入人群\n",
    "    \"\"\"        \n",
    "    data = {\n",
    "        \"Low Salary\": 0,\n",
    "        \"Average Salary\": 0,\n",
    "        \"High Salary\": 0\n",
    "    }\n",
    "    # 真离谱, 有时候 engine 不用设置, 有时候需要, 为什么?\n",
    "    data[\"Low Salary\"] = accounts[accounts['income'] < 20000].shape[0]\n",
    "    data[\"Average Salary\"] = accounts[(accounts['income'] >= 20000) & (accounts['income'] <= 50000)].shape[0]\n",
    "    data[\"High Salary\"] = accounts[accounts['income'] > 50000].shape[0]\n",
    "    return pd.DataFrame(data.items(), columns=['category', 'accounts_count'])"
   ]
  },
  {
   "cell_type": "code",
   "execution_count": 2,
   "metadata": {},
   "outputs": [
    {
     "data": {
      "text/html": [
       "<div>\n",
       "<style scoped>\n",
       "    .dataframe tbody tr th:only-of-type {\n",
       "        vertical-align: middle;\n",
       "    }\n",
       "\n",
       "    .dataframe tbody tr th {\n",
       "        vertical-align: top;\n",
       "    }\n",
       "\n",
       "    .dataframe thead th {\n",
       "        text-align: right;\n",
       "    }\n",
       "</style>\n",
       "<table border=\"1\" class=\"dataframe\">\n",
       "  <thead>\n",
       "    <tr style=\"text-align: right;\">\n",
       "      <th></th>\n",
       "      <th>account_id</th>\n",
       "      <th>income</th>\n",
       "    </tr>\n",
       "  </thead>\n",
       "  <tbody>\n",
       "    <tr>\n",
       "      <th>0</th>\n",
       "      <td>3</td>\n",
       "      <td>108939</td>\n",
       "    </tr>\n",
       "    <tr>\n",
       "      <th>1</th>\n",
       "      <td>2</td>\n",
       "      <td>12747</td>\n",
       "    </tr>\n",
       "    <tr>\n",
       "      <th>2</th>\n",
       "      <td>8</td>\n",
       "      <td>87709</td>\n",
       "    </tr>\n",
       "    <tr>\n",
       "      <th>3</th>\n",
       "      <td>6</td>\n",
       "      <td>91796</td>\n",
       "    </tr>\n",
       "  </tbody>\n",
       "</table>\n",
       "</div>"
      ],
      "text/plain": [
       "   account_id  income\n",
       "0           3  108939\n",
       "1           2   12747\n",
       "2           8   87709\n",
       "3           6   91796"
      ]
     },
     "execution_count": 2,
     "metadata": {},
     "output_type": "execute_result"
    }
   ],
   "source": [
    "data = [[3, 108939], [2, 12747], [8, 87709], [6, 91796]]\n",
    "Accounts = pd.DataFrame(data, columns=['account_id', 'income']).astype({'account_id':'Int64', 'income':'Int64'})\n",
    "Accounts"
   ]
  },
  {
   "cell_type": "code",
   "execution_count": 16,
   "metadata": {},
   "outputs": [
    {
     "data": {
      "text/html": [
       "<div>\n",
       "<style scoped>\n",
       "    .dataframe tbody tr th:only-of-type {\n",
       "        vertical-align: middle;\n",
       "    }\n",
       "\n",
       "    .dataframe tbody tr th {\n",
       "        vertical-align: top;\n",
       "    }\n",
       "\n",
       "    .dataframe thead th {\n",
       "        text-align: right;\n",
       "    }\n",
       "</style>\n",
       "<table border=\"1\" class=\"dataframe\">\n",
       "  <thead>\n",
       "    <tr style=\"text-align: right;\">\n",
       "      <th></th>\n",
       "      <th>category</th>\n",
       "      <th>accounts_count</th>\n",
       "    </tr>\n",
       "  </thead>\n",
       "  <tbody>\n",
       "    <tr>\n",
       "      <th>0</th>\n",
       "      <td>Low Salary</td>\n",
       "      <td>1</td>\n",
       "    </tr>\n",
       "    <tr>\n",
       "      <th>1</th>\n",
       "      <td>Average Salary</td>\n",
       "      <td>0</td>\n",
       "    </tr>\n",
       "    <tr>\n",
       "      <th>2</th>\n",
       "      <td>High Salary</td>\n",
       "      <td>3</td>\n",
       "    </tr>\n",
       "  </tbody>\n",
       "</table>\n",
       "</div>"
      ],
      "text/plain": [
       "         category  accounts_count\n",
       "0      Low Salary               1\n",
       "1  Average Salary               0\n",
       "2     High Salary               3"
      ]
     },
     "execution_count": 16,
     "metadata": {},
     "output_type": "execute_result"
    }
   ],
   "source": [
    "count_salary_categories(Accounts)"
   ]
  }
 ],
 "metadata": {
  "kernelspec": {
   "display_name": "base",
   "language": "python",
   "name": "python3"
  },
  "language_info": {
   "codemirror_mode": {
    "name": "ipython",
    "version": 3
   },
   "file_extension": ".py",
   "mimetype": "text/x-python",
   "name": "python",
   "nbconvert_exporter": "python",
   "pygments_lexer": "ipython3",
   "version": "3.9.7"
  },
  "orig_nbformat": 4
 },
 "nbformat": 4,
 "nbformat_minor": 2
}
