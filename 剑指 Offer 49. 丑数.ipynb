{
 "cells": [
  {
   "cell_type": "code",
   "execution_count": null,
   "metadata": {},
   "outputs": [],
   "source": [
    "class Solution:\n",
    "    def nthUglyNumber(self, n: int) -> int:\n",
    "        # 初始化 dp 数组, 第一个数是 1.\n",
    "        dp = [1] * n\n",
    "\n",
    "        # 初始化三个指针, 表示当前最小的三个数的索引\n",
    "        a, b, c = 0, 0, 0\n",
    "        # 从 1 开始递推\n",
    "        for i in range(1, n):\n",
    "            # 选出三个数中最小的数\n",
    "            n2, n3, n5 = dp[a] * 2, dp[b] * 3, dp[c] * 5\n",
    "            dp[i] = min(n2, n3, n5)\n",
    "            # 如果选出的数是 2 的倍数, 就让 a 指针 + 1\n",
    "            if dp[i] == n2: a += 1\n",
    "            if dp[i] == n3: b += 1\n",
    "            if dp[i] == n5: c += 1\n",
    "        return dp[-1]"
   ]
  }
 ],
 "metadata": {
  "language_info": {
   "name": "python"
  },
  "orig_nbformat": 4
 },
 "nbformat": 4,
 "nbformat_minor": 2
}
