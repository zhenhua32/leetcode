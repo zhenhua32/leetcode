{
 "cells": [
  {
   "cell_type": "markdown",
   "metadata": {},
   "source": [
    "密码要求:\n",
    "\n",
    "1.长度超过8位\n",
    "\n",
    "2.包括大小写字母.数字.其它符号,以上四种至少三种\n",
    "\n",
    "3.不能有长度大于2的包含公共元素的子串重复 （注：其他符号不含空格或换行）"
   ]
  },
  {
   "cell_type": "code",
   "execution_count": 3,
   "metadata": {},
   "outputs": [
    {
     "name": "stdout",
     "output_type": "stream",
     "text": [
      "OK\n",
      "NG\n",
      "NG\n",
      "OK\n"
     ]
    }
   ],
   "source": [
    "# 第三个条件怎么判断\n",
    "\n",
    "import sys\n",
    "import string\n",
    "\n",
    "ascii_lowercase = string.ascii_lowercase\n",
    "ascii_uppercase = string.ascii_uppercase\n",
    "digits = string.digits\n",
    "\n",
    "lines = \"\"\"\n",
    "021Abc9000\n",
    "021Abc9Abc1\n",
    "021ABC9000\n",
    "021$bc9000\n",
    "\"\"\".strip()\n",
    "\n",
    "for line in sys.stdin:\n",
    "# for line in lines.splitlines():\n",
    "    line = line.strip()\n",
    "    if len(line) < 8:\n",
    "        print(\"NG\")\n",
    "        continue\n",
    "\n",
    "    # 需要有三种以上不同的类型字符\n",
    "    char_type = dict()\n",
    "\n",
    "    # 直接暴力遍历\n",
    "    for i, x in enumerate(line):\n",
    "        if x in ascii_lowercase:\n",
    "            char_type['lowercase'] = 1\n",
    "        elif x in ascii_uppercase:\n",
    "            char_type['uppercase'] = 1\n",
    "        elif x in digits:\n",
    "            char_type['digits'] = 1\n",
    "        else:\n",
    "            char_type['others'] = 1\n",
    "    \n",
    "    if len(char_type) < 3:\n",
    "        print(\"NG\")\n",
    "        continue\n",
    "\n",
    "    # 公共子串重复, 也就是必须大于等于 3 个字符\n",
    "    flag = False\n",
    "    for i in range(len(line) - 3):\n",
    "        if line[i:i+3] in line[i+3:]:\n",
    "            print(\"NG\")\n",
    "            flag = True\n",
    "            break\n",
    "    if flag:\n",
    "        continue\n",
    "\n",
    "    print(\"OK\")"
   ]
  }
 ],
 "metadata": {
  "kernelspec": {
   "display_name": "base",
   "language": "python",
   "name": "python3"
  },
  "language_info": {
   "codemirror_mode": {
    "name": "ipython",
    "version": 3
   },
   "file_extension": ".py",
   "mimetype": "text/x-python",
   "name": "python",
   "nbconvert_exporter": "python",
   "pygments_lexer": "ipython3",
   "version": "3.9.7"
  },
  "orig_nbformat": 4
 },
 "nbformat": 4,
 "nbformat_minor": 2
}
