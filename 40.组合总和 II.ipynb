{
    "cells": [
        {
            "cell_type": "code",
            "execution_count": 1,
            "source": [
                "from typing import List"
            ],
            "outputs": [],
            "metadata": {}
        },
        {
            "cell_type": "code",
            "execution_count": 123,
            "source": [
                "class Solution:\r\n",
                "    # 已经解答过一遍了\r\n",
                "    have_solution = {}\r\n",
                "\r\n",
                "    def combinationSum2(self, candidates: List[int], target: int) -> List[List[int]]:\r\n",
                "        len_candidates = len(candidates)\r\n",
                "        if len_candidates == 0:\r\n",
                "            return []\r\n",
                "\r\n",
                "        # candidates 中每个值都是正数, 可能是有重复的\r\n",
                "        candidates = sorted(candidates)\r\n",
                "\r\n",
                "        result = set()\r\n",
                "        for i, x in enumerate(candidates):\r\n",
                "            if x == target:\r\n",
                "                result.add((x,))\r\n",
                "            # 都是正数, 且升序排列, 可以跳出\r\n",
                "            elif x > target:\r\n",
                "                break\r\n",
                "            else:\r\n",
                "                # 小于就有可能性\r\n",
                "                need = target - x\r\n",
                "                # 只要 i 后面的就行了, 前面的已经重复了求解过了\r\n",
                "                key = candidates[i+1:]\r\n",
                "                if not key:\r\n",
                "                    continue\r\n",
                "                if need < candidates[i+1]:\r\n",
                "                    continue\r\n",
                "                tuple_key = tuple(key + [\"\", need])\r\n",
                "                if tuple_key in self.have_solution:\r\n",
                "                    part_result = self.have_solution[tuple_key]\r\n",
                "                else:\r\n",
                "                    part_result = self.combinationSum2(key, need)\r\n",
                "                    self.have_solution[tuple_key] = part_result\r\n",
                "                for y in part_result:\r\n",
                "                    result.add(tuple(sorted(y+[x])))\r\n",
                "\r\n",
                "                    \r\n",
                "        return [list(x) for x in result]"
            ],
            "outputs": [],
            "metadata": {}
        },
        {
            "cell_type": "code",
            "execution_count": 125,
            "source": [
                "candidates = [10,1,2,7,6,1,5]\r\n",
                "target = 8\r\n",
                "Solution().combinationSum2(candidates, target)"
            ],
            "outputs": [
                {
                    "output_type": "execute_result",
                    "data": {
                        "text/plain": [
                            "[[1, 2, 5]]"
                        ]
                    },
                    "metadata": {},
                    "execution_count": 125
                }
            ],
            "metadata": {}
        },
        {
            "cell_type": "code",
            "execution_count": 119,
            "source": [
                "candidates = [2,5,6,7,10]\r\n",
                "target = 6\r\n",
                "Solution().combinationSum2(candidates, target)"
            ],
            "outputs": [
                {
                    "output_type": "execute_result",
                    "data": {
                        "text/plain": [
                            "[[6]]"
                        ]
                    },
                    "metadata": {},
                    "execution_count": 119
                }
            ],
            "metadata": {}
        },
        {
            "cell_type": "code",
            "execution_count": 120,
            "source": [
                "candidates = [1]\r\n",
                "target = 2\r\n",
                "Solution().combinationSum2(candidates, target)"
            ],
            "outputs": [
                {
                    "output_type": "execute_result",
                    "data": {
                        "text/plain": [
                            "[]"
                        ]
                    },
                    "metadata": {},
                    "execution_count": 120
                }
            ],
            "metadata": {}
        },
        {
            "cell_type": "code",
            "execution_count": 121,
            "source": [
                "candidates = [2,5,2,1,2]\r\n",
                "target = 5\r\n",
                "Solution().combinationSum2(candidates, target)"
            ],
            "outputs": [
                {
                    "output_type": "execute_result",
                    "data": {
                        "text/plain": [
                            "[[1, 2, 2], [5]]"
                        ]
                    },
                    "metadata": {},
                    "execution_count": 121
                }
            ],
            "metadata": {}
        },
        {
            "cell_type": "code",
            "execution_count": 122,
            "source": [
                "candidates = [2,3,6,7]\r\n",
                "target = 7\r\n",
                "Solution().combinationSum2(candidates, target)"
            ],
            "outputs": [
                {
                    "output_type": "execute_result",
                    "data": {
                        "text/plain": [
                            "[[7]]"
                        ]
                    },
                    "metadata": {},
                    "execution_count": 122
                }
            ],
            "metadata": {}
        }
    ],
    "metadata": {
        "orig_nbformat": 4,
        "language_info": {
            "name": "python"
        }
    },
    "nbformat": 4,
    "nbformat_minor": 2
}