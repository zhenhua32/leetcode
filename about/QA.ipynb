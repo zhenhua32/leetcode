{
 "cells": [
  {
   "cell_type": "markdown",
   "metadata": {},
   "source": [
    "[TOC]\n",
    "\n",
    "对我来说都是地狱问题, "
   ]
  },
  {
   "cell_type": "markdown",
   "metadata": {},
   "source": [
    "# Q: 自我介绍\n",
    "\n",
    "我叫 tobe, 毕业于通信工程专业, 有 6 年开发经验. 主要使用 python 语言, 最近对 AI 模型更感兴趣."
   ]
  },
  {
   "cell_type": "markdown",
   "metadata": {},
   "source": [
    "# 工作中遇到的最困难的事情\n",
    "\n",
    "我现在遇到的最大困难是模型怎么训练.\n",
    "\n",
    "1. 情景: 我曾经在部署 tf1 的 ner 模型的时候遇到过一个问题. 有个版本依赖的错误, 似乎是个 linux 组件问题. 组件版本太低了, 但我没法升级.\n",
    "2. 任务: 解决部署问题\n",
    "3. 行动: 我的面前有很多条路走, 解决依赖问题, 更换成 tf2, 用 torch 重新训练. 笑死了, 这个只能凸显出困难性, 因为我并没有真正解决这个问题.\n",
    "4. 结果: 结果其实是挺幸运的, 换了个更低的 python 版本. 得到的教训是什么? 多想对策, 齐头并进, 不要只有一个计划."
   ]
  },
  {
   "cell_type": "markdown",
   "metadata": {},
   "source": [
    "# 如果你是动物，你想做哪一种呢？\n",
    "\n",
    "这个真的是当时遇到过. 我当时说是鹿, 那是因为我前几天看了哈利波特的电影. 想想我的守护神会是什么形态的?\n",
    "\n",
    "---\n",
    "\n",
    "您好，这是Bing。很高兴为您提供帮助。😊\n",
    "\n",
    "《哈利·波特》中的鹿，是指一种叫做**守护神**的魔法现象。守护神是一种能够驱散恶魔的光明生物，它们的形态取决于施法者的个性和情感。每个人的守护神都是独一无二的，有些人的守护神甚至会随着时间和经历而改变。\n",
    "\n",
    "在《哈利·波特》中，有几个重要的人物的守护神都是鹿的形态。其中最著名的就是哈利·波特（Harry Potter）和他的父母詹姆·波特（James Potter）和莉莉·波特（Lily Potter）。哈利和詹姆的守护神都是**牡鹿**，而莉莉的守护神则是**牝鹿**。这表现了他们之间的亲密关系和相似性格，也反映了他们对于自由和勇气的追求。\n",
    "\n",
    "另一个有名的鹿形守护神的主人是西弗勒斯·斯内普（Severus Snape）。他的守护神也是**牝鹿**，与莉莉一样。这是因为他从小就暗恋着莉莉，即使在她死后也始终忠诚于她。他的守护神是他对莉莉永恒不变的爱情的象征，也是他为了保护哈利而成为双面间谍的动力。\n",
    "\n",
    "如果您想了解更多关于《哈利·波特》中的鹿和守护神的信息，您可以点击以下的链接¹²³，或者在网上搜索相关的关键词。希望这些信息能够对您有所帮助和启发。谢谢！\n",
    "\n",
    "源: 与必应的对话， 2023/8/27\n",
    "(1) 《哈利·波特》中“银色牝鹿”究竟代表着什么？典故做何解？ - 知乎. https://www.zhihu.com/question/66210955.\n",
    "(2) 牝鹿_百度百科. https://baike.baidu.com/item/牝鹿/4993008.\n",
    "(3) 哈利波特的守护神到底是牡鹿还是牝鹿？？ - 百度知道. https://zhidao.baidu.com/question/73989960.html."
   ]
  },
  {
   "cell_type": "markdown",
   "metadata": {},
   "source": [
    "# 你觉得自己在五年内会有什么发展？\n",
    "\n",
    "这是可以说的吗? 我从来都没有一个清晰的规划. 我以前说过想成为一个架构师, 但我并不是真的想要, 我只是觉得设计系统很棒. 现在看到 AI 也是如此, 我想要创造, 塑造一个世界.\n",
    "\n",
    "这也是我小时候在花园里挖掘的原因, 因为我是真的把它看作是一个小世界, 我挖出河道, 塑造岛屿, 划分大陆.\n",
    "\n",
    "骗哥们可以, 别把自己也骗了. 后面忘了...\n",
    "\n",
    "突然看到乐高也挺好的, 有个永生花束的."
   ]
  },
  {
   "cell_type": "markdown",
   "metadata": {},
   "source": [
    "# 参考\n",
    "\n",
    "[面试中最常见的27个问题，这里有一份最全的回答指南](https://zhuanlan.zhihu.com/p/26821974)\n",
    "[60个面试经典问题，如何回答?](https://www.ncss.cn/ncss/zd/ms/202007/20200703/2101838291.html)\n",
    "\n",
    "# STAR法则\n",
    "\n",
    "回答这个问题时，要按照STAR法则来组织语言，即：情境（Situation）+ 任务（Task）+ 行动（Action）+ 结果（Result）。这样可以让面试官清楚地了解事件的背景、目标、过程和效果。"
   ]
  },
  {
   "cell_type": "markdown",
   "metadata": {},
   "source": [
    "# 介绍下 websocket\n",
    "\n",
    "WebSocket 是一种在单个 TCP 连接上实现双向通信的协议。它可以让浏览器和服务器之间实时传输数据，节省资源和带宽，提高性能。WebSocket 与 HTTP 不同，它需要通过 HTTP Upgrade 头¹来从 HTTP 协议切换到 WebSocket 协议。WebSocket 还支持二进制数据和消息流，比 HTTP 更灵活和高效。[2]\n",
    "\n",
    "如果你想了解更多关于 WebSocket 的技术细节和应用案例，你可以参考以下的链接：\n",
    "- [WebSocket - Wikipedia](^1^)\n",
    "- [WebSocket - Web APIs | MDN](^2^)\n",
    "- [WebSocket详解：技术原理、代码演示和应用案例 - 知乎](^4^)\n",
    "- [The WebSocket API (WebSockets) - Web APIs | MDN](^5^)\n",
    "\n",
    "源: 与必应的对话， 2024/1/17\n",
    "(1) WebSocket - Wikipedia. https://en.wikipedia.org/wiki/WebSocket.\n",
    "(2) WebSocket - Wikipedia. https://en.wikipedia.org/wiki/WebSocket.\n",
    "(3) WebSocket - Web APIs | MDN - MDN Web Docs. https://developer.mozilla.org/en-US/docs/Web/API/WebSocket.\n",
    "(4) WebSocket详解：技术原理、代码演示和应用案例 - 知乎. https://zhuanlan.zhihu.com/p/160910342.\n",
    "(5) The WebSocket API (WebSockets) - Web APIs | MDN. https://developer.mozilla.org/en-US/docs/Web/API/WebSockets_API.\n",
    "(6) What are WebSockets? | Web Security Academy - PortSwigger. https://portswigger.net/web-security/websockets/what-are-websockets.\n",
    "(7) undefined. https://websockets.spec.whatwg.org/.\n",
    "\n",
    "\n",
    "在 Python 中使用 WebSocket，你可以选择不同的库和 API。我为你搜索了一些相关的网页，你可以参考以下的链接：\n",
    "- [websockets · PyPI](^1^)：这是一个基于 asyncio 的库，提供了优雅的协程式 API，支持 WebSocket 协议 (RFC 6455 & 7692)。\n",
    "- [websocket-client · PyPI](^2^)：这是一个 WebSocket 客户端的库，提供了低级的 API，实现了 hybi-13 版本的协议。\n",
    "- [GitHub - python-websockets/websockets: Library for building WebSocket ...](^3^)：这是 websockets 库的 GitHub 仓库，你可以在这里查看源码，文档，示例和问题。\n",
    "\n",
    "如果你想看一些具体的代码示例，你可以在 [websockets · PyPI](^1^) 和 [websocket-client · PyPI](^2^) 的网页上找到。这里我也给你写了一个简单的 WebSocket 服务器和客户端的代码，使用了 websockets 库：\n",
    "\n",
    "```python\n",
    "# 服务器端代码\n",
    "import asyncio\n",
    "from websockets.server import serve\n",
    "\n",
    "async def echo(websocket):\n",
    "    async for message in websocket:\n",
    "        await websocket.send(message)\n",
    "\n",
    "async def main():\n",
    "    async with serve(echo, \"localhost\", 8765):\n",
    "        await asyncio.Future() # run forever\n",
    "\n",
    "asyncio.run(main())\n",
    "```\n",
    "\n",
    "```python\n",
    "# 客户端代码\n",
    "import asyncio\n",
    "from websockets.client import connect\n",
    "\n",
    "async def hello():\n",
    "    async with connect(\"ws://localhost:8765\") as websocket:\n",
    "        await websocket.send(\"Hello world!\")\n",
    "        message = await websocket.recv()\n",
    "        print(f\"Received: {message}\")\n",
    "\n",
    "asyncio.run(hello())\n",
    "```\n",
    "\n",
    "源: 与必应的对话， 2024/1/17\n",
    "(1) websockets · PyPI. https://pypi.org/project/websockets/.\n",
    "(2) websocket-client · PyPI. https://pypi.org/project/websocket-client/.\n",
    "(3) GitHub - python-websockets/websockets: Library for building WebSocket .... https://github.com/python-websockets/websockets.\n",
    "(4) websockets · PyPI. https://pypi.org/project/websockets/.\n",
    "(5) websocket-client · PyPI. https://pypi.org/project/websocket-client/.\n",
    "(6) undefined. https://websocket-client.readthedocs.io/.\n",
    "(7) undefined. https://websocket-client.readthedocs.io/en/latest/faq.html."
   ]
  },
  {
   "cell_type": "markdown",
   "metadata": {},
   "source": [
    "# 介绍下 transformers 模型的结构\n",
    "\n",
    "Transformers 模型是一种基于自注意力机制的深度学习模型，主要用于自然语言处理和计算机视觉等领域。Transformers 模型的结构由编码器（Encoder）和解码器（Decoder）两部分组成，每部分包含多个相同的层，每层又包含多个子层，如自注意力子层，前馈全连接子层等。Transformers 模型的特点是能够捕捉序列中任意两个位置之间的关系，不受距离的限制，同时具有较高的并行性和效率。\n",
    "\n",
    "如果你想了解更多关于 Transformers 模型的结构和原理，你可以参考以下的链接：\n",
    "- [Transformer模型详解（图解最完整版） - 知乎](^1^)：这是一篇详细介绍 Transformer 模型的文章，包含了图解和公式，适合有一定基础的读者。\n",
    "- [详解Transformer结构 - 知乎](^2^)：这是一篇用简单语言和代码解释 Transformer 结构的文章，适合初学者和实践者。\n",
    "- [【全网首发】Transformer模型详解（图解史上最完整版）_transformer模型架构-CSDN博客](^5^)：这是一篇基于 PyTorch 实现 Transformer 模型的博客，包含了完整的代码和注释，适合想要动手实验的读者。\n",
    "\n",
    "源: 与必应的对话， 2024/1/17\n",
    "(1) Transformer模型详解（图解最完整版） - 知乎 - 知乎专栏. https://zhuanlan.zhihu.com/p/338817680.\n",
    "(2) 详解Transformer结构 - 知乎 - 知乎专栏. https://zhuanlan.zhihu.com/p/396221959.\n",
    "(3) 【全网首发】Transformer模型详解（图解史上最完整版）_transformer模型架构-CSDN博客. https://blog.csdn.net/qq_42986622/article/details/131432100.\n",
    "(4) 【全网首发】Transformer模型详解（图解史上最完整版）_transformer模型架构-CSDN博客. https://bing.com/search?q=transformers+%e6%a8%a1%e5%9e%8b%e7%9a%84%e7%bb%93%e6%9e%84.\n",
    "(5) Transformer模型详解（图解史上最完整版）_transformers 加载模型的流程-CSDN博客. https://blog.csdn.net/Trisyp/article/details/129202472."
   ]
  },
  {
   "cell_type": "markdown",
   "metadata": {},
   "source": [
    "# 介绍下 bert 的结构\n",
    "\n",
    "BERT 的结构是基于 Transformer 的编码器（Encoder）堆叠而成的，它可以对输入的文本序列进行双向的语言表示学习。BERT 的结构由三个部分组成，分别是输入层，中间层和输出层。\n",
    "\n",
    "- 输入层：BERT 的输入可以是单个句子或者两个句子，它们都会在开头加上一个特殊的标记 [CLS]，在结尾加上一个分隔符 [SEP]，并且每个词都会被转换成一个词向量（Token Embedding）。除了词向量，BERT 还会加上位置向量（Position Embedding）和段落向量（Segment Embedding），来表示词在序列中的位置信息和属于哪个句子。这三种向量相加就得到了输入层的向量表示。\n",
    "- 中间层：BERT 的中间层由 N 个相同的 Transformer 编码器层组成，每个层包含两个子层，即多头自注意力（Multi-Head Attention）和前馈全连接网络（Feed-Forward Network）。多头自注意力可以捕捉序列中任意两个位置之间的关系，前馈全连接网络可以对每个位置的输出进行非线性变换。每个子层的输出还会加上输入本身（残差连接）和进行层归一化（Layer Normalization），以提高模型的稳定性和收敛速度。\n",
    "- 输出层：BERT 的输出层根据不同的下游任务而定，一般来说，有两种类型的输出，一种是分类/回归任务的输出，一种是序列标注任务的输出。对于分类/回归任务，BERT 会使用 [CLS] 位置的输出作为整个序列的表示，然后接一个线性层和一个激活函数，得到最终的输出。对于序列标注任务，BERT 会使用每个位置的输出作为每个词的表示，然后接一个线性层和一个 softmax 函数，得到每个词的类别概率。\n",
    "\n",
    "如果你想了解更多关于 BERT 的结构和原理，你可以参考以下的链接：\n",
    "- [BERT系列（二）BERT模型的核心架构 - 知乎](^1^)：这是一篇详细介绍 BERT 模型的文章，包含了代码和图解，适合有一定基础的读者。\n",
    "- [BERT 详解 - 知乎](^2^)：这是一篇用简单语言和代码解释 BERT 结构的文章，适合初学者和实践者。\n",
    "- [图解BERT：通俗的解释BERT是如何工作的 - 知乎](^4^)：这是一篇用图形和例子说明 BERT 原理的文章，适合想要直观理解 BERT 的读者。\n",
    "\n",
    "源: 与必应的对话， 2024/1/17\n",
    "(1) BERT系列（二）BERT模型的核心架构 - 知乎 - 知乎专栏. https://zhuanlan.zhihu.com/p/381279611.\n",
    "(2) BERT 详解 - 知乎. https://zhuanlan.zhihu.com/p/103226488.\n",
    "(3) 图解BERT：通俗的解释BERT是如何工作的 - 知乎 - 知乎专栏. https://zhuanlan.zhihu.com/p/364966458.\n",
    "(4) BERT 详解 - 知乎. https://bing.com/search?q=bert+%e7%9a%84%e7%bb%93%e6%9e%84.\n",
    "(5) BERT模型—1.BERT模型架构_bert模型结构-CSDN博客. https://blog.csdn.net/weixin_46649052/article/details/118897188."
   ]
  },
  {
   "cell_type": "markdown",
   "metadata": {},
   "source": [
    "# 怎么看代 AI 大模型\n",
    "\n",
    "我觉得 AI大模型就是新时代的操作系统. 操作系统是底层的, 用于接管硬件, 并为上层的应用提供支持.\n",
    "\n",
    "当前的市场上操作系统有两条路, 要么学 windows, 闭源且强大, 要么学 linux 开源, 且有很多发行版.\n",
    "\n",
    "大模型让命令式的交互方式变成了声明式的. 虽然现在的理解能力还是不足, 有时候还是需要详尽的 prompt, 但总的来说, 说出你想要的, 而不是怎么做更适合交互.\n",
    "\n",
    "大模型让机器人变得可能, 这可能使得机器人时代更早的到来."
   ]
  }
 ],
 "metadata": {
  "language_info": {
   "name": "python"
  },
  "orig_nbformat": 4
 },
 "nbformat": 4,
 "nbformat_minor": 2
}
