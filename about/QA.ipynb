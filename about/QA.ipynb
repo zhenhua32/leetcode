{
 "cells": [
  {
   "cell_type": "markdown",
   "metadata": {},
   "source": [
    "[TOC]\n",
    "\n",
    "对我来说都是地狱问题, "
   ]
  },
  {
   "cell_type": "markdown",
   "metadata": {},
   "source": [
    "# Q: 自我介绍\n",
    "\n",
    "我叫 tobe, 毕业于通信工程专业, 有 6 年开发经验. 主要使用 python 语言, 最近对 AI 模型更感兴趣."
   ]
  },
  {
   "cell_type": "markdown",
   "metadata": {},
   "source": [
    "# 工作中遇到的最困难的事情\n",
    "\n",
    "我现在遇到的最大困难是模型怎么训练.\n",
    "\n",
    "1. 情景: 我曾经在部署 tf1 的 ner 模型的时候遇到过一个问题. 有个版本依赖的错误, 似乎是个 linux 组件问题. 组件版本太低了, 但我没法升级.\n",
    "2. 任务: 解决部署问题\n",
    "3. 行动: 我的面前有很多条路走, 解决依赖问题, 更换成 tf2, 用 torch 重新训练. 笑死了, 这个只能凸显出困难性, 因为我并没有真正解决这个问题.\n",
    "4. 结果: 结果其实是挺幸运的, 换了个更低的 python 版本. 得到的教训是什么? 多想对策, 齐头并进, 不要只有一个计划."
   ]
  },
  {
   "cell_type": "markdown",
   "metadata": {},
   "source": [
    "# 参考\n",
    "\n",
    "[面试中最常见的27个问题，这里有一份最全的回答指南](https://zhuanlan.zhihu.com/p/26821974)\n",
    "\n",
    "# STAR法则\n",
    "\n",
    "回答这个问题时，要按照STAR法则来组织语言，即：情境（Situation）+ 任务（Task）+ 行动（Action）+ 结果（Result）。这样可以让面试官清楚地了解事件的背景、目标、过程和效果。"
   ]
  }
 ],
 "metadata": {
  "language_info": {
   "name": "python"
  },
  "orig_nbformat": 4
 },
 "nbformat": 4,
 "nbformat_minor": 2
}
