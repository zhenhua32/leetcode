{
 "cells": [
  {
   "cell_type": "code",
   "execution_count": 1,
   "metadata": {},
   "outputs": [],
   "source": [
    "class Solution:\n",
    "    def climbStairs(self, n: int) -> int:\n",
    "        # 一个台阶一种解法\n",
    "        if n <= 1:\n",
    "            return 1\n",
    "\n",
    "        # 两个台阶两种解法.  O(n) 的空间复杂度\n",
    "        a, b = 1, 1\n",
    "\n",
    "        # n个台阶的解法等于n-1个台阶的解法加上n-2个台阶的解法\n",
    "        for _ in range(n - 1):\n",
    "            a, b = b, a + b\n",
    "        return b"
   ]
  },
  {
   "cell_type": "code",
   "execution_count": 2,
   "metadata": {},
   "outputs": [],
   "source": [
    "class Solution:\n",
    "    def climbStairs(self, n: int) -> int:\n",
    "        if n <= 2:\n",
    "            return n\n",
    "\n",
    "        dp = [0] * (n + 1)\n",
    "        dp[1], dp[2] = 1, 2\n",
    "        for i in range(3, n+1):\n",
    "            dp[i] = dp[i - 1] + dp[i - 2]\n",
    "        return dp[-1]"
   ]
  }
 ],
 "metadata": {
  "kernelspec": {
   "display_name": "base",
   "language": "python",
   "name": "python3"
  },
  "language_info": {
   "codemirror_mode": {
    "name": "ipython",
    "version": 3
   },
   "file_extension": ".py",
   "mimetype": "text/x-python",
   "name": "python",
   "nbconvert_exporter": "python",
   "pygments_lexer": "ipython3",
   "version": "3.9.7"
  },
  "orig_nbformat": 4
 },
 "nbformat": 4,
 "nbformat_minor": 2
}
