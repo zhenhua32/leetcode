{
 "cells": [
  {
   "cell_type": "code",
   "execution_count": 1,
   "metadata": {},
   "outputs": [],
   "source": [
    "from typing import List\n",
    "\n",
    "class Solution:\n",
    "    def maxSubArray(self, nums: List[int]) -> int:\n",
    "        # 第一步, 定义好初始条件\n",
    "        if not nums:\n",
    "            return 0\n",
    "\n",
    "        # 第二步, 定义好状态转移方程, 怎么根据以前的结果求出现在的结果\n",
    "        # 每次只多一个元素\n",
    "        dp = [0] * len(nums)\n",
    "        dp[0] = nums[0]\n",
    "        for i in range(1, len(nums)):\n",
    "            # 这个递归的思想就是和上一个结果比较, 如果上一个结果是负数, 那么就不要了, 直接从当前位置开始重新数\n",
    "            # dp[i] = max(dp[i - 1] + nums[i], nums[i])\n",
    "            dp[i] = nums[i] + (dp[i - 1] if dp[i - 1] > 0 else 0)\n",
    "\n",
    "        return max(dp)"
   ]
  },
  {
   "cell_type": "code",
   "execution_count": 3,
   "metadata": {},
   "outputs": [
    {
     "data": {
      "text/plain": [
       "23"
      ]
     },
     "execution_count": 3,
     "metadata": {},
     "output_type": "execute_result"
    }
   ],
   "source": [
    "Solution().maxSubArray([5,4,-1,7,8])"
   ]
  }
 ],
 "metadata": {
  "kernelspec": {
   "display_name": "base",
   "language": "python",
   "name": "python3"
  },
  "language_info": {
   "codemirror_mode": {
    "name": "ipython",
    "version": 3
   },
   "file_extension": ".py",
   "mimetype": "text/x-python",
   "name": "python",
   "nbconvert_exporter": "python",
   "pygments_lexer": "ipython3",
   "version": "3.9.7"
  },
  "orig_nbformat": 4
 },
 "nbformat": 4,
 "nbformat_minor": 2
}
