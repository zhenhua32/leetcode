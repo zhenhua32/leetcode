{
 "cells": [
  {
   "cell_type": "markdown",
   "source": [
    "1. 下面哪个语句在 python 中是非法的 B\r\n",
    "A. x=y=z=1\r\n",
    "B. x=(y=1)\r\n",
    "C. x, y = y, x\r\n",
    "D. x += y"
   ],
   "metadata": {}
  },
  {
   "cell_type": "code",
   "execution_count": 12,
   "source": [
    "x=(y=1)"
   ],
   "outputs": [
    {
     "output_type": "error",
     "ename": "SyntaxError",
     "evalue": "invalid syntax (<ipython-input-12-527c87ebfb06>, line 1)",
     "traceback": [
      "\u001b[1;36m  File \u001b[1;32m\"<ipython-input-12-527c87ebfb06>\"\u001b[1;36m, line \u001b[1;32m1\u001b[0m\n\u001b[1;33m    x=(y=1)\u001b[0m\n\u001b[1;37m        ^\u001b[0m\n\u001b[1;31mSyntaxError\u001b[0m\u001b[1;31m:\u001b[0m invalid syntax\n"
     ]
    }
   ],
   "metadata": {}
  },
  {
   "cell_type": "markdown",
   "source": [
    "2. 关于 python 内存管理, 下面说法错误的是 B\r\n",
    "A. 变量不必事先声明\r\n",
    "B. 变量无须先创建和赋值而直接使用\r\n",
    "C. 变量无须指定类型\r\n",
    "D. 可以使用 del 释放资源"
   ],
   "metadata": {}
  },
  {
   "cell_type": "markdown",
   "source": [
    "3. 下面哪个不是 python 合法的标识符 B\r\n",
    "A. int32\r\n",
    "B. 40XL\r\n",
    "C. self\r\n",
    "D. __name__\r\n",
    "\r\n",
    "解析: 不能以 数字 开头"
   ],
   "metadata": {}
  },
  {
   "cell_type": "markdown",
   "source": [
    "4. 下面哪种说法是错误的 A\r\n",
    "A. 除字典类型外, 所有标准对象均可用于布尔测试\r\n",
    "B. 空字符串的布尔值是 False\r\n",
    "C. 空列表对象的布尔值是 False\r\n",
    "D. 值为 0 的任何数字对象的布尔值是 False\r\n",
    "\r\n",
    "解析: 字典类型也可以用于布尔测试"
   ],
   "metadata": {}
  },
  {
   "cell_type": "code",
   "execution_count": 14,
   "source": [
    "print(bool({}))\r\n",
    "print(bool({\"a\": 1}))"
   ],
   "outputs": [
    {
     "output_type": "stream",
     "name": "stdout",
     "text": [
      "False\n",
      "True\n"
     ]
    }
   ],
   "metadata": {}
  },
  {
   "cell_type": "markdown",
   "source": [
    "5. python 不支持的数据类型有 A\r\n",
    "A. char\r\n",
    "B. int\r\n",
    "C. float\r\n",
    "D. list"
   ],
   "metadata": {}
  },
  {
   "cell_type": "markdown",
   "source": [
    "6. 关于 python 中的复数, 以下说法错误的是 C\r\n",
    "A. 表示复数的语法是 real + image i\r\n",
    "B. 实部和虚部都是浮点数\r\n",
    "C. 虚部必须后缀 j, 且必须是小写\r\n",
    "D. 方法 conjugate 返回复数的共轭复数"
   ],
   "metadata": {}
  },
  {
   "cell_type": "code",
   "execution_count": 18,
   "source": [
    "print(1 + 1j)\r\n",
    "print(1 + 1J)\r\n",
    "print(complex(1, 1))\r\n",
    "print(complex(\"1+1j\"))"
   ],
   "outputs": [
    {
     "output_type": "stream",
     "name": "stdout",
     "text": [
      "(1+1j)\n",
      "(1+1j)\n",
      "(1+1j)\n",
      "(1+1j)\n"
     ]
    }
   ],
   "metadata": {}
  },
  {
   "cell_type": "markdown",
   "source": [
    "7. 关于字符串下列说法错误的是 B\r\n",
    "A. 字符应该视为长度为 1 的字符串\r\n",
    "B. 字符串以 \\0 标志字符串的结束\r\n",
    "C. 既可以用单引号, 也可以用双引号创建字符串\r\n",
    "D. 在三引号字符串中可以包含换行回车等特殊字符串\r\n",
    "\r\n",
    "解析: \\0 标志字符串结束是 C 语言的特性. python 将字符串实现为一个固定长度的数组."
   ],
   "metadata": {}
  },
  {
   "cell_type": "markdown",
   "source": [
    "8. 以下不能创建一个字典的语句是 C\r\n",
    "A. dict1 = {}\r\n",
    "B. dict2 = {3: 5}\r\n",
    "C. dict3 = {[1,2,3]: \"uestc\"}s\r\n",
    "D. dict4 = {(1,2,3): \"uestc\"}"
   ],
   "metadata": {}
  },
  {
   "cell_type": "markdown",
   "source": [
    "9. 下列 python 语法正确的是 D\r\n",
    "A. min = x if < y else y\r\n",
    "B. max = x > y ? x: y\r\n",
    "C. if (x>y) print x\r\n",
    "D. while True: pass\r\n",
    "\r\n",
    "解析: TODO: 这可能是假的答案, A 也是正确的语法, 可能是出题人没遇见过的未来版本的 python?"
   ],
   "metadata": {}
  },
  {
   "cell_type": "code",
   "execution_count": 20,
   "source": [
    "x = 1\r\n",
    "y = 2\r\n",
    "min = x if x < y else y"
   ],
   "outputs": [],
   "metadata": {}
  },
  {
   "cell_type": "code",
   "execution_count": 21,
   "source": [
    "x = 1\r\n",
    "y = 2\r\n",
    "max = x > y ? x : y"
   ],
   "outputs": [
    {
     "output_type": "error",
     "ename": "SyntaxError",
     "evalue": "invalid syntax (<ipython-input-21-ccb5445db6c1>, line 3)",
     "traceback": [
      "\u001b[1;36m  File \u001b[1;32m\"<ipython-input-21-ccb5445db6c1>\"\u001b[1;36m, line \u001b[1;32m3\u001b[0m\n\u001b[1;33m    max = x > y ? x : y\u001b[0m\n\u001b[1;37m                ^\u001b[0m\n\u001b[1;31mSyntaxError\u001b[0m\u001b[1;31m:\u001b[0m invalid syntax\n"
     ]
    }
   ],
   "metadata": {}
  },
  {
   "cell_type": "code",
   "execution_count": 27,
   "source": [
    "x = 1\r\n",
    "y = 2\r\n",
    "if (x>y) print(x)"
   ],
   "outputs": [
    {
     "output_type": "error",
     "ename": "SyntaxError",
     "evalue": "invalid syntax (<ipython-input-27-968767d1e86e>, line 3)",
     "traceback": [
      "\u001b[1;36m  File \u001b[1;32m\"<ipython-input-27-968767d1e86e>\"\u001b[1;36m, line \u001b[1;32m3\u001b[0m\n\u001b[1;33m    if (x>y) print(x)\u001b[0m\n\u001b[1;37m             ^\u001b[0m\n\u001b[1;31mSyntaxError\u001b[0m\u001b[1;31m:\u001b[0m invalid syntax\n"
     ]
    }
   ],
   "metadata": {}
  },
  {
   "cell_type": "code",
   "execution_count": 28,
   "source": [
    "while True: pass"
   ],
   "outputs": [
    {
     "output_type": "error",
     "ename": "KeyboardInterrupt",
     "evalue": "",
     "traceback": [
      "\u001b[1;31m---------------------------------------------------------------------------\u001b[0m",
      "\u001b[1;31mKeyboardInterrupt\u001b[0m                         Traceback (most recent call last)",
      "\u001b[1;32m<ipython-input-28-b16dc615ea65>\u001b[0m in \u001b[0;36m<module>\u001b[1;34m\u001b[0m\n\u001b[1;32m----> 1\u001b[1;33m \u001b[1;32mwhile\u001b[0m \u001b[1;32mTrue\u001b[0m\u001b[1;33m:\u001b[0m \u001b[1;32mpass\u001b[0m\u001b[1;33m\u001b[0m\u001b[1;33m\u001b[0m\u001b[0m\n\u001b[0m",
      "\u001b[1;31mKeyboardInterrupt\u001b[0m: "
     ]
    }
   ],
   "metadata": {}
  },
  {
   "cell_type": "markdown",
   "source": [
    "10. 计算机中信息处理和信息存储用 A\r\n",
    "A. 二进制代码\r\n",
    "B. 十进制代码\r\n",
    "C. 十六进制代码\r\n",
    "D. ASCII 代码"
   ],
   "metadata": {}
  },
  {
   "cell_type": "markdown",
   "source": [
    "11. python 源程序执行的方式是 B\r\n",
    "A. 编译执行\r\n",
    "B. 解析执行\r\n",
    "C. 直接执行\r\n",
    "D. 边编译边执行"
   ],
   "metadata": {}
  },
  {
   "cell_type": "markdown",
   "source": [
    "12. python 语言语句块的标记是 C\r\n",
    "A. 分号\r\n",
    "B. 逗号\r\n",
    "C. 缩进\r\n",
    "D. /"
   ],
   "metadata": {}
  },
  {
   "cell_type": "markdown",
   "source": [
    "13. 以下是字符转换成字节的方法是 B\r\n",
    "A. decode()\r\n",
    "B. encode()\r\n",
    "C. upper()\r\n",
    "D. rstrip()"
   ],
   "metadata": {}
  },
  {
   "cell_type": "markdown",
   "source": [
    "14. 以下是正确的字符串 BD\r\n",
    "A. 'abc\"ab\"\r\n",
    "B. 'abc\"ab'\r\n",
    "C. \"abc\"ab\"\r\n",
    "D. \"abc\\\"ab\""
   ],
   "metadata": {}
  },
  {
   "cell_type": "code",
   "execution_count": 31,
   "source": [
    "print('abc\"ab')\r\n",
    "print(\"abc\\\"ab\")"
   ],
   "outputs": [
    {
     "output_type": "stream",
     "name": "stdout",
     "text": [
      "abc\"ab\n",
      "abc\"ab\n"
     ]
    }
   ],
   "metadata": {}
  },
  {
   "cell_type": "markdown",
   "source": [
    "15. \"ab\" + \"c\"*2 的结果是 C\r\n",
    "A. abc2\r\n",
    "B. abcabc\r\n",
    "C. abcc\r\n",
    "D. ababcc"
   ],
   "metadata": {}
  },
  {
   "cell_type": "markdown",
   "source": [
    "16. 以下会出现错误的是 B\r\n",
    "A. \"北京\".encode()\r\n",
    "B. \"北京\".decode()\r\n",
    "C. \"北京\".encode().decode()\r\n",
    "D. 以上都不会错误"
   ],
   "metadata": {}
  },
  {
   "cell_type": "code",
   "execution_count": 32,
   "source": [
    "\"北京\".decode()"
   ],
   "outputs": [
    {
     "output_type": "error",
     "ename": "AttributeError",
     "evalue": "'str' object has no attribute 'decode'",
     "traceback": [
      "\u001b[1;31m---------------------------------------------------------------------------\u001b[0m",
      "\u001b[1;31mAttributeError\u001b[0m                            Traceback (most recent call last)",
      "\u001b[1;32m<ipython-input-32-b6b2ff0c6fef>\u001b[0m in \u001b[0;36m<module>\u001b[1;34m\u001b[0m\n\u001b[1;32m----> 1\u001b[1;33m \u001b[1;34m\"北京\"\u001b[0m\u001b[1;33m.\u001b[0m\u001b[0mdecode\u001b[0m\u001b[1;33m(\u001b[0m\u001b[1;33m)\u001b[0m\u001b[1;33m\u001b[0m\u001b[1;33m\u001b[0m\u001b[0m\n\u001b[0m",
      "\u001b[1;31mAttributeError\u001b[0m: 'str' object has no attribute 'decode'"
     ]
    }
   ],
   "metadata": {}
  },
  {
   "cell_type": "markdown",
   "source": [
    "17. 如下\r\n",
    "str1 = \"Runoob example...wow!!!\"\r\n",
    "str2 = \"exam\"\r\n",
    "print(str1.find(str2, 5))\r\n",
    "的打印结果是 B\r\n",
    "A. 6\r\n",
    "B. 7\r\n",
    "C. 8\r\n",
    "D. -1"
   ],
   "metadata": {}
  },
  {
   "cell_type": "code",
   "execution_count": 50,
   "source": [
    "str1 = \"Runoob example...wow!!!\"\r\n",
    "str2 = \"exam\"\r\n",
    "print(str1.find(str2, 5))\r\n",
    "print(str1[5:])\r\n",
    "# 后面两个参数决定了查找的范围, 但实际上的索引位置还是 str1 的索引位置"
   ],
   "outputs": [
    {
     "output_type": "stream",
     "name": "stdout",
     "text": [
      "7\n",
      "b example...wow!!!\n"
     ]
    }
   ],
   "metadata": {}
  },
  {
   "cell_type": "markdown",
   "source": [
    "18. 下面对 count(), index(), find() 方法描述错误的是 D\r\n",
    "A. count() 方法用于统计字符串里某个字符出现的次数\r\n",
    "B. find() 方法检测字符串是否包含子字符串 str, 如果包含子字符串返回开始的索引值, 否则会报一个异常\r\n",
    "C. index() 检测字符串是否包含子字符串 str, 如果不在返回 -1\r\n",
    "D. 以上都错误\r\n",
    "\r\n",
    "解析: find() 找不到就会返回 -1, index() 找不到会抛出 ValueError, count() 统计的是字符串非重叠出现的次数."
   ],
   "metadata": {}
  },
  {
   "cell_type": "markdown",
   "source": [
    "19. 有下面的程序段\r\n",
    "if k<=10 and k >0:\r\n",
    "    if k >5:\r\n",
    "        if k>8:\r\n",
    "            x=0\r\n",
    "        else:\r\n",
    "            X=1\r\n",
    "    else:\r\n",
    "        if k>2:\r\n",
    "            x=3\r\n",
    "        else:\r\n",
    "            x=4\r\n",
    "其中 k 去哪组值时, x = 3. A\r\n",
    "\r\n",
    "A. 3,4,5\r\n",
    "B. 3,4\r\n",
    "C. 5,6,7\r\n",
    "D. 4,5"
   ],
   "metadata": {}
  },
  {
   "cell_type": "markdown",
   "source": [
    "20. 以下不是 python 中的关键字是 D\r\n",
    "A. raise\r\n",
    "B. with\r\n",
    "C. import\r\n",
    "D. final"
   ],
   "metadata": {}
  },
  {
   "cell_type": "markdown",
   "source": [
    "21. 调用以下函数返回的值是 D\r\n",
    "def myfunc():\r\n",
    "    pass\r\n",
    "\r\n",
    "A. 0\r\n",
    "B. 出错不能运行\r\n",
    "C. 空字符串\r\n",
    "D. None"
   ],
   "metadata": {}
  },
  {
   "cell_type": "markdown",
   "source": [
    "22. 函数如下:\r\n",
    "def showNumber(numbers):\r\n",
    "    for n in numbers:\r\n",
    "        print(n)\r\n",
    "\r\n",
    "下面哪些在调用函数时会报错: C\r\n",
    "A. showNumber([2,4,5])\r\n",
    "B. showNumber('abcesf')\r\n",
    "C. showNumber(3.4)\r\n",
    "D. showNumber((12,4,5))"
   ],
   "metadata": {}
  },
  {
   "cell_type": "markdown",
   "source": [
    "23. 函数如下:\r\n",
    "def changeInt(number2):\r\n",
    "    number2 = number2 + 1\r\n",
    "    print(\"changeInt: number2=\", number2)\r\n",
    "# 调用\r\n",
    "number1 = 2\r\n",
    "changeInt(number1)\r\n",
    "print(\"number:\", number1)\r\n",
    "\r\n",
    "打印结果哪项是正确的 B\r\n",
    "A. changeInt: number2= 3  number: 3\r\n",
    "B. changeInt: number2= 3  number: 2\r\n",
    "C. number: 2  changeInt: number2= 2\r\n",
    "D. number: 2  changeInt: number2= 3"
   ],
   "metadata": {}
  },
  {
   "cell_type": "markdown",
   "source": [
    "24. 函数如下:\r\n",
    "def changeList(list):\r\n",
    "    list.append(\"end\")\r\n",
    "    print(\"list\", list)\r\n",
    "# 调用\r\n",
    "strs = ['1', '2']\r\n",
    "changeList(strs)\r\n",
    "print(\"strs\", strs)\r\n",
    "\r\n",
    "下面对 strs 和 list 的值输出正确的是 C, D\r\n",
    "A. strs ['1', '2']\r\n",
    "B. list ['1', '2']\r\n",
    "C. list ['1', '2', 'end']\r\n",
    "D. strs ['1', '2', 'end']"
   ],
   "metadata": {}
  },
  {
   "cell_type": "code",
   "execution_count": 56,
   "source": [
    "def changeList(list):\r\n",
    "    list.append(\"end\")\r\n",
    "    print(\"list\", list)\r\n",
    "# 调用\r\n",
    "strs = ['1', '2']\r\n",
    "changeList(strs)\r\n",
    "print(\"strs\", strs)"
   ],
   "outputs": [
    {
     "output_type": "stream",
     "name": "stdout",
     "text": [
      "list ['1', '2', 'end']\n",
      "strs ['1', '2', 'end']\n"
     ]
    }
   ],
   "metadata": {}
  },
  {
   "cell_type": "markdown",
   "source": [
    "25. 定义类如下:\r\n",
    "class Hello():\r\n",
    "    pass\r\n",
    "下面说明错误的是: CD\r\n",
    "A. 该类实例中包含 __dir__() 方法\r\n",
    "B. 该类实例中包含 __hash__() 方法\r\n",
    "C. 该类实例只包含 __dir__(), 不包含 __hash__() 方法\r\n",
    "D. 该类没有定义任何方法, 所以该实例中没有包含任何方法"
   ],
   "metadata": {}
  },
  {
   "cell_type": "code",
   "execution_count": 57,
   "source": [
    "class Hello():\r\n",
    "    pass\r\n",
    "h = Hello()\r\n",
    "print(h.__dir__())\r\n",
    "print(h.__hash__())"
   ],
   "outputs": [
    {
     "output_type": "stream",
     "name": "stdout",
     "text": [
      "['__module__', '__dict__', '__weakref__', '__doc__', '__repr__', '__hash__', '__str__', '__getattribute__', '__setattr__', '__delattr__', '__lt__', '__le__', '__eq__', '__ne__', '__gt__', '__ge__', '__init__', '__new__', '__reduce_ex__', '__reduce__', '__subclasshook__', '__init_subclass__', '__format__', '__sizeof__', '__dir__', '__class__']\n",
      "106280598167\n"
     ]
    }
   ],
   "metadata": {}
  },
  {
   "cell_type": "markdown",
   "source": [
    "27. 关于 python 类, 说法错误的是 B\r\n",
    "A. 类的实例方法必须创建对象后才可以调用\r\n",
    "B. 类的实例方法必须创建对象前才可以调用\r\n",
    "C. 类的类方法可以用对象和类名来调用\r\n",
    "D. 类的静态属性可以用类名和对象来调用"
   ],
   "metadata": {}
  },
  {
   "cell_type": "markdown",
   "source": [
    "28. 定义类如下:\r\n",
    "class Hell():\r\n",
    "    def __init__(self, name):\r\n",
    "        self.name = name\r\n",
    "    \r\n",
    "    def showInfo(self):\r\n",
    "        print(self.name)\r\n",
    "下面代码能正常执行的是 C\r\n",
    "A. h = Hello\r\n",
    "   h.showInfo()\r\n",
    "B. h = Hello()\r\n",
    "   h.showInfo('张三')\r\n",
    "C. h = Hello('张三')\r\n",
    "   h.showInfo('张三')\r\n",
    "D. h = Hello('admin')\r\n",
    "   h.showInfo"
   ],
   "metadata": {}
  },
  {
   "cell_type": "markdown",
   "source": [
    "29. 定义类如下:\r\n",
    "class A():\r\n",
    "    def a():\r\n",
    "        print(\"a\")\r\n",
    "class B():\r\n",
    "    def b():\r\n",
    "        print(\"b\")\r\n",
    "class C():\r\n",
    "    def c():\r\n",
    "        print(\"c\")\r\n",
    "class D(A, C):\r\n",
    "    def d():\r\n",
    "        print(\"d\")\r\n",
    "\r\n",
    "d = D()\r\n",
    "d.a()\r\n",
    "d.b()\r\n",
    "d.d()\r\n",
    "以下程序的执行结果是 D\r\n",
    "A. a,b,d\r\n",
    "B. a,d\r\n",
    "C. d,a\r\n",
    "D. 执行会报错"
   ],
   "metadata": {}
  },
  {
   "cell_type": "markdown",
   "source": [
    "30. 以下哪项 python 能正常启动 D\r\n",
    "A. 拼写错误\r\n",
    "B. 错误表达式\r\n",
    "C. 缩进错误\r\n",
    "D. 手动抛出异常"
   ],
   "metadata": {}
  },
  {
   "cell_type": "markdown",
   "source": [
    "31. 有关异常说法正确的是 B\r\n",
    "A. 程序中抛出异常终止程序\r\n",
    "B. 程序中抛出异常不一定会终止程序\r\n",
    "C. 拼写错误会导致程序终止\r\n",
    "D. 索引错误会导致程序错误"
   ],
   "metadata": {}
  },
  {
   "cell_type": "markdown",
   "source": [
    "32. 对以下程序描述错误的是 A\r\n",
    "try:\r\n",
    "    # 语句块1\r\n",
    "except IndexError as i:\r\n",
    "    # 语句块2\r\n",
    "A. 该程序对异常处理了, 因此一定不会终止程序\r\n",
    "B. 该程序对异常处理了, 不一定不会因异常引发终止\r\n",
    "C. 语句块1, 如果抛出 IndexError, 不会因为异常终止程序\r\n",
    "D. 语句块2 不一定会执行\r\n",
    "\r\n",
    "解析: 其实 C 也是错误的, 因为语句块2 也可能抛出异常"
   ],
   "metadata": {}
  },
  {
   "cell_type": "markdown",
   "source": [
    "33. 程序如下:\r\n",
    "try:\r\n",
    "    number = int(input(\"请输入数字：\"))\r\n",
    "    print(\"number:\",number)\r\n",
    "    print(\"=======hello======\")\r\n",
    "except Exception as e:\r\n",
    "    # 报错错误日志\r\n",
    "    print(\"打印异常详情信息： \",e)\r\n",
    "else:\r\n",
    "    print(\"没有异常\")\r\n",
    "finally:#关闭资源\r\n",
    "    print(\"finally\")\r\n",
    "print(\"end\")\r\n",
    "输入的是 1a 结果是 B\r\n",
    "A. number: 1\r\n",
    "打印异常详情信息:  invalid literal for int() with base 10\r\n",
    "finally\r\n",
    "end\r\n",
    "B. 打印异常详情信息:  invalid literal for int() with base 10\r\n",
    "finally\r\n",
    "end\r\n",
    "C. =======hello======\r\n",
    "打印异常详情信息:  invalid literal for int() with base 10\r\n",
    "finally\r\n",
    "end\r\n",
    "D. 以上都正确"
   ],
   "metadata": {}
  },
  {
   "cell_type": "markdown",
   "source": [
    "34. 导入模块的方式错误的是 D\r\n",
    "A. import mo\r\n",
    "B. from mo import *\r\n",
    "C. import mo as m\r\n",
    "D. import m from mo"
   ],
   "metadata": {}
  },
  {
   "cell_type": "markdown",
   "source": [
    "35. 以下关于模块说法错误的是 C\r\n",
    "A. 一个 xy.py 就是一个模块\r\n",
    "B. 任何一个普通的 xy.py 可以作为模块导入\r\n",
    "C. 模块文件的扩展名不一定是 .py\r\n",
    "D. 运行时会从指定的目录搜索导入模块, 如果没有, 会报错异常"
   ],
   "metadata": {}
  },
  {
   "cell_type": "markdown",
   "source": [
    "1. 请描述列表和元组之间的区别, 以及分别在他们之间转换\r\n",
    "list 和 tuple 都是有序的集合, list 是可变的, tuple 是不可变的.\r\n",
    "list 转成成 tuple 使用的是 tuple 函数\r\n",
    "tuple 转换成 list 使用的是 list 函数"
   ],
   "metadata": {}
  },
  {
   "cell_type": "markdown",
   "source": [
    "2. 定义函数的规则\r\n",
    "函数代码块以 def 关键词开头, 后跟着函数标识符名称和圆括号, 以及分号.\r\n",
    "任何传入参数和自变量必须放在圆括号中间. 圆括号之间用于定义参数.\r\n",
    "函数的第一行语句可以选择性的使用文档字符串, 用于存储函数说明.\r\n",
    "函数内容需要缩进.\r\n",
    "return 表达式结束函数, 可返回 零个或多个值. 不带表达式的 return 相当于 return None"
   ],
   "metadata": {}
  },
  {
   "cell_type": "markdown",
   "source": [
    "3. __new__ 和 __init__ 的区别\r\n",
    "__new__ 是一个类方法, __init__ 是一个实例方法.\r\n",
    "__new__ 返回一个新创建的实例, __init__ 没有返回值.\r\n",
    "只有在 __new__ 返回一个类的实例后, __init__ 才会被调用.\r\n",
    "当创建一个新实例时, 调用 __new__, 初始化一个实例时调用 __init__."
   ],
   "metadata": {}
  },
  {
   "cell_type": "markdown",
   "source": [
    "4. read, readline, readlines 之间的区别\r\n",
    "read 读取整个文件或指定的字节数\r\n",
    "readline 读取下一行\r\n",
    "readlines 读取多行"
   ],
   "metadata": {}
  },
  {
   "cell_type": "markdown",
   "source": [
    "5. 去掉 old_list = [1,1,1,3,4] 中的重复元素\r\n",
    "new_list = list(set(old_list))"
   ],
   "metadata": {}
  },
  {
   "cell_type": "markdown",
   "source": [
    "6. 用两个元素之间有对应关系的 list 构造一个 dict\r\n",
    "a = [\"a\", \"b\"]\r\n",
    "b = [1, 2]\r\n",
    "c = dict(zip(a, b))"
   ],
   "metadata": {}
  },
  {
   "cell_type": "code",
   "execution_count": 64,
   "source": [
    "print(\"a\".isalpha())\r\n",
    "print(\" \".isspace())\r\n",
    "print(\"1.1\".isnumeric())\r\n",
    "print(\"1.1\".isdigit())"
   ],
   "outputs": [
    {
     "output_type": "stream",
     "name": "stdout",
     "text": [
      "True\n",
      "True\n",
      "False\n",
      "False\n"
     ]
    }
   ],
   "metadata": {}
  },
  {
   "cell_type": "markdown",
   "source": [
    "7. 对于集合 a 和 b, 检测 a 是否是 b 的真子集\r\n",
    "a < b"
   ],
   "metadata": {}
  },
  {
   "cell_type": "code",
   "execution_count": 66,
   "source": [
    "import math\r\n",
    "print(math.floor(4.4))\r\n",
    "print(type(math.floor(4.4)))"
   ],
   "outputs": [
    {
     "output_type": "stream",
     "name": "stdout",
     "text": [
      "4\n",
      "<class 'int'>\n"
     ]
    }
   ],
   "metadata": {}
  },
  {
   "cell_type": "markdown",
   "source": [
    "sys.argv 是命令参数列表, 包含文件名"
   ],
   "metadata": {}
  },
  {
   "cell_type": "code",
   "execution_count": 71,
   "source": [
    "x = 1\r\n",
    "def change(a):\r\n",
    "    # global x\r\n",
    "    # x = 1\r\n",
    "    x += 1\r\n",
    "    print(x)\r\n",
    "change(x)\r\n",
    "\r\n",
    "# x 是全局变量, 可以读取, 但不能改变\r\n",
    "# 要想改变全局变量, 可以使用 global 声明\r\n",
    "# 或者直接把 x 赋值掉, 替换全局变量的 x 为局部变量"
   ],
   "outputs": [
    {
     "output_type": "error",
     "ename": "UnboundLocalError",
     "evalue": "local variable 'x' referenced before assignment",
     "traceback": [
      "\u001b[1;31m---------------------------------------------------------------------------\u001b[0m",
      "\u001b[1;31mUnboundLocalError\u001b[0m                         Traceback (most recent call last)",
      "\u001b[1;32m<ipython-input-71-e387e20bd5e6>\u001b[0m in \u001b[0;36m<module>\u001b[1;34m\u001b[0m\n\u001b[0;32m      4\u001b[0m     \u001b[0mx\u001b[0m \u001b[1;33m+=\u001b[0m \u001b[1;36m1\u001b[0m\u001b[1;33m\u001b[0m\u001b[1;33m\u001b[0m\u001b[0m\n\u001b[0;32m      5\u001b[0m     \u001b[0mprint\u001b[0m\u001b[1;33m(\u001b[0m\u001b[0mx\u001b[0m\u001b[1;33m)\u001b[0m\u001b[1;33m\u001b[0m\u001b[1;33m\u001b[0m\u001b[0m\n\u001b[1;32m----> 6\u001b[1;33m \u001b[0mchange\u001b[0m\u001b[1;33m(\u001b[0m\u001b[0mx\u001b[0m\u001b[1;33m)\u001b[0m\u001b[1;33m\u001b[0m\u001b[1;33m\u001b[0m\u001b[0m\n\u001b[0m",
      "\u001b[1;32m<ipython-input-71-e387e20bd5e6>\u001b[0m in \u001b[0;36mchange\u001b[1;34m(a)\u001b[0m\n\u001b[0;32m      2\u001b[0m \u001b[1;32mdef\u001b[0m \u001b[0mchange\u001b[0m\u001b[1;33m(\u001b[0m\u001b[0ma\u001b[0m\u001b[1;33m)\u001b[0m\u001b[1;33m:\u001b[0m\u001b[1;33m\u001b[0m\u001b[1;33m\u001b[0m\u001b[0m\n\u001b[0;32m      3\u001b[0m     \u001b[1;31m# global x\u001b[0m\u001b[1;33m\u001b[0m\u001b[1;33m\u001b[0m\u001b[1;33m\u001b[0m\u001b[0m\n\u001b[1;32m----> 4\u001b[1;33m     \u001b[0mx\u001b[0m \u001b[1;33m+=\u001b[0m \u001b[1;36m1\u001b[0m\u001b[1;33m\u001b[0m\u001b[1;33m\u001b[0m\u001b[0m\n\u001b[0m\u001b[0;32m      5\u001b[0m     \u001b[0mprint\u001b[0m\u001b[1;33m(\u001b[0m\u001b[0mx\u001b[0m\u001b[1;33m)\u001b[0m\u001b[1;33m\u001b[0m\u001b[1;33m\u001b[0m\u001b[0m\n\u001b[0;32m      6\u001b[0m \u001b[0mchange\u001b[0m\u001b[1;33m(\u001b[0m\u001b[0mx\u001b[0m\u001b[1;33m)\u001b[0m\u001b[1;33m\u001b[0m\u001b[1;33m\u001b[0m\u001b[0m\n",
      "\u001b[1;31mUnboundLocalError\u001b[0m: local variable 'x' referenced before assignment"
     ]
    }
   ],
   "metadata": {}
  },
  {
   "cell_type": "code",
   "execution_count": 72,
   "source": [
    "print(type(1/2))"
   ],
   "outputs": [
    {
     "output_type": "stream",
     "name": "stdout",
     "text": [
      "<class 'float'>\n"
     ]
    }
   ],
   "metadata": {}
  },
  {
   "cell_type": "markdown",
   "source": [],
   "metadata": {}
  }
 ],
 "metadata": {
  "orig_nbformat": 4,
  "language_info": {
   "name": "python",
   "version": "3.8.5",
   "mimetype": "text/x-python",
   "codemirror_mode": {
    "name": "ipython",
    "version": 3
   },
   "pygments_lexer": "ipython3",
   "nbconvert_exporter": "python",
   "file_extension": ".py"
  },
  "kernelspec": {
   "name": "python3",
   "display_name": "Python 3.8.5 64-bit ('base': conda)"
  },
  "interpreter": {
   "hash": "97ae724bfa85b9b34df7982b8bb8c7216f435b92902d749e4263f71162bea840"
  }
 },
 "nbformat": 4,
 "nbformat_minor": 2
}