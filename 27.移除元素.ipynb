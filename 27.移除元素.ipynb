{
    "cells": [
        {
            "cell_type": "code",
            "execution_count": 1,
            "source": [
                "from typing import List"
            ],
            "outputs": [],
            "metadata": {}
        },
        {
            "cell_type": "code",
            "execution_count": 11,
            "source": [
                "class Solution:\r\n",
                "    def removeElement(self, nums: List[int], val: int) -> int:\r\n",
                "        len_num = len(nums)\r\n",
                "        if len_num < 1:\r\n",
                "            return 0\r\n",
                "\r\n",
                "        new_len = len_num\r\n",
                "        for i, x in enumerate(nums):\r\n",
                "            if x == val:\r\n",
                "                # 找到最后一个位置\r\n",
                "                new_len -= 1\r\n",
                "                last_idx = len_num - 1\r\n",
                "                while last_idx > i:\r\n",
                "                    if nums[last_idx] != val:\r\n",
                "                        # 找到了可以交换的\r\n",
                "                        nums[i], nums[last_idx] = nums[last_idx], nums[i]\r\n",
                "                        # 因为找到了可以交换的, 所以数量要加回来(因为后面循环到这个值时会多算一次)\r\n",
                "                        new_len += 1\r\n",
                "                        break\r\n",
                "                    last_idx -= 1\r\n",
                "        \r\n",
                "        return new_len"
            ],
            "outputs": [],
            "metadata": {}
        },
        {
            "cell_type": "code",
            "execution_count": 17,
            "source": [
                "nums = [3,2,3,2,3]\r\n",
                "val = 3\r\n",
                "print(Solution().removeElement(nums, val))\r\n",
                "print(nums)"
            ],
            "outputs": [
                {
                    "output_type": "stream",
                    "name": "stdout",
                    "text": [
                        "2\n",
                        "[2, 2, 3, 3, 3]\n"
                    ]
                }
            ],
            "metadata": {}
        },
        {
            "cell_type": "code",
            "execution_count": 13,
            "source": [
                "nums = [0,1,2,2,3,0,4,2]\r\n",
                "val = 2\r\n",
                "print(Solution().removeElement(nums, val))\r\n",
                "print(nums)"
            ],
            "outputs": [
                {
                    "output_type": "stream",
                    "name": "stdout",
                    "text": [
                        "5\n",
                        "[0, 1, 4, 0, 3, 2, 2, 2]\n"
                    ]
                }
            ],
            "metadata": {}
        },
        {
            "cell_type": "code",
            "execution_count": 16,
            "source": [
                "nums = []\r\n",
                "val = 2\r\n",
                "print(Solution().removeElement(nums, val))\r\n",
                "print(nums)"
            ],
            "outputs": [
                {
                    "output_type": "stream",
                    "name": "stdout",
                    "text": [
                        "0\n",
                        "[]\n"
                    ]
                }
            ],
            "metadata": {}
        }
    ],
    "metadata": {
        "orig_nbformat": 4,
        "language_info": {
            "name": "python"
        }
    },
    "nbformat": 4,
    "nbformat_minor": 2
}