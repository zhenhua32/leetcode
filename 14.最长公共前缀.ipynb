{
    "cells": [
        {
            "cell_type": "code",
            "execution_count": 1,
            "source": [
                "from typing import List"
            ],
            "outputs": [],
            "metadata": {}
        },
        {
            "cell_type": "code",
            "execution_count": 6,
            "source": [
                "class Solution:\r\n",
                "    def longestCommonPrefix(self, strs: List[str]) -> str:\r\n",
                "        if len(strs) == 0:\r\n",
                "            return \"\"\r\n",
                "        if len(strs) == 1:\r\n",
                "            return strs[0]\r\n",
                "\r\n",
                "        result = \"\"\r\n",
                "        min_len = min(len(x) for x in strs)\r\n",
                "\r\n",
                "        for i in range(min_len):\r\n",
                "            char = strs[0][i]\r\n",
                "            for line in strs:\r\n",
                "                if line[i] != char:\r\n",
                "                    return result\r\n",
                "            result += char\r\n",
                "        \r\n",
                "        return result\r\n"
            ],
            "outputs": [],
            "metadata": {}
        },
        {
            "cell_type": "code",
            "execution_count": 7,
            "source": [
                "Solution().longestCommonPrefix([\"flower\",\"flow\",\"flight\"])"
            ],
            "outputs": [
                {
                    "output_type": "execute_result",
                    "data": {
                        "text/plain": [
                            "'fl'"
                        ]
                    },
                    "metadata": {},
                    "execution_count": 7
                }
            ],
            "metadata": {}
        },
        {
            "cell_type": "code",
            "execution_count": null,
            "source": [
                "Solution().longestCommonPrefix([\"dog\",\"racecar\",\"car\"])"
            ],
            "outputs": [],
            "metadata": {}
        }
    ],
    "metadata": {
        "orig_nbformat": 4,
        "language_info": {
            "name": "python"
        }
    },
    "nbformat": 4,
    "nbformat_minor": 2
}