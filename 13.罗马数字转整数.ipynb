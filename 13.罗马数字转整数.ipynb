{
    "cells": [
        {
            "cell_type": "code",
            "execution_count": 25,
            "source": [
                "class Solution:\r\n",
                "    def romanToInt(self, s: str) -> int:\r\n",
                "        num1 = \"IXCM\"\r\n",
                "        num5 = \"VLD\"\r\n",
                "\r\n",
                "        result = 0\r\n",
                "        array = list(s)\r\n",
                "\r\n",
                "        while array:\r\n",
                "            char = array.pop(0)\r\n",
                "            \r\n",
                "            # 可能会有 4 和 9 这种情况\r\n",
                "            if char in num1:\r\n",
                "                i = num1.index(char)\r\n",
                "                # 右侧会出现如下字符, 就表示要进行 4 和 9\r\n",
                "                if i < 3:\r\n",
                "                    right_list = [num1[i+1], num5[i]]\r\n",
                "                else:\r\n",
                "                    right_list = []\r\n",
                "                if array and array[0] in right_list:\r\n",
                "                    char2 = array.pop(0)\r\n",
                "                    if char2 in num1:\r\n",
                "                        result += 10 ** (i+1) - 10 ** i\r\n",
                "                    else:\r\n",
                "                        result += 5 * (10 ** i) - 10 ** i\r\n",
                "                else:\r\n",
                "                    result += 10 ** i\r\n",
                "            else:\r\n",
                "                i = num5.index(char)\r\n",
                "                result += 5 * (10 ** i)\r\n",
                "        \r\n",
                "        return result\r\n"
            ],
            "outputs": [],
            "metadata": {}
        },
        {
            "cell_type": "code",
            "execution_count": 30,
            "source": [
                "Solution().romanToInt(\"III\")"
            ],
            "outputs": [
                {
                    "output_type": "execute_result",
                    "data": {
                        "text/plain": [
                            "3"
                        ]
                    },
                    "metadata": {},
                    "execution_count": 30
                }
            ],
            "metadata": {}
        },
        {
            "cell_type": "code",
            "execution_count": 29,
            "source": [
                "Solution().romanToInt(\"IV\")"
            ],
            "outputs": [
                {
                    "output_type": "execute_result",
                    "data": {
                        "text/plain": [
                            "4"
                        ]
                    },
                    "metadata": {},
                    "execution_count": 29
                }
            ],
            "metadata": {}
        },
        {
            "cell_type": "code",
            "execution_count": 28,
            "source": [
                "Solution().romanToInt(\"IX\")"
            ],
            "outputs": [
                {
                    "output_type": "execute_result",
                    "data": {
                        "text/plain": [
                            "9"
                        ]
                    },
                    "metadata": {},
                    "execution_count": 28
                }
            ],
            "metadata": {}
        },
        {
            "cell_type": "code",
            "execution_count": 26,
            "source": [
                "Solution().romanToInt(\"LVIII\")"
            ],
            "outputs": [
                {
                    "output_type": "execute_result",
                    "data": {
                        "text/plain": [
                            "58"
                        ]
                    },
                    "metadata": {},
                    "execution_count": 26
                }
            ],
            "metadata": {}
        },
        {
            "cell_type": "code",
            "execution_count": 27,
            "source": [
                "Solution().romanToInt(\"MCMXCIV\")"
            ],
            "outputs": [
                {
                    "output_type": "execute_result",
                    "data": {
                        "text/plain": [
                            "1994"
                        ]
                    },
                    "metadata": {},
                    "execution_count": 27
                }
            ],
            "metadata": {}
        },
        {
            "cell_type": "code",
            "execution_count": 31,
            "source": [
                "Solution().romanToInt(\"CMXCIX\")"
            ],
            "outputs": [
                {
                    "output_type": "execute_result",
                    "data": {
                        "text/plain": [
                            "999"
                        ]
                    },
                    "metadata": {},
                    "execution_count": 31
                }
            ],
            "metadata": {}
        }
    ],
    "metadata": {
        "orig_nbformat": 4,
        "language_info": {
            "name": "python"
        }
    },
    "nbformat": 4,
    "nbformat_minor": 2
}