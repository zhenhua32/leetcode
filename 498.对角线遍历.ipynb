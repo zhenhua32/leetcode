{
 "cells": [
  {
   "cell_type": "code",
   "execution_count": 7,
   "metadata": {},
   "outputs": [],
   "source": [
    "from typing import List\n",
    "\n",
    "\n",
    "class Solution:\n",
    "    def findDiagonalOrder(self, mat: List[List[int]]) -> List[int]:\n",
    "        m, n = len(mat), len(mat[0])\n",
    "        res = []\n",
    "        # m + n - 1 条对角线\n",
    "        for i in range(m + n - 1):\n",
    "            if i % 2 == 0:\n",
    "                # 向右上的\n",
    "                for j in range(max(i - m + 1, 0), min(i + 1, n)):\n",
    "                    print(mat[i - j][j], (i - j, j))\n",
    "                    res.append(mat[i - j][j])\n",
    "            else:\n",
    "                # 向左下的\n",
    "                for j in range(max(i - n + 1, 0), min(i + 1, m)):\n",
    "                    print(mat[j][i - j], (j, i - j))\n",
    "                    res.append(mat[j][i - j])\n",
    "\n",
    "            print(\"----\")\n",
    "        return res"
   ]
  },
  {
   "cell_type": "code",
   "execution_count": 8,
   "metadata": {},
   "outputs": [
    {
     "name": "stdout",
     "output_type": "stream",
     "text": [
      "1 (0, 0)\n",
      "----\n",
      "2 (0, 1)\n",
      "4 (1, 0)\n",
      "----\n",
      "7 (2, 0)\n",
      "5 (1, 1)\n",
      "3 (0, 2)\n",
      "----\n",
      "6 (1, 2)\n",
      "8 (2, 1)\n",
      "----\n",
      "9 (2, 2)\n",
      "----\n"
     ]
    },
    {
     "data": {
      "text/plain": [
       "[1, 2, 4, 7, 5, 3, 6, 8, 9]"
      ]
     },
     "execution_count": 8,
     "metadata": {},
     "output_type": "execute_result"
    }
   ],
   "source": [
    "# (0, 0)\n",
    "# (0, 1), (1, 0)\n",
    "# (2, 0), (1, 1), (0, 2)\n",
    "# (1, 2), (2, 1)\n",
    "# (2, 2)\n",
    "\n",
    "Solution().findDiagonalOrder([[1,2,3],[4,5,6],[7,8,9]])"
   ]
  }
 ],
 "metadata": {
  "kernelspec": {
   "display_name": "base",
   "language": "python",
   "name": "python3"
  },
  "language_info": {
   "codemirror_mode": {
    "name": "ipython",
    "version": 3
   },
   "file_extension": ".py",
   "mimetype": "text/x-python",
   "name": "python",
   "nbconvert_exporter": "python",
   "pygments_lexer": "ipython3",
   "version": "3.9.7"
  }
 },
 "nbformat": 4,
 "nbformat_minor": 2
}
