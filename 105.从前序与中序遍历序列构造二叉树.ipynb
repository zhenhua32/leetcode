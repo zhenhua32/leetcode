{
 "cells": [
  {
   "cell_type": "code",
   "execution_count": 1,
   "metadata": {},
   "outputs": [],
   "source": [
    "class TreeNode:\n",
    "    def __init__(self, val=0, left=None, right=None):\n",
    "        self.val = val\n",
    "        self.left = left\n",
    "        self.right = right"
   ]
  },
  {
   "cell_type": "code",
   "execution_count": 2,
   "metadata": {},
   "outputs": [],
   "source": [
    "# 以前的解答\n",
    "class Solution:\n",
    "    def buildTree(self, preorder, inorder):\n",
    "        \"\"\"\n",
    "        :type preorder: List[int]\n",
    "        :type inorder: List[int]\n",
    "        :rtype: TreeNode\n",
    "        \"\"\"\n",
    "        if len(preorder) == 1:\n",
    "          return TreeNode(preorder[0])\n",
    "        elif not preorder:\n",
    "          return None\n",
    "        \n",
    "        # 前序的第一个节点是根节点\n",
    "        root_val = preorder[0]\n",
    "        # 然后找到中序遍历中根节点的位置, 划分成两个子树\n",
    "        index = inorder.index(root_val)\n",
    "        root = TreeNode(root_val)\n",
    "        \n",
    "        # 递归, 划分出新的前序和中序\n",
    "        preorder = preorder[1:]\n",
    "        root.left = self.buildTree(preorder[:index], inorder[:index])\n",
    "        root.right = self.buildTree(preorder[index:], inorder[index+1:])\n",
    "        \n",
    "        return root"
   ]
  },
  {
   "cell_type": "code",
   "execution_count": null,
   "metadata": {},
   "outputs": [],
   "source": [
    "from typing import List\n",
    "\n",
    "\"\"\"\n",
    "官方的题解\n",
    "\n",
    "也是递归, 但是预先保存了中序遍历的值 => 索引, 从而可以快速定位根节点在中序遍历中的位置\n",
    "\"\"\"\n",
    "\n",
    "class Solution:\n",
    "    def buildTree(self, preorder: List[int], inorder: List[int]) -> TreeNode:\n",
    "        def myBuildTree(preorder_left: int, preorder_right: int, inorder_left: int, inorder_right: int):\n",
    "            if preorder_left > preorder_right:\n",
    "                return None\n",
    "            \n",
    "            # 前序遍历中的第一个节点就是根节点\n",
    "            preorder_root = preorder_left\n",
    "            # 在中序遍历中定位根节点\n",
    "            inorder_root = index[preorder[preorder_root]]\n",
    "            \n",
    "            # 先把根节点建立出来\n",
    "            root = TreeNode(preorder[preorder_root])\n",
    "            # 得到左子树中的节点数目\n",
    "            size_left_subtree = inorder_root - inorder_left\n",
    "            # 递归地构造左子树，并连接到根节点\n",
    "            # 先序遍历中「从 左边界+1 开始的 size_left_subtree」个元素就对应了中序遍历中「从 左边界 开始到 根节点定位-1」的元素\n",
    "            root.left = myBuildTree(preorder_left + 1, preorder_left + size_left_subtree, inorder_left, inorder_root - 1)\n",
    "            # 递归地构造右子树，并连接到根节点\n",
    "            # 先序遍历中「从 左边界+1+左子树节点数目 开始到 右边界」的元素就对应了中序遍历中「从 根节点定位+1 到 右边界」的元素\n",
    "            root.right = myBuildTree(preorder_left + size_left_subtree + 1, preorder_right, inorder_root + 1, inorder_right)\n",
    "            return root\n",
    "        \n",
    "        # 树的节点数\n",
    "        n = len(preorder)\n",
    "        # 构造哈希映射，帮助我们快速定位根节点. 值 => 索引\n",
    "        index = {element: i for i, element in enumerate(inorder)}\n",
    "        return myBuildTree(0, n - 1, 0, n - 1)\n"
   ]
  }
 ],
 "metadata": {
  "kernelspec": {
   "display_name": "base",
   "language": "python",
   "name": "python3"
  },
  "language_info": {
   "codemirror_mode": {
    "name": "ipython",
    "version": 3
   },
   "file_extension": ".py",
   "mimetype": "text/x-python",
   "name": "python",
   "nbconvert_exporter": "python",
   "pygments_lexer": "ipython3",
   "version": "3.9.7"
  },
  "orig_nbformat": 4
 },
 "nbformat": 4,
 "nbformat_minor": 2
}
