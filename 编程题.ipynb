{
 "cells": [
  {
   "cell_type": "markdown",
   "metadata": {},
   "source": [
    "1. 汽水瓶\n",
    "\n",
    "某商店规定：三个空汽水瓶可以换一瓶汽水，允许向老板借空汽水瓶（但是必须要归还）。\n",
    "小张手上有n个空汽水瓶，她想知道自己最多可以喝到多少瓶汽水。\n",
    "\n",
    "数据范围：输入的正整数满足 1≤n≤100 "
   ]
  },
  {
   "cell_type": "code",
   "execution_count": 11,
   "metadata": {},
   "outputs": [],
   "source": [
    "def my_func(n: int):\n",
    "    if n < 2:\n",
    "        print(0)\n",
    "        return\n",
    "    \n",
    "    # 借一个瓶子, 喝完后借的瓶子也还回去\n",
    "    if n == 2:\n",
    "        print(1)\n",
    "        return\n",
    "\n",
    "    dp = [0] * (n + 1)\n",
    "    dp[2] = 1\n",
    "    for i in range(3, n + 1):\n",
    "        total = i // 3\n",
    "        left = i % 3\n",
    "        # 这次有的瓶数就是 total(第一次换的瓶数) + 剩余的瓶数\n",
    "        dp[i] = total + dp[left + total]\n",
    "\n",
    "    print(dp[n])"
   ]
  },
  {
   "cell_type": "code",
   "execution_count": 13,
   "metadata": {},
   "outputs": [
    {
     "name": "stdout",
     "output_type": "stream",
     "text": [
      "40\n"
     ]
    }
   ],
   "source": [
    "my_func(81)"
   ]
  },
  {
   "cell_type": "code",
   "execution_count": null,
   "metadata": {},
   "outputs": [],
   "source": [
    "import sys\n",
    "\n",
    "for line in sys.stdin:\n",
    "    n = int(line.strip())\n",
    "    # 遇到 0 表示结束\n",
    "    if n == 0:\n",
    "        break\n",
    "    my_func(n)"
   ]
  },
  {
   "cell_type": "markdown",
   "metadata": {},
   "source": [
    "2. 明明的随机数\n",
    "\n",
    "明明生成了N个1到500之间的随机整数。请你删去其中重复的数字，即相同的数字只保留一个，把其余相同的数去掉，然后再把这些数从小到大排序，按照排好的顺序输出。\n",
    "\n",
    "数据范围: 1≤n≤1000, 输入的数字大小满足 1≤val≤500"
   ]
  },
  {
   "cell_type": "code",
   "execution_count": 14,
   "metadata": {},
   "outputs": [],
   "source": [
    "def my_func(nums: list):\n",
    "    nums = sorted(set(nums))\n",
    "    for num in nums:\n",
    "        print(num)"
   ]
  },
  {
   "cell_type": "code",
   "execution_count": null,
   "metadata": {},
   "outputs": [],
   "source": [
    "import sys\n",
    "\n",
    "count = int(input().strip())\n",
    "nums = [int(input().strip()) for x in range(count)]\n",
    "my_func(nums)"
   ]
  },
  {
   "cell_type": "markdown",
   "metadata": {},
   "source": [
    "3.进制转换\n",
    "\n",
    "写出一个程序，接受一个十六进制的数，输出该数值的十进制表示。"
   ]
  },
  {
   "cell_type": "code",
   "execution_count": 19,
   "metadata": {},
   "outputs": [
    {
     "name": "stdout",
     "output_type": "stream",
     "text": [
      "170\n"
     ]
    }
   ],
   "source": [
    "nums = str(input().strip())\n",
    "\n",
    "# 前两个字符不要\n",
    "nums = nums[2:]\n",
    "\n",
    "total = 0\n",
    "size = 1\n",
    "char_map = {\n",
    "    'A': 10,\n",
    "    'B': 11,\n",
    "    'C': 12,\n",
    "    'D': 13,\n",
    "    'E': 14,\n",
    "    'F': 15,\n",
    "}\n",
    "for char in nums[::-1]:\n",
    "    if char in char_map:\n",
    "        total += char_map[char] * size\n",
    "    else:\n",
    "        total += int(char) * size\n",
    "    \n",
    "    size *= 16\n",
    "\n",
    "print(total)"
   ]
  },
  {
   "cell_type": "code",
   "execution_count": 20,
   "metadata": {},
   "outputs": [
    {
     "data": {
      "text/plain": [
       "17"
      ]
     },
     "execution_count": 20,
     "metadata": {},
     "output_type": "execute_result"
    }
   ],
   "source": [
    "# 尴尬, 内置的函数都没想起来\n",
    "int(\"0x11\", 16)"
   ]
  }
 ],
 "metadata": {
  "kernelspec": {
   "display_name": "base",
   "language": "python",
   "name": "python3"
  },
  "language_info": {
   "codemirror_mode": {
    "name": "ipython",
    "version": 3
   },
   "file_extension": ".py",
   "mimetype": "text/x-python",
   "name": "python",
   "nbconvert_exporter": "python",
   "pygments_lexer": "ipython3",
   "version": "3.8.5"
  },
  "orig_nbformat": 4
 },
 "nbformat": 4,
 "nbformat_minor": 2
}
